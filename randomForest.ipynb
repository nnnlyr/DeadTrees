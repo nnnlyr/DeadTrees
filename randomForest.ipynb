{
 "cells": [
  {
   "cell_type": "code",
   "execution_count": 76,
   "id": "0040f304-ead3-49d9-998d-3deeb362514f",
   "metadata": {},
   "outputs": [],
   "source": [
    "import os\n",
    "import random\n",
    "import shutil\n",
    "import numpy as np\n",
    "import cv2\n",
    "from sklearn.metrics import classification_report, f1_score, confusion_matrix, accuracy_score, precision_score, recall_score, jaccard_score\n",
    "from sklearn.ensemble import RandomForestClassifier\n",
    "from sklearn.model_selection import train_test_split\n",
    "from scipy.ndimage import generic_filter\n",
    "from sklearn.utils import shuffle"
   ]
  },
  {
   "cell_type": "code",
   "execution_count": 77,
   "id": "83e0e898",
   "metadata": {},
   "outputs": [],
   "source": [
    "# Get mean and variance\n",
    "def getMeanAndVar(channel, window = 5):\n",
    "    mean = cv2.blur(channel, (window, window))\n",
    "    var = generic_filter(channel, np.var, size = window)\n",
    "    return mean, var"
   ]
  },
  {
   "cell_type": "code",
   "execution_count": 78,
   "id": "32d1cb81",
   "metadata": {},
   "outputs": [],
   "source": [
    "def extractFeatures(rgb_img, nrg_img, window = 5):\n",
    "    h, w, _ = rgb_img.shape\n",
    "    nrg = nrg_img[:, :, 0].astype(np.float32)\n",
    "\n",
    "    # Extract the pixel\n",
    "    r = rgb_img[:, :, 2].astype(np.float32)\n",
    "    g = rgb_img[:, :, 1].astype(np.float32)\n",
    "    b = rgb_img[:, :, 0].astype(np.float32)\n",
    "    ndvi = (nrg - r) / (nrg + r + 1e-6)\n",
    "\n",
    "    # Get mean and variance of each chanel\n",
    "    r_mean, r_var = getMeanAndVar(r, window)\n",
    "    g_mean, g_var = getMeanAndVar(g, window)\n",
    "    b_mean, b_var = getMeanAndVar(b, window)\n",
    "    nrg_mean, nrg_var = getMeanAndVar(nrg, window)\n",
    "    ndvi_mean, ndvi_var = getMeanAndVar(ndvi, window)\n",
    "\n",
    "     # Get coordinate information\n",
    "    x_coords, y_coords = np.meshgrid(np.arange(w), np.arange(h))\n",
    "    x_norm = (x_coords / w).astype(np.float32)\n",
    "    y_norm = (y_coords / h).astype(np.float32)\n",
    "\n",
    "    # Concatenate all features\n",
    "    X = np.stack([\n",
    "        r.reshape(-1), g.reshape(-1), b.reshape(-1), nrg.reshape(-1),\n",
    "        r_mean.reshape(-1), g_mean.reshape(-1), b_mean.reshape(-1), nrg_mean.reshape(-1),\n",
    "        r_var.reshape(-1), g_var.reshape(-1), b_var.reshape(-1), nrg_var.reshape(-1), ndvi.reshape(-1), \n",
    "        ndvi_mean.reshape(-1), ndvi_var.reshape(-1), x_norm.reshape(-1), y_norm.reshape(-1)\n",
    "    ], axis=1)\n",
    "\n",
    "    return X"
   ]
  },
  {
   "cell_type": "code",
   "execution_count": 79,
   "id": "8fec29d3",
   "metadata": {},
   "outputs": [],
   "source": [
    "# Import Dataset\n",
    "nrg_root = './data/NRG_images'\n",
    "rgb_root = './data/RGB_images/'\n",
    "mask_root = './data/masks'\n",
    "\n",
    "all_files = []\n",
    "\n",
    "for file in os.listdir(nrg_root):\n",
    "    nrg_path = os.path.join(nrg_root, file)\n",
    "    rgb_file = file.replace(\"NRG\", \"RGB\")\n",
    "    rgb_path = os.path.join(rgb_root, rgb_file)\n",
    "    mask_file = file.replace(\"NRG\", \"mask\")\n",
    "    mask_path = os.path.join(mask_root, mask_file)\n",
    "\n",
    "    if os.path.exists(rgb_path) and os.path.exists(mask_path):\n",
    "        all_files.append((mask_file, file, rgb_file))\n",
    "\n",
    "# Split into train set and test set\n",
    "train_files, test_files = train_test_split(all_files, test_size = 0.2, random_state = 42)"
   ]
  },
  {
   "cell_type": "code",
   "execution_count": 80,
   "id": "ca9bd9e8",
   "metadata": {},
   "outputs": [],
   "source": [
    "X_train = []\n",
    "y_train = []\n",
    "\n",
    "# Load and split the images in train set\n",
    "for mask_file, file, rgb_file in train_files:\n",
    "    mask = cv2.resize(cv2.imread(os.path.join(mask_root, mask_file), cv2.IMREAD_GRAYSCALE), (128, 128), interpolation = cv2.INTER_NEAREST)\n",
    "    mask = (mask > 128).astype(np.uint8)\n",
    "    nrg_img = cv2.resize(cv2.imread(os.path.join(nrg_root, file), cv2.IMREAD_UNCHANGED), (128, 128), interpolation = cv2.INTER_AREA)\n",
    "    rgb_img = cv2.resize(cv2.imread(os.path.join(rgb_root, rgb_file), cv2.IMREAD_UNCHANGED), (128, 128), interpolation = cv2.INTER_AREA)\n",
    "    X = extractFeatures(rgb_img, nrg_img, window = 5)\n",
    "    X_train.append(X)\n",
    "    y_train.append(mask.reshape(-1))\n",
    "\n",
    "X_train = np.vstack(X_train)\n",
    "y_train = np.hstack(y_train)"
   ]
  },
  {
   "cell_type": "code",
   "execution_count": 81,
   "id": "6c49dc29",
   "metadata": {},
   "outputs": [],
   "source": [
    "X_test = []\n",
    "y_test = []\n",
    "\n",
    "# Load and split the images in test set\n",
    "for mask_file, file, rgb_file in test_files:\n",
    "    mask = cv2.resize(cv2.imread(os.path.join(mask_root, mask_file), cv2.IMREAD_GRAYSCALE), (128, 128), interpolation = cv2.INTER_NEAREST)\n",
    "    mask = (mask > 128).astype(np.uint8)\n",
    "    nrg_img = cv2.resize(cv2.imread(os.path.join(nrg_root, file), cv2.IMREAD_UNCHANGED), (128, 128), interpolation = cv2.INTER_AREA)\n",
    "    rgb_img = cv2.resize(cv2.imread(os.path.join(rgb_root, rgb_file), cv2.IMREAD_UNCHANGED), (128, 128), interpolation = cv2.INTER_AREA)\n",
    "    X = extractFeatures(rgb_img, nrg_img, window = 5)\n",
    "    X_test.append(X)\n",
    "    y_test.append(mask.reshape(-1))\n",
    "\n",
    "X_test = np.vstack(X_test)\n",
    "y_test = np.hstack(y_test)"
   ]
  },
  {
   "cell_type": "code",
   "execution_count": 82,
   "id": "f18b6619",
   "metadata": {},
   "outputs": [],
   "source": [
    "# Random Forest\n",
    "random_tree_model = RandomForestClassifier(n_estimators = 50, random_state = 10, max_depth = 15, n_jobs = -1, class_weight = 'balanced')\n",
    "random_tree_model.fit(X_train, y_train)\n",
    "# y_pred = random_tree_model.predict(X_test)\n",
    "avg_proba = random_tree_model.predict_proba(X_test)[:, 1]\n",
    "y_pred = (avg_proba > 0.748).astype(int)\n",
    "\n",
    "# Get the evaluation metrics\n",
    "accuracy = accuracy_score(y_test, y_pred)\n",
    "f1 = f1_score(y_test, y_pred)\n",
    "precision = precision_score(y_test, y_pred)\n",
    "recall = recall_score(y_test, y_pred)\n",
    "iou = jaccard_score(y_test, y_pred)\n"
   ]
  },
  {
   "cell_type": "code",
   "execution_count": 83,
   "id": "aba75ea0",
   "metadata": {},
   "outputs": [
    {
     "name": "stdout",
     "output_type": "stream",
     "text": [
      "-----------Random Forest----------------\n",
      "IoU:  0.1909\n",
      "Accuracy:  0.9574\n",
      "Precision:  0.2467\n",
      "Recall:  0.4577\n",
      "F1 Score:  0.3206\n",
      "Confusion Matrix:\n",
      "[[1381330   44793]\n",
      " [  17383   14670]]\n",
      "Classification Report:\n",
      "               precision    recall  f1-score   support\n",
      "\n",
      "           0       0.99      0.97      0.98   1426123\n",
      "           1       0.25      0.46      0.32     32053\n",
      "\n",
      "    accuracy                           0.96   1458176\n",
      "   macro avg       0.62      0.71      0.65   1458176\n",
      "weighted avg       0.97      0.96      0.96   1458176\n",
      "\n"
     ]
    }
   ],
   "source": [
    "# Outcome output\n",
    "print('-----------Random Forest----------------')\n",
    "print(f'IoU: {iou: .4f}')\n",
    "print(f'Accuracy: {accuracy: .4f}')\n",
    "print(f'Precision: {precision: .4f}')\n",
    "print(f'Recall: {recall: .4f}')\n",
    "print(f'F1 Score: {f1: .4f}')\n",
    "print(f'Confusion Matrix:')\n",
    "print(confusion_matrix(y_true = y_test, y_pred = y_pred))\n",
    "print(\"Classification Report:\\n\", classification_report(y_test, y_pred))"
   ]
  }
 ],
 "metadata": {
  "kernelspec": {
   "display_name": "pyt",
   "language": "python",
   "name": "python3"
  },
  "language_info": {
   "codemirror_mode": {
    "name": "ipython",
    "version": 3
   },
   "file_extension": ".py",
   "mimetype": "text/x-python",
   "name": "python",
   "nbconvert_exporter": "python",
   "pygments_lexer": "ipython3",
   "version": "3.12.2"
  }
 },
 "nbformat": 4,
 "nbformat_minor": 5
}
