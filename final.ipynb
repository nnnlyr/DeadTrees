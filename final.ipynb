{
 "cells": [
  {
   "cell_type": "markdown",
   "id": "30f349d0",
   "metadata": {},
   "source": [
    "## Import Libraries"
   ]
  },
  {
   "cell_type": "code",
   "execution_count": 4,
   "id": "3c80aefc",
   "metadata": {},
   "outputs": [],
   "source": [
    "import os\n",
    "from sklearn.model_selection import train_test_split\n",
    "from sklearn.svm import SVC\n",
    "from xgboost import XGBClassifier\n",
    "import cv2\n",
    "import numpy as np\n",
    "from scipy.ndimage import sobel, generic_filter\n",
    "from skimage.filters.rank import entropy\n",
    "from skimage.morphology import disk\n",
    "import random\n",
    "import shutil\n",
    "from sklearn.metrics import classification_report, f1_score, confusion_matrix, accuracy_score, precision_score, recall_score, jaccard_score\n",
    "from sklearn.ensemble import RandomForestClassifier\n",
    "from sklearn.utils import shuffle\n",
    "from PIL import Image\n",
    "import matplotlib.pyplot as plt\n",
    "# from tqdm import tqdm\n",
    "import torch\n",
    "import torch.nn as nn\n",
    "import torch.optim as optim\n",
    "from torch.utils.data import Dataset, DataLoader\n",
    "import torchvision.transforms as transforms\n",
    "import torchvision.transforms.functional as TF\n",
    "# import segmentation_models_pytorch as smp"
   ]
  },
  {
   "cell_type": "markdown",
   "id": "41429c62",
   "metadata": {},
   "source": [
    "## Data preprocessing (for image segmentation and machine learning)"
   ]
  },
  {
   "cell_type": "code",
   "execution_count": 5,
   "id": "ba523f82",
   "metadata": {},
   "outputs": [],
   "source": [
    "# Load and sort image file names\n",
    "mask_path = './data/masks/'\n",
    "nrg_path = './data/NRG_images/'\n",
    "grb_path = './data/RGB_images/'\n",
    "\n",
    "mask_files = sorted([f for f in os.listdir(mask_path) if f.endswith('.png')])\n",
    "nrg_files = sorted([f for f in os.listdir(nrg_path) if f.endswith('.png')])\n",
    "grb_files = sorted([f for f in os.listdir(grb_path) if f.endswith('.png')])\n",
    "\n",
    "# Combine file names into tuples and split into train/test sets\n",
    "all_files = list(zip(mask_files, nrg_files, grb_files))\n",
    "train_files, test_files = train_test_split(all_files, test_size=0.2, random_state=42)"
   ]
  },
  {
   "cell_type": "code",
   "execution_count": 6,
   "id": "4892e144",
   "metadata": {},
   "outputs": [],
   "source": [
    "# Load and resize image\n",
    "def load_and_resize(image_path, size=(128, 128), is_mask=False):\n",
    "    if is_mask:\n",
    "        img = cv2.imread(image_path, cv2.IMREAD_GRAYSCALE)\n",
    "        resized = cv2.resize(img, size, interpolation=cv2.INTER_NEAREST)\n",
    "    else:\n",
    "        img = cv2.imread(image_path, cv2.IMREAD_UNCHANGED)\n",
    "        resized = cv2.resize(img, size, interpolation=cv2.INTER_AREA)\n",
    "    return resized\n",
    "\n",
    "# Get mean and variance\n",
    "def getMeanAndVar(channel, window = 5):\n",
    "    mean = cv2.blur(channel, (window, window))\n",
    "    var = generic_filter(channel, np.var, size = window)\n",
    "    return mean, var\n",
    "\n",
    "# Extract features from one image\n",
    "def extractFeatures(mask_img, nrg_img, rgb_img, window = 5):\n",
    "    h, w, _ = rgb_img.shape\n",
    "    nrg = nrg_img[:, :, 0].astype(np.float32)\n",
    "    r = rgb_img[:, :, 2].astype(np.float32)\n",
    "    g = rgb_img[:, :, 1].astype(np.float32)\n",
    "    b = rgb_img[:, :, 0].astype(np.float32)\n",
    "    ndvi = (nrg - r) / (nrg + r + 1e-6)\n",
    "    gndvi = (nrg - g) / (nrg + g + 1e-6)\n",
    "    \n",
    "    # Sobel strength\n",
    "    sobel_x = sobel(ndvi, axis=0)\n",
    "    sobel_y = sobel(ndvi, axis=1)\n",
    "    ndvi_sobel = np.hypot(sobel_x, sobel_y)\n",
    "\n",
    "    # Local entropy: texture chaos\n",
    "    gray = cv2.cvtColor(rgb_img, cv2.COLOR_BGR2GRAY).astype(np.uint8)\n",
    "    entropy_img = entropy(gray, disk(3))\n",
    "    hsv = cv2.cvtColor(rgb_img, cv2.COLOR_BGR2HSV)\n",
    "    saturation = hsv[:, :, 1].astype(np.float32)\n",
    "    lab = cv2.cvtColor(rgb_img, cv2.COLOR_BGR2LAB)\n",
    "    l = lab[:, :, 0].astype(np.float32)\n",
    "\n",
    "    # Get mean and variance of each chanel\n",
    "    r_mean, r_var = getMeanAndVar(r, window)\n",
    "    g_mean, g_var = getMeanAndVar(g, window)\n",
    "    b_mean, b_var = getMeanAndVar(b, window)\n",
    "    nrg_mean, nrg_var = getMeanAndVar(nrg, window)\n",
    "    ndvi_mean, ndvi_var = getMeanAndVar(ndvi, window)\n",
    "\n",
    "     # Get coordinate information\n",
    "    x_coords, y_coords = np.meshgrid(np.arange(w), np.arange(h))\n",
    "    x_norm = (x_coords / w).astype(np.float32)\n",
    "    y_norm = (y_coords / h).astype(np.float32)\n",
    "\n",
    "    # Concatenate all features\n",
    "    X = np.stack([\n",
    "        r.reshape(-1), g.reshape(-1), b.reshape(-1), nrg.reshape(-1),\n",
    "        r_mean.reshape(-1), g_mean.reshape(-1), b_mean.reshape(-1), nrg_mean.reshape(-1),\n",
    "        r_var.reshape(-1), g_var.reshape(-1), b_var.reshape(-1), nrg_var.reshape(-1), ndvi.reshape(-1), \n",
    "        ndvi_mean.reshape(-1), ndvi_var.reshape(-1), x_norm.reshape(-1), y_norm.reshape(-1),\n",
    "        gndvi.reshape(-1), ndvi_sobel.reshape(-1), entropy_img.reshape(-1), saturation.reshape(-1), l.reshape(-1)\n",
    "    ], axis=1)\n",
    "\n",
    "    y = (mask_img > 127).astype(np.uint8).reshape(-1)\n",
    "\n",
    "    return X, y"
   ]
  },
  {
   "cell_type": "code",
   "execution_count": 7,
   "id": "27fbe94f",
   "metadata": {},
   "outputs": [],
   "source": [
    "# Build training set features\n",
    "X_train, y_train = [], []\n",
    "for mask_name, nrg_name, rgb_name in train_files:\n",
    "    mask = load_and_resize(os.path.join(mask_path, mask_name), is_mask=True)\n",
    "    nrg = load_and_resize(os.path.join(nrg_path, nrg_name))\n",
    "    rgb = load_and_resize(os.path.join(grb_path, rgb_name))\n",
    "    feats, labels = extractFeatures(mask, nrg, rgb)\n",
    "    X_train.append(feats)\n",
    "    y_train.append(labels)\n",
    "X_train = np.vstack(X_train)\n",
    "y_train = np.hstack(y_train)\n",
    "\n",
    "# Build test set features\n",
    "X_test, y_test = [], []\n",
    "for mask_name, nrg_name, rgb_name in test_files:\n",
    "    mask = load_and_resize(os.path.join(mask_path, mask_name), is_mask=True)\n",
    "    nrg = load_and_resize(os.path.join(nrg_path, nrg_name))\n",
    "    rgb = load_and_resize(os.path.join(grb_path, rgb_name))\n",
    "    feats, labels = extractFeatures(mask, nrg, rgb)\n",
    "    X_test.append(feats)\n",
    "    y_test.append(labels)\n",
    "X_test = np.vstack(X_test)\n",
    "y_test = np.hstack(y_test)"
   ]
  },
  {
   "cell_type": "markdown",
   "id": "f59848e0",
   "metadata": {},
   "source": [
    "## Image Segmentation"
   ]
  },
  {
   "cell_type": "code",
   "execution_count": 44,
   "id": "47e84c14",
   "metadata": {},
   "outputs": [
    {
     "name": "stdout",
     "output_type": "stream",
     "text": [
      "-----------Image Segmentation----------------\n",
      "Accuracy: 0.8085\n",
      "Precision: 0.0547\n",
      "Recall: 0.5610\n",
      "F1 Score: 0.0996\n",
      "IOU Score: 0.0524\n",
      "Confusion Matrix:\n",
      " [[5803987 1333115]\n",
      " [  60310   77084]]\n",
      "Classification Report:\n",
      "               precision    recall  f1-score   support\n",
      "\n",
      "           0       0.99      0.81      0.89   7137102\n",
      "           1       0.05      0.56      0.10    137394\n",
      "\n",
      "    accuracy                           0.81   7274496\n",
      "   macro avg       0.52      0.69      0.50   7274496\n",
      "weighted avg       0.97      0.81      0.88   7274496\n",
      "\n"
     ]
    }
   ],
   "source": [
    "# Traditional method: image segmentation\n",
    "X = np.concatenate((X_train, X_test), axis=0)\n",
    "y = np.concatenate((y_train, y_test), axis=0)\n",
    "\n",
    "entroy_img = X[:,19]\n",
    "ndvi = X[:,12]\n",
    "\n",
    "pred_mask = ((entroy_img > 0.9) & (ndvi < 0)).astype(np.uint8)\n",
    "\n",
    "# Report various indicators\n",
    "print('-----------Image Segmentation----------------')\n",
    "print(f\"Accuracy: {accuracy_score(y, pred_mask):.4f}\")\n",
    "print(f'Precision: {precision_score(y, pred_mask):.4f}')\n",
    "print(f'Recall: {recall_score(y, pred_mask):.4f}')\n",
    "print(f'F1 Score: {f1_score(y, pred_mask):.4f}')\n",
    "print(f\"IOU Score: {jaccard_score(y, pred_mask):.4f}\")\n",
    "print(\"Confusion Matrix:\\n\", confusion_matrix(y, pred_mask))\n",
    "print(\"Classification Report:\\n\", classification_report(y, pred_mask))"
   ]
  },
  {
   "cell_type": "markdown",
   "id": "f4b7cdfe",
   "metadata": {},
   "source": [
    "## Machine Learning"
   ]
  },
  {
   "cell_type": "code",
   "execution_count": 45,
   "id": "6eca2ae5",
   "metadata": {},
   "outputs": [
    {
     "name": "stdout",
     "output_type": "stream",
     "text": [
      "-----------Voting Model----------------\n",
      "Accuracy: 0.9668\n",
      "Precision: 0.2325\n",
      "Recall: 0.3181\n",
      "F1 Score: 0.2686\n",
      "IOU Score: 0.1552\n",
      "Confusion Matrix:\n",
      " [[1400842   29372]\n",
      " [  19066    8896]]\n",
      "Classification Report:\n",
      "               precision    recall  f1-score   support\n",
      "\n",
      "           0       0.99      0.98      0.98   1430214\n",
      "           1       0.23      0.32      0.27     27962\n",
      "\n",
      "    accuracy                           0.97   1458176\n",
      "   macro avg       0.61      0.65      0.63   1458176\n",
      "weighted avg       0.97      0.97      0.97   1458176\n",
      "\n"
     ]
    }
   ],
   "source": [
    "# SVM & XGBoost Voting Model\n",
    "\n",
    "# Resample the training set\n",
    "def sample_balanced(X, y, n_pos, n_neg, random_state=42):\n",
    "    np.random.seed(random_state)\n",
    "\n",
    "    pos_indices = np.where(y == 1)[0]\n",
    "    neg_indices = np.where(y == 0)[0]\n",
    "\n",
    "    pos_sample = np.random.choice(pos_indices, size=min(n_pos, len(pos_indices)), replace=False)\n",
    "    neg_sample = np.random.choice(neg_indices, size=min(n_neg, len(neg_indices)), replace=False)\n",
    "\n",
    "    selected_indices = np.concatenate([pos_sample, neg_sample])\n",
    "    np.random.shuffle(selected_indices)\n",
    "\n",
    "    return X[selected_indices], y[selected_indices]\n",
    "\n",
    "X_small, y_small = sample_balanced(X_train, y_train, n_pos=10000, n_neg=10000)\n",
    "\n",
    "# Choose suitable features for each model\n",
    "svm_features = [12, 13, 14, 19, 20]\n",
    "xgb_features = [12, 13, 14, 17, 18, 19, 20, 21]\n",
    "X_train_svm = X_small[:, svm_features]\n",
    "X_test_svm = X_test[:, svm_features]\n",
    "X_train_xgb = X_small[:, xgb_features]\n",
    "X_test_xgb = X_test[:, xgb_features]\n",
    "\n",
    "# SVM model is not suitable for training with too much data\n",
    "X_train_svm, y_train_svm = sample_balanced(X_train_svm, y_small, n_pos=5000, n_neg=2000)\n",
    "\n",
    "# Define and train SVM classifier\n",
    "svm_model = SVC(\n",
    "    C=10,\n",
    "    gamma=0.01,\n",
    "    kernel='rbf',\n",
    "    class_weight='balanced',\n",
    "    probability=True,\n",
    ")\n",
    "svm_model.fit(X_train_svm, y_train_svm)\n",
    "\n",
    "# Define and train XGBoost classifier\n",
    "xgb_clf = XGBClassifier(\n",
    "    objective='binary:logistic',\n",
    "    eval_metric='logloss',\n",
    "    max_depth=3,\n",
    "    learning_rate=0.05,\n",
    "    n_estimators=1000,\n",
    "    subsample=0.8,\n",
    "    colsample_bytree=0.8,\n",
    "    scale_pos_weight=1,\n",
    "    reg_alpha=5,\n",
    "    reg_lambda=10,\n",
    "    gamma=1,\n",
    "    use_label_encoder=False,\n",
    "    verbosity=0,\n",
    "    random_state=42\n",
    ")\n",
    "\n",
    "xgb_clf.fit(\n",
    "    X_train_xgb, y_small,\n",
    "    eval_set=[(X_test_xgb, y_test)],\n",
    "    verbose=False\n",
    ")\n",
    "\n",
    "# Predict\n",
    "proba_svm = svm_model.predict_proba(X_test_svm)[:, 1]\n",
    "proba_xgb = xgb_clf.predict_proba(X_test_xgb)[:, 1]\n",
    "avg_proba = 0.12 * proba_svm + 0.88 * proba_xgb\n",
    "best_preds = (avg_proba > 0.863).astype(int)\n",
    "\n",
    "# Report various indicators\n",
    "print('-----------Voting Model----------------')\n",
    "print(f\"Accuracy: {accuracy_score(y_test, best_preds):.4f}\")\n",
    "print(f'Precision: {precision_score(y_test, best_preds):.4f}')\n",
    "print(f'Recall: {recall_score(y_test, best_preds):.4f}')\n",
    "print(f'F1 Score: {f1_score(y_test, best_preds):.4f}')\n",
    "print(f\"IOU Score: {jaccard_score(y_test, best_preds):.4f}\")\n",
    "print(\"Confusion Matrix:\\n\", confusion_matrix(y_test, best_preds))\n",
    "print(\"Classification Report:\\n\", classification_report(y_test, best_preds))"
   ]
  },
  {
   "cell_type": "code",
   "execution_count": 8,
   "id": "050a17f3",
   "metadata": {},
   "outputs": [
    {
     "name": "stdout",
     "output_type": "stream",
     "text": [
      "-----------Random Forest----------------\n",
      "Accuracy: 0.9636\n",
      "Precision: 0.2500\n",
      "Recall: 0.4502\n",
      "F1 Score: 0.3215\n",
      "IOU Score: 0.1916\n",
      "Confusion Matrix:\n",
      " [[1392460   37754]\n",
      " [  15374   12588]]\n",
      "Classification Report:\n",
      "               precision    recall  f1-score   support\n",
      "\n",
      "           0       0.99      0.97      0.98   1430214\n",
      "           1       0.25      0.45      0.32     27962\n",
      "\n",
      "    accuracy                           0.96   1458176\n",
      "   macro avg       0.62      0.71      0.65   1458176\n",
      "weighted avg       0.97      0.96      0.97   1458176\n",
      "\n"
     ]
    }
   ],
   "source": [
    "# Random Forest\n",
    "\n",
    "# Choose suitable features for the model\n",
    "rf_features = [0, 1, 2, 3, 4, 5, 6, 7, 8, 9, 10, 11, 12, 13, 14, 15, 16]\n",
    "X_train_rf = X_train[:, rf_features]\n",
    "X_test_rf = X_test[:, rf_features]\n",
    "\n",
    "# Define and train Random Forest classifier\n",
    "random_tree_model = RandomForestClassifier(\n",
    "    n_estimators = 50,\n",
    "    random_state = 10,\n",
    "    max_depth = 15,\n",
    "    n_jobs = -1,\n",
    "    class_weight = 'balanced')\n",
    "random_tree_model.fit(X_train_rf, y_train)\n",
    "proba_forest = random_tree_model.predict_proba(X_test_rf)[:, 1]\n",
    "forest_pred = (proba_forest > 0.748).astype(int)\n",
    "\n",
    "# Report various indicators\n",
    "print('-----------Random Forest----------------')\n",
    "print(f\"Accuracy: {accuracy_score(y_test, forest_pred):.4f}\")\n",
    "print(f'Precision: {precision_score(y_test, forest_pred):.4f}')\n",
    "print(f'Recall: {recall_score(y_test, forest_pred):.4f}')\n",
    "print(f'F1 Score: {f1_score(y_test, forest_pred):.4f}')\n",
    "print(f\"IOU Score: {jaccard_score(y_test, forest_pred):.4f}\")\n",
    "print(\"Confusion Matrix:\\n\", confusion_matrix(y_test, forest_pred))\n",
    "print(\"Classification Report:\\n\", classification_report(y_test, forest_pred))"
   ]
  },
  {
   "cell_type": "markdown",
   "id": "95d7eaef",
   "metadata": {},
   "source": [
    "## Deep learning"
   ]
  },
  {
   "cell_type": "code",
   "execution_count": 10,
   "id": "19a66c6f",
   "metadata": {},
   "outputs": [],
   "source": [
    "class DeadTreeDataset(Dataset):\n",
    "    def __init__(self, rgb_paths, nir_paths, mask_paths, transform=None, img_size=128):\n",
    "        self.rgb_paths = rgb_paths\n",
    "        self.nir_paths = nir_paths\n",
    "        self.mask_paths = mask_paths\n",
    "        self.transform = transform\n",
    "        self.img_size = img_size\n",
    "\n",
    "    def __len__(self):\n",
    "        return len(self.rgb_paths)\n",
    "\n",
    "    def __getitem__(self, idx):\n",
    "        while True:\n",
    "            rgb = Image.open(self.rgb_paths[idx]).convert(\"RGB\")\n",
    "            nir = Image.open(self.nir_paths[idx]).convert(\"L\")\n",
    "            mask = Image.open(self.mask_paths[idx]).convert(\"L\")\n",
    "\n",
    "            rgb = rgb.resize((self.img_size, self.img_size))\n",
    "            nir = nir.resize((self.img_size, self.img_size))\n",
    "            mask = mask.resize((self.img_size, self.img_size), Image.NEAREST)\n",
    "\n",
    "            rgb = np.array(rgb)\n",
    "            nir = np.expand_dims(np.array(nir), axis=2)\n",
    "            mask_arr = np.array(mask).astype(np.float32) / 255.0\n",
    "            if mask_arr.max() == 255.0:\n",
    "                mask_arr /= 255.0\n",
    "            if mask_arr.max() == 0:\n",
    "                idx = (idx + 1) % len(self.rgb_paths)\n",
    "                continue\n",
    "\n",
    "            image = np.concatenate([rgb, nir], axis=2)\n",
    "\n",
    "            if self.transform:\n",
    "                image, mask_arr = self.transform(image, mask_arr)\n",
    "\n",
    "            image = torch.from_numpy(image.transpose((2, 0, 1))).float()\n",
    "            mask = torch.from_numpy(mask_arr).unsqueeze(0).float()\n",
    "\n",
    "            return image, mask"
   ]
  },
  {
   "cell_type": "code",
   "execution_count": 11,
   "id": "e05deadc",
   "metadata": {},
   "outputs": [],
   "source": [
    "class AdvancedTransforms4Channel:\n",
    "    def __init__(self, img_size=128):\n",
    "        self.img_size = img_size\n",
    "        self.mean = np.array([0.485, 0.456, 0.406, 0.5])\n",
    "        self.std = np.array([0.229, 0.224, 0.225, 0.5])\n",
    "        self.train = self._train_transform\n",
    "        self.val = self._val_transform\n",
    "\n",
    "    def _train_transform(self, image, mask):\n",
    "        if np.random.rand() > 0.5:\n",
    "            image = np.flip(image, axis=1)\n",
    "            mask = np.flip(mask, axis=1)\n",
    "        if np.random.rand() > 0.5:\n",
    "            image = np.flip(image, axis=0)\n",
    "            mask = np.flip(mask, axis=0)\n",
    "        if np.random.rand() > 0.5:\n",
    "            angle = np.random.randint(-15, 15)\n",
    "            M = cv2.getRotationMatrix2D((self.img_size//2, self.img_size//2), angle, 1)\n",
    "            image = cv2.warpAffine(image, M, (self.img_size, self.img_size), borderMode=cv2.BORDER_REFLECT)\n",
    "            mask = cv2.warpAffine(mask, M, (self.img_size, self.img_size), flags=cv2.INTER_NEAREST)\n",
    "        return self._normalize(image), mask.astype(np.float32).copy()\n",
    "\n",
    "\n",
    "    def _val_transform(self, image, mask):\n",
    "        return self._normalize(image), mask.copy()\n",
    "\n",
    "    def _normalize(self, image):\n",
    "        image = image / 255.0\n",
    "        return (image - self.mean) / self.std"
   ]
  },
  {
   "cell_type": "code",
   "execution_count": 12,
   "id": "2159f6a6",
   "metadata": {},
   "outputs": [],
   "source": [
    "### Unet\n",
    "class DownBlock(nn.Module):\n",
    "    \"\"\"\n",
    "    Encoder: Conv3x3 + ReLU -> Conv3x3 + ReLU -> MaxPool2d\n",
    "    \"\"\"\n",
    "    def __init__(self, in_channels, out_channels):\n",
    "        super(DownBlock, self).__init__()\n",
    "        self.Conv_BN_ReLU_2 = nn.Sequential(\n",
    "            nn.Conv2d(in_channels=in_channels,out_channels=out_channels,kernel_size=3,stride=1,padding=1),\n",
    "            nn.BatchNorm2d(out_channels),\n",
    "            nn.ReLU(),\n",
    "            nn.Conv2d(in_channels=out_channels, out_channels=out_channels, kernel_size=3, stride=1,padding=1),\n",
    "            nn.BatchNorm2d(out_channels),\n",
    "            nn.ReLU()\n",
    "        )\n",
    "        self.downpool = nn.MaxPool2d(kernel_size=2, stride=2)\n",
    "\n",
    "    def forward(self,x):\n",
    "        conv_out=self.Conv_BN_ReLU_2(x)\n",
    "        pooled_out=self.downpool(conv_out)\n",
    "        return conv_out, pooled_out\n",
    "\n",
    "class UpBlock(nn.Module):\n",
    "    \"\"\"\n",
    "    Decoder：Conv3x3 + ReLU -> Conv3x3 + ReLU -> UpConv2x2\n",
    "    \"\"\"\n",
    "    def __init__(self, in_channels, out_channels):\n",
    "        super(UpBlock, self).__init__()\n",
    "        self.Conv_BN_ReLU_2 = nn.Sequential(\n",
    "            nn.Conv2d(in_channels=in_channels, out_channels=out_channels*2, kernel_size=3, stride=1,padding=1),\n",
    "            nn.BatchNorm2d(out_channels*2),\n",
    "            nn.ReLU(),\n",
    "            nn.Conv2d(in_channels=out_channels*2, out_channels=out_channels*2, kernel_size=3, stride=1,padding=1),\n",
    "            nn.BatchNorm2d(out_channels*2),\n",
    "            nn.ReLU()\n",
    "        )\n",
    "        self.upconv = nn.Sequential(\n",
    "            nn.ConvTranspose2d(in_channels=out_channels*2,out_channels=out_channels,kernel_size=3,stride=2,padding=1,output_padding=1),\n",
    "            nn.BatchNorm2d(out_channels),\n",
    "            nn.ReLU()\n",
    "        )\n",
    "\n",
    "    def forward(self,x,out):\n",
    "        x_out=self.Conv_BN_ReLU_2(x)\n",
    "        x_out=self.upconv(x_out)\n",
    "        cat_out=torch.cat((x_out,out),dim=1)\n",
    "        return cat_out\n",
    "\n",
    "class UNet(nn.Module):\n",
    "    def __init__(self, in_channels=3, out_channels=1):\n",
    "        super(UNet, self).__init__()\n",
    "        out = [64, 128, 256, 512, 1024]\n",
    "        # Encoder\n",
    "        self.down1 = DownBlock(in_channels, out[0])      # 3-64\n",
    "        self.down2 = DownBlock(out[0], out[1])           # 64-128\n",
    "        self.down3 = DownBlock(out[1], out[2])           # 128-256\n",
    "        self.down4 = DownBlock(out[2], out[3])           # 256-512\n",
    "\n",
    "        # Decoder\n",
    "        self.up1 = UpBlock(out[3], out[3])           # 512-1024-512*2\n",
    "        self.up2 = UpBlock(out[4], out[2])           # 1024-512-256*2\n",
    "        self.up3 = UpBlock(out[3], out[1])           # 512-256-128*2\n",
    "        self.up4 = UpBlock(out[2], out[0])           # 256-128-64*2\n",
    "\n",
    "        # Output\n",
    "        self.output = nn.Sequential(\n",
    "            nn.Conv2d(out[1],out[0],kernel_size=3,stride=1,padding=1),\n",
    "            nn.BatchNorm2d(out[0]),\n",
    "            nn.ReLU(),\n",
    "            nn.Conv2d(out[0],out[0],kernel_size=3, stride=1, padding=1),\n",
    "            nn.BatchNorm2d(out[0]),\n",
    "            nn.ReLU(),\n",
    "            nn.Conv2d(out[0],out_channels,kernel_size=3,stride=1,padding=1)\n",
    "        )\n",
    "\n",
    "    def forward(self, x):\n",
    "        # Encoder\n",
    "        x1, x = self.down1(x)   # 3-64\n",
    "        x2, x = self.down2(x)   # 64-128\n",
    "        x3, x = self.down3(x)   # 128-256\n",
    "        x4, x = self.down4(x)   # 256-512\n",
    "\n",
    "        # Decoder\n",
    "        x5 = self.up1(x, x4)      # 512-512\n",
    "        x6 = self.up2(x5, x3)     # 512-256\n",
    "        x7 = self.up3(x6, x2)     # 256-128\n",
    "        x8 = self.up4(x7, x1)     # 128-64\n",
    "\n",
    "        out = self.output(x8)    # 128-64-64-1\n",
    "        return out"
   ]
  },
  {
   "cell_type": "code",
   "execution_count": 13,
   "id": "6859c3d9",
   "metadata": {},
   "outputs": [],
   "source": [
    "### ECA UNet\n",
    "class ECABlock(nn.Module):\n",
    "    \"\"\"Constructs a ECA module.\n",
    "\n",
    "    Args:\n",
    "        channel: Number of channels of the input feature map\n",
    "        k_size: Adaptive selection of kernel size\n",
    "    \"\"\"\n",
    "    def __init__(self, channel, k_size=3):\n",
    "        super(ECABlock, self).__init__()\n",
    "        self.avg_pool = nn.AdaptiveAvgPool2d(1)\n",
    "        self.conv = nn.Conv1d(1, 1, kernel_size=k_size, padding=(k_size - 1) // 2, bias=False)\n",
    "        self.sigmoid = nn.Sigmoid()\n",
    "\n",
    "    def forward(self, x):\n",
    "        # feature descriptor on the global spatial information\n",
    "        y = self.avg_pool(x)\n",
    "\n",
    "        # Two different branches of ECA module\n",
    "        y = self.conv(y.squeeze(-1).transpose(-1, -2)).transpose(-1, -2).unsqueeze(-1)\n",
    "\n",
    "        # Multi-scale information fusion\n",
    "        y = self.sigmoid(y)\n",
    "\n",
    "        return x * y.expand_as(x)\n",
    "\n",
    "class ECADownBlock(nn.Module):\n",
    "    \"\"\"\n",
    "    Encoder\n",
    "    \"\"\"\n",
    "    def __init__(self, in_channels, out_channels):\n",
    "        super(ECADownBlock, self).__init__()\n",
    "        self.Conv_BN_ReLU_2 = nn.Sequential(\n",
    "            nn.Conv2d(in_channels=in_channels,out_channels=out_channels,kernel_size=3,stride=1,padding=1),\n",
    "            nn.BatchNorm2d(out_channels),\n",
    "            nn.ReLU(),\n",
    "            nn.Conv2d(in_channels=out_channels, out_channels=out_channels, kernel_size=3, stride=1,padding=1),\n",
    "            nn.BatchNorm2d(out_channels),\n",
    "            nn.ReLU()\n",
    "        )\n",
    "        self.downpool = nn.Sequential(\n",
    "            nn.Conv2d(in_channels=out_channels,out_channels=out_channels,kernel_size=3,stride=2,padding=1),\n",
    "            nn.BatchNorm2d(out_channels),\n",
    "            nn.ReLU()\n",
    "        )\n",
    "        self.eca = ECABlock(out_channels)\n",
    "\n",
    "    def forward(self,x):\n",
    "        conv_out=self.Conv_BN_ReLU_2(x)\n",
    "        conv_out = self.eca(conv_out)\n",
    "        pooled_out=self.downpool(conv_out)\n",
    "        return conv_out, pooled_out\n",
    "\n",
    "class ECAUpBlock(nn.Module):\n",
    "    \"\"\"\n",
    "    Decoder\n",
    "    \"\"\"\n",
    "    def __init__(self, in_channels, out_channels):\n",
    "        # 512-1024-512\n",
    "        # 1024-512-256\n",
    "        # 512-256-128\n",
    "        # 256-128-64\n",
    "        super(ECAUpBlock, self).__init__()\n",
    "        self.Conv_BN_ReLU_2 = nn.Sequential(\n",
    "            nn.Conv2d(in_channels=in_channels, out_channels=out_channels*2, kernel_size=3, stride=1,padding=1),\n",
    "            nn.BatchNorm2d(out_channels*2),\n",
    "            nn.ReLU(),\n",
    "            nn.Conv2d(in_channels=out_channels*2, out_channels=out_channels*2, kernel_size=3, stride=1,padding=1),\n",
    "            nn.BatchNorm2d(out_channels*2),\n",
    "            nn.ReLU()\n",
    "        )\n",
    "        self.upconv = nn.Sequential(\n",
    "            nn.ConvTranspose2d(in_channels=out_channels*2,out_channels=out_channels,kernel_size=3,stride=2,padding=1,output_padding=1),\n",
    "            nn.BatchNorm2d(out_channels),\n",
    "            nn.ReLU()\n",
    "        )\n",
    "        self.eca = ECABlock(out_channels * 2)\n",
    "\n",
    "    def forward(self,x,out):\n",
    "        x_out=self.Conv_BN_ReLU_2(x)\n",
    "        x_out= self.eca(x_out)\n",
    "        x_out=self.upconv(x_out)\n",
    "        cat_out=torch.cat((x_out,out),dim=1)\n",
    "        return cat_out\n",
    "\n",
    "class ECAUNet(nn.Module):\n",
    "    def __init__(self, in_channels=3, out_channels=1):\n",
    "        super(ECAUNet, self).__init__()\n",
    "        out = [64, 128, 256, 512, 1024]\n",
    "        # Encoder\n",
    "        self.down1 = ECADownBlock(in_channels, out[0])      # 3-64\n",
    "        self.down2 = ECADownBlock(out[0], out[1])           # 64-128\n",
    "        self.down3 = ECADownBlock(out[1], out[2])           # 128-256\n",
    "        self.down4 = ECADownBlock(out[2], out[3])           # 256-512\n",
    "\n",
    "        # Decoder\n",
    "        self.up1 = ECAUpBlock(out[3], out[3])           # 512-1024-512*2\n",
    "        self.up2 = ECAUpBlock(out[4], out[2])           # 1024-512-256*2\n",
    "        self.up3 = ECAUpBlock(out[3], out[1])           # 512-256-128*2\n",
    "        self.up4 = ECAUpBlock(out[2], out[0])           # 256-128-64*2\n",
    "\n",
    "        # Output\n",
    "        self.output = nn.Sequential(\n",
    "            nn.Conv2d(out[1],out[0],kernel_size=3,stride=1,padding=1),\n",
    "            nn.BatchNorm2d(out[0]),\n",
    "            nn.ReLU(),\n",
    "            nn.Conv2d(out[0],out[0],kernel_size=3, stride=1, padding=1),\n",
    "            nn.BatchNorm2d(out[0]),\n",
    "            nn.ReLU(),\n",
    "            nn.Conv2d(out[0],out_channels,kernel_size=3,stride=1,padding=1),\n",
    "            nn.Sigmoid(),\n",
    "        )\n",
    "\n",
    "    def forward(self, x):\n",
    "        x1, x = self.down1(x)   # 3-64\n",
    "        x2, x = self.down2(x)   # 64-128\n",
    "        x3, x = self.down3(x)   # 128-256\n",
    "        x4, x = self.down4(x)   # 256-512\n",
    "        x5 = self.up1(x, x4)      # 512-512\n",
    "        x6 = self.up2(x5, x3)     # 512-256\n",
    "        x7 = self.up3(x6, x2)     # 256-128\n",
    "        x8 = self.up4(x7, x1)     # 128-64\n",
    "        out = self.output(x8)    # 128-64-64-1\n",
    "        return out"
   ]
  },
  {
   "cell_type": "code",
   "execution_count": 15,
   "id": "e07e6e5e",
   "metadata": {},
   "outputs": [],
   "source": [
    "mask_files = sorted([os.path.join(mask_path, f) for f in os.listdir(mask_path) if f.endswith('.png')])\n",
    "rgb_files = sorted([os.path.join(grb_path, f) for f in os.listdir(grb_path) if f.endswith('.png')])\n",
    "nir_files = sorted([os.path.join(nrg_path, f) for f in os.listdir(nrg_path) if f.endswith('.png')])\n",
    "\n",
    "all_data = list(zip(rgb_files, nir_files, mask_files))\n",
    "train_data, val_data = train_test_split(all_data, test_size=0.2, random_state=42)\n",
    "\n",
    "advanced_tf = AdvancedTransforms4Channel(img_size=128)\n",
    "\n",
    "train_dataset = DeadTreeDataset(\n",
    "    [x[0] for x in train_data], [x[1] for x in train_data], [x[2] for x in train_data],\n",
    "    transform=advanced_tf.train\n",
    ")\n",
    "\n",
    "val_dataset = DeadTreeDataset(\n",
    "    [x[0] for x in val_data], [x[1] for x in val_data], [x[2] for x in val_data],\n",
    "    transform=advanced_tf.val\n",
    ")\n",
    "\n",
    "train_loader = DataLoader(train_dataset, batch_size=8, shuffle=True)\n",
    "val_loader = DataLoader(val_dataset, batch_size=8)\n",
    "\n",
    "device = torch.device(\"cuda\" if torch.cuda.is_available() else \"cpu\")"
   ]
  },
  {
   "cell_type": "code",
   "execution_count": 16,
   "id": "6cf73b49",
   "metadata": {},
   "outputs": [],
   "source": [
    "class IoULoss(nn.Module):\n",
    "    def __init__(self, smooth=1e-6):\n",
    "        super(IoULoss, self).__init__()\n",
    "        self.smooth = smooth\n",
    "\n",
    "    def forward(self, preds, targets):\n",
    "        preds = preds.view(-1)\n",
    "        targets = targets.view(-1)\n",
    "        intersection = (preds * targets).sum()\n",
    "        union = preds.sum() + targets.sum() - intersection\n",
    "        iou = (intersection + self.smooth) / (union + self.smooth)\n",
    "        return 1 - iou\n",
    "\n",
    "class ComboLoss(nn.Module):\n",
    "    def __init__(self, alpha=0.5):\n",
    "        super(ComboLoss, self).__init__()\n",
    "        self.bce = nn.BCELoss()\n",
    "        self.iou = IoULoss()\n",
    "        self.alpha = alpha\n",
    "\n",
    "    def forward(self, preds, targets):\n",
    "        return self.alpha * self.bce(preds, targets) + (1 - self.alpha) * self.iou(preds, targets)"
   ]
  },
  {
   "cell_type": "code",
   "execution_count": 17,
   "id": "b15f7867",
   "metadata": {},
   "outputs": [
    {
     "data": {
      "application/vnd.jupyter.widget-view+json": {
       "model_id": "46412eaa21f8447eb749cccd18853502",
       "version_major": 2,
       "version_minor": 0
      },
      "text/plain": [
       "config.json:   0%|          | 0.00/156 [00:00<?, ?B/s]"
      ]
     },
     "metadata": {},
     "output_type": "display_data"
    },
    {
     "name": "stderr",
     "output_type": "stream",
     "text": [
      "c:\\Users\\11970\\anaconda3\\envs\\gpu\\lib\\site-packages\\huggingface_hub\\file_download.py:144: UserWarning: `huggingface_hub` cache-system uses symlinks by default to efficiently store duplicated files but your machine does not support them in C:\\Users\\11970\\.cache\\huggingface\\hub\\models--smp-hub--resnet50.imagenet. Caching files will still work but in a degraded version that might require more space on your disk. This warning can be disabled by setting the `HF_HUB_DISABLE_SYMLINKS_WARNING` environment variable. For more details, see https://huggingface.co/docs/huggingface_hub/how-to-cache#limitations.\n",
      "To support symlinks on Windows, you either need to activate Developer Mode or to run Python as an administrator. In order to activate developer mode, see this article: https://docs.microsoft.com/en-us/windows/apps/get-started/enable-your-device-for-development\n",
      "  warnings.warn(message)\n"
     ]
    },
    {
     "data": {
      "application/vnd.jupyter.widget-view+json": {
       "model_id": "89d6c60a6e63461cab152b53a481516c",
       "version_major": 2,
       "version_minor": 0
      },
      "text/plain": [
       "model.safetensors:   0%|          | 0.00/102M [00:00<?, ?B/s]"
      ]
     },
     "metadata": {},
     "output_type": "display_data"
    }
   ],
   "source": [
    "criterion1 = nn.BCEWithLogitsLoss()\n",
    "criterion2 = nn.BCELoss()\n",
    "criterion3 = ComboLoss(alpha=0.6)\n",
    "\n",
    "Resnet50 = smp.Unet(\n",
    "    encoder_name=\"resnet50\",\n",
    "    encoder_weights=\"imagenet\",\n",
    "    in_channels=4,\n",
    "    classes=1\n",
    ").to(device)\n",
    "unet = UNet(in_channels=4, out_channels=1).to(device)\n",
    "ECAunet = ECAUNet(in_channels=4, out_channels=1).to(device)"
   ]
  },
  {
   "cell_type": "code",
   "execution_count": 18,
   "id": "d904cc31",
   "metadata": {},
   "outputs": [],
   "source": [
    "def compute_iou(preds, masks, threshold):\n",
    "    preds = (preds > threshold).int().cpu().numpy().flatten()\n",
    "    masks = masks.int().cpu().numpy().flatten()\n",
    "    iou = jaccard_score(masks, preds, average='binary', zero_division=0)\n",
    "    return iou\n",
    "\n",
    "def train_model(model, train_loader, val_loader, criterion, device, num_epochs, patience=10):\n",
    "    optimizer = optim.Adam(model.parameters(), lr=1e-4)\n",
    "\n",
    "    best_val_loss = float(\"inf\")\n",
    "    counter = 0\n",
    "    best_thresh = 0.5\n",
    "\n",
    "    save_dir = \"checkpoints\"\n",
    "    os.makedirs(save_dir, exist_ok=True)\n",
    "\n",
    "    train_loss_list = []\n",
    "    val_loss_list = []\n",
    "    iou_list = []\n",
    "\n",
    "    final_preds = None\n",
    "    final_masks = None\n",
    "\n",
    "    for epoch in range(1, num_epochs + 1):\n",
    "        # === Train ===\n",
    "        model.train()\n",
    "        train_loss = 0\n",
    "        for images, masks in tqdm(train_loader, desc=f\"[Epoch {epoch}] Training\"):\n",
    "            images, masks = images.to(device), masks.to(device)\n",
    "\n",
    "            optimizer.zero_grad()\n",
    "            outputs = model(images)\n",
    "            if isinstance(criterion, nn.BCELoss) or criterion.__class__.__name__ == \"ComboLoss\":\n",
    "                preds_prob = torch.sigmoid(outputs)\n",
    "                loss = criterion(preds_prob, masks.float())\n",
    "            else:\n",
    "                loss = criterion(outputs, masks.float())\n",
    "            loss.backward()\n",
    "            optimizer.step()\n",
    "\n",
    "            train_loss += loss.item()\n",
    "        train_loss /= len(train_loader)\n",
    "\n",
    "        # === Validation ===\n",
    "        model.eval()\n",
    "        val_loss, all_preds, all_masks = 0, [], []\n",
    "        with torch.no_grad():\n",
    "            for images, masks in val_loader:\n",
    "                images, masks = images.to(device), masks.to(device)\n",
    "                outputs = model(images)\n",
    "\n",
    "                if isinstance(criterion, nn.BCELoss) or criterion.__class__.__name__ == \"ComboLoss\":\n",
    "                    preds_prob = torch.sigmoid(outputs)\n",
    "                    loss = criterion(preds_prob, masks.float())\n",
    "                    all_preds.append(preds_prob)\n",
    "                else:\n",
    "                    loss = criterion(outputs, masks.float())\n",
    "                    all_preds.append(torch.sigmoid(outputs))\n",
    "\n",
    "                val_loss += loss.item()\n",
    "                all_masks.append(masks)\n",
    "\n",
    "        val_loss /= len(val_loader)\n",
    "        all_preds = torch.cat(all_preds, dim=0)\n",
    "        all_masks = torch.cat(all_masks, dim=0)\n",
    "\n",
    "        best_iou = 0\n",
    "        for t in np.arange(0.3, 0.7, 0.05):\n",
    "            iou = compute_iou(all_preds, all_masks, threshold=t)\n",
    "            if iou > best_iou:\n",
    "                best_iou = iou\n",
    "                best_thresh = t\n",
    "                final_preds = all_preds.clone()\n",
    "                final_masks = all_masks.clone()\n",
    "\n",
    "        train_loss_list.append(train_loss)\n",
    "        val_loss_list.append(val_loss)\n",
    "        iou_list.append(best_iou)\n",
    "\n",
    "        print(f\"[Epoch {epoch}] Train Loss: {train_loss:.4f}, Val Loss: {val_loss:.4f}, IoU: {best_iou:.4f}\")\n",
    "\n",
    "        if val_loss < best_val_loss:\n",
    "            best_val_loss = val_loss\n",
    "            counter = 0\n",
    "        else:\n",
    "            counter += 1\n",
    "            if counter >= patience:\n",
    "                print(\"Early stopping triggered.\")\n",
    "                break\n",
    "\n",
    "    return {\n",
    "        \"train_loss\": train_loss_list,\n",
    "        \"val_loss\": val_loss_list,\n",
    "        \"iou\": iou_list,\n",
    "        \"best_thresh\": best_thresh,\n",
    "        \"all_preds\": final_preds,\n",
    "        \"all_masks\": final_masks\n",
    "    }\n",
    "\n",
    "def evaluate_metrics(results):\n",
    "    best_thresh = results['best_thresh']\n",
    "    all_preds = results['all_preds']\n",
    "    all_masks = results['all_masks']\n",
    "\n",
    "    preds_bin = (all_preds > best_thresh).int().cpu().numpy().flatten()\n",
    "    masks_bin = all_masks.int().cpu().numpy().flatten()\n",
    "\n",
    "    preds_bin = np.round(preds_bin).astype(int)\n",
    "    masks_bin = np.round(masks_bin).astype(int)\n",
    "\n",
    "    acc = accuracy_score(masks_bin, preds_bin)\n",
    "    prec = precision_score(masks_bin, preds_bin, zero_division=0)\n",
    "    rec = recall_score(masks_bin, preds_bin, zero_division=0)\n",
    "    f1 = f1_score(masks_bin, preds_bin, zero_division=0)\n",
    "    cm = confusion_matrix(masks_bin, preds_bin)\n",
    "\n",
    "    print(f\"Accuracy: {acc:.4f}, Precision: {prec:.4f}, Recall: {rec:.4f}, F1 Score: {f1:.4f}\")\n",
    "    print(\"Confusion Matrix:\")\n",
    "    print(cm)\n",
    "\n",
    "    return {\n",
    "        \"accuracy\": acc,\n",
    "        \"precision\": prec,\n",
    "        \"recall\": rec,\n",
    "        \"f1\": f1,\n",
    "        \"confusion_matrix\": cm\n",
    "    }"
   ]
  },
  {
   "cell_type": "code",
   "execution_count": 19,
   "id": "56b6ad4e",
   "metadata": {},
   "outputs": [
    {
     "name": "stderr",
     "output_type": "stream",
     "text": [
      "[Epoch 1] Training: 100%|██████████| 45/45 [00:09<00:00,  4.54it/s]\n"
     ]
    },
    {
     "name": "stdout",
     "output_type": "stream",
     "text": [
      "[Epoch 1] Train Loss: 0.6148, Val Loss: 0.4890, IoU: 0.0231\n"
     ]
    },
    {
     "name": "stderr",
     "output_type": "stream",
     "text": [
      "[Epoch 2] Training: 100%|██████████| 45/45 [00:06<00:00,  7.25it/s]\n"
     ]
    },
    {
     "name": "stdout",
     "output_type": "stream",
     "text": [
      "[Epoch 2] Train Loss: 0.4259, Val Loss: 0.3544, IoU: 0.0242\n"
     ]
    },
    {
     "name": "stderr",
     "output_type": "stream",
     "text": [
      "[Epoch 3] Training: 100%|██████████| 45/45 [00:06<00:00,  7.37it/s]\n"
     ]
    },
    {
     "name": "stdout",
     "output_type": "stream",
     "text": [
      "[Epoch 3] Train Loss: 0.3300, Val Loss: 0.2827, IoU: 0.0115\n"
     ]
    },
    {
     "name": "stderr",
     "output_type": "stream",
     "text": [
      "[Epoch 4] Training: 100%|██████████| 45/45 [00:06<00:00,  7.32it/s]\n"
     ]
    },
    {
     "name": "stdout",
     "output_type": "stream",
     "text": [
      "[Epoch 4] Train Loss: 0.2675, Val Loss: 0.2341, IoU: 0.0074\n"
     ]
    },
    {
     "name": "stderr",
     "output_type": "stream",
     "text": [
      "[Epoch 5] Training: 100%|██████████| 45/45 [00:06<00:00,  7.28it/s]\n"
     ]
    },
    {
     "name": "stdout",
     "output_type": "stream",
     "text": [
      "[Epoch 5] Train Loss: 0.2250, Val Loss: 0.2034, IoU: 0.0094\n"
     ]
    },
    {
     "name": "stderr",
     "output_type": "stream",
     "text": [
      "[Epoch 6] Training: 100%|██████████| 45/45 [00:06<00:00,  7.31it/s]\n"
     ]
    },
    {
     "name": "stdout",
     "output_type": "stream",
     "text": [
      "[Epoch 6] Train Loss: 0.1952, Val Loss: 0.1742, IoU: 0.0268\n"
     ]
    },
    {
     "name": "stderr",
     "output_type": "stream",
     "text": [
      "[Epoch 7] Training: 100%|██████████| 45/45 [00:06<00:00,  7.30it/s]\n"
     ]
    },
    {
     "name": "stdout",
     "output_type": "stream",
     "text": [
      "[Epoch 7] Train Loss: 0.1722, Val Loss: 0.1577, IoU: 0.0489\n"
     ]
    },
    {
     "name": "stderr",
     "output_type": "stream",
     "text": [
      "[Epoch 8] Training: 100%|██████████| 45/45 [00:06<00:00,  7.39it/s]\n"
     ]
    },
    {
     "name": "stdout",
     "output_type": "stream",
     "text": [
      "[Epoch 8] Train Loss: 0.1551, Val Loss: 0.1403, IoU: 0.1019\n"
     ]
    },
    {
     "name": "stderr",
     "output_type": "stream",
     "text": [
      "[Epoch 9] Training: 100%|██████████| 45/45 [00:06<00:00,  7.47it/s]\n"
     ]
    },
    {
     "name": "stdout",
     "output_type": "stream",
     "text": [
      "[Epoch 9] Train Loss: 0.1408, Val Loss: 0.1356, IoU: 0.0913\n"
     ]
    },
    {
     "name": "stderr",
     "output_type": "stream",
     "text": [
      "[Epoch 10] Training: 100%|██████████| 45/45 [00:06<00:00,  7.33it/s]\n"
     ]
    },
    {
     "name": "stdout",
     "output_type": "stream",
     "text": [
      "[Epoch 10] Train Loss: 0.1276, Val Loss: 0.1222, IoU: 0.1232\n"
     ]
    },
    {
     "name": "stderr",
     "output_type": "stream",
     "text": [
      "[Epoch 11] Training: 100%|██████████| 45/45 [00:06<00:00,  7.41it/s]\n"
     ]
    },
    {
     "name": "stdout",
     "output_type": "stream",
     "text": [
      "[Epoch 11] Train Loss: 0.1168, Val Loss: 0.1094, IoU: 0.1329\n"
     ]
    },
    {
     "name": "stderr",
     "output_type": "stream",
     "text": [
      "[Epoch 12] Training: 100%|██████████| 45/45 [00:06<00:00,  7.40it/s]\n"
     ]
    },
    {
     "name": "stdout",
     "output_type": "stream",
     "text": [
      "[Epoch 12] Train Loss: 0.1081, Val Loss: 0.1014, IoU: 0.1755\n"
     ]
    },
    {
     "name": "stderr",
     "output_type": "stream",
     "text": [
      "[Epoch 13] Training: 100%|██████████| 45/45 [00:06<00:00,  7.40it/s]\n"
     ]
    },
    {
     "name": "stdout",
     "output_type": "stream",
     "text": [
      "[Epoch 13] Train Loss: 0.1014, Val Loss: 0.0970, IoU: 0.1817\n"
     ]
    },
    {
     "name": "stderr",
     "output_type": "stream",
     "text": [
      "[Epoch 14] Training: 100%|██████████| 45/45 [00:06<00:00,  7.38it/s]\n"
     ]
    },
    {
     "name": "stdout",
     "output_type": "stream",
     "text": [
      "[Epoch 14] Train Loss: 0.0946, Val Loss: 0.0893, IoU: 0.1783\n"
     ]
    },
    {
     "name": "stderr",
     "output_type": "stream",
     "text": [
      "[Epoch 15] Training: 100%|██████████| 45/45 [00:06<00:00,  7.40it/s]\n"
     ]
    },
    {
     "name": "stdout",
     "output_type": "stream",
     "text": [
      "[Epoch 15] Train Loss: 0.0897, Val Loss: 0.0859, IoU: 0.2023\n"
     ]
    },
    {
     "name": "stderr",
     "output_type": "stream",
     "text": [
      "[Epoch 16] Training: 100%|██████████| 45/45 [00:06<00:00,  7.33it/s]\n"
     ]
    },
    {
     "name": "stdout",
     "output_type": "stream",
     "text": [
      "[Epoch 16] Train Loss: 0.0853, Val Loss: 0.0862, IoU: 0.2477\n"
     ]
    },
    {
     "name": "stderr",
     "output_type": "stream",
     "text": [
      "[Epoch 17] Training: 100%|██████████| 45/45 [00:06<00:00,  7.46it/s]\n"
     ]
    },
    {
     "name": "stdout",
     "output_type": "stream",
     "text": [
      "[Epoch 17] Train Loss: 0.0830, Val Loss: 0.0785, IoU: 0.2365\n"
     ]
    },
    {
     "name": "stderr",
     "output_type": "stream",
     "text": [
      "[Epoch 18] Training: 100%|██████████| 45/45 [00:06<00:00,  7.42it/s]\n"
     ]
    },
    {
     "name": "stdout",
     "output_type": "stream",
     "text": [
      "[Epoch 18] Train Loss: 0.0786, Val Loss: 0.0797, IoU: 0.1899\n"
     ]
    },
    {
     "name": "stderr",
     "output_type": "stream",
     "text": [
      "[Epoch 19] Training: 100%|██████████| 45/45 [00:06<00:00,  7.43it/s]\n"
     ]
    },
    {
     "name": "stdout",
     "output_type": "stream",
     "text": [
      "[Epoch 19] Train Loss: 0.0754, Val Loss: 0.0755, IoU: 0.2089\n"
     ]
    },
    {
     "name": "stderr",
     "output_type": "stream",
     "text": [
      "[Epoch 20] Training: 100%|██████████| 45/45 [00:06<00:00,  7.37it/s]\n"
     ]
    },
    {
     "name": "stdout",
     "output_type": "stream",
     "text": [
      "[Epoch 20] Train Loss: 0.0736, Val Loss: 0.0719, IoU: 0.2487\n"
     ]
    },
    {
     "name": "stderr",
     "output_type": "stream",
     "text": [
      "[Epoch 21] Training: 100%|██████████| 45/45 [00:06<00:00,  7.43it/s]\n"
     ]
    },
    {
     "name": "stdout",
     "output_type": "stream",
     "text": [
      "[Epoch 21] Train Loss: 0.0718, Val Loss: 0.0683, IoU: 0.2570\n"
     ]
    },
    {
     "name": "stderr",
     "output_type": "stream",
     "text": [
      "[Epoch 22] Training: 100%|██████████| 45/45 [00:06<00:00,  7.36it/s]\n"
     ]
    },
    {
     "name": "stdout",
     "output_type": "stream",
     "text": [
      "[Epoch 22] Train Loss: 0.0692, Val Loss: 0.0686, IoU: 0.2399\n"
     ]
    },
    {
     "name": "stderr",
     "output_type": "stream",
     "text": [
      "[Epoch 23] Training: 100%|██████████| 45/45 [00:06<00:00,  7.42it/s]\n"
     ]
    },
    {
     "name": "stdout",
     "output_type": "stream",
     "text": [
      "[Epoch 23] Train Loss: 0.0669, Val Loss: 0.0659, IoU: 0.2712\n"
     ]
    },
    {
     "name": "stderr",
     "output_type": "stream",
     "text": [
      "[Epoch 24] Training: 100%|██████████| 45/45 [00:06<00:00,  7.41it/s]\n"
     ]
    },
    {
     "name": "stdout",
     "output_type": "stream",
     "text": [
      "[Epoch 24] Train Loss: 0.0653, Val Loss: 0.0672, IoU: 0.2653\n"
     ]
    },
    {
     "name": "stderr",
     "output_type": "stream",
     "text": [
      "[Epoch 25] Training: 100%|██████████| 45/45 [00:06<00:00,  7.43it/s]\n"
     ]
    },
    {
     "name": "stdout",
     "output_type": "stream",
     "text": [
      "[Epoch 25] Train Loss: 0.0641, Val Loss: 0.0636, IoU: 0.2948\n"
     ]
    },
    {
     "name": "stderr",
     "output_type": "stream",
     "text": [
      "[Epoch 26] Training: 100%|██████████| 45/45 [00:06<00:00,  7.41it/s]\n"
     ]
    },
    {
     "name": "stdout",
     "output_type": "stream",
     "text": [
      "[Epoch 26] Train Loss: 0.0625, Val Loss: 0.0629, IoU: 0.2580\n"
     ]
    },
    {
     "name": "stderr",
     "output_type": "stream",
     "text": [
      "[Epoch 27] Training: 100%|██████████| 45/45 [00:06<00:00,  7.45it/s]\n"
     ]
    },
    {
     "name": "stdout",
     "output_type": "stream",
     "text": [
      "[Epoch 27] Train Loss: 0.0612, Val Loss: 0.0663, IoU: 0.2216\n"
     ]
    },
    {
     "name": "stderr",
     "output_type": "stream",
     "text": [
      "[Epoch 28] Training: 100%|██████████| 45/45 [00:06<00:00,  7.34it/s]\n"
     ]
    },
    {
     "name": "stdout",
     "output_type": "stream",
     "text": [
      "[Epoch 28] Train Loss: 0.0607, Val Loss: 0.0606, IoU: 0.2543\n"
     ]
    },
    {
     "name": "stderr",
     "output_type": "stream",
     "text": [
      "[Epoch 29] Training: 100%|██████████| 45/45 [00:06<00:00,  7.43it/s]\n"
     ]
    },
    {
     "name": "stdout",
     "output_type": "stream",
     "text": [
      "[Epoch 29] Train Loss: 0.0594, Val Loss: 0.0623, IoU: 0.2776\n"
     ]
    },
    {
     "name": "stderr",
     "output_type": "stream",
     "text": [
      "[Epoch 30] Training: 100%|██████████| 45/45 [00:06<00:00,  7.40it/s]\n"
     ]
    },
    {
     "name": "stdout",
     "output_type": "stream",
     "text": [
      "[Epoch 30] Train Loss: 0.0578, Val Loss: 0.0614, IoU: 0.2850\n"
     ]
    },
    {
     "name": "stderr",
     "output_type": "stream",
     "text": [
      "[Epoch 31] Training: 100%|██████████| 45/45 [00:06<00:00,  7.40it/s]\n"
     ]
    },
    {
     "name": "stdout",
     "output_type": "stream",
     "text": [
      "[Epoch 31] Train Loss: 0.0574, Val Loss: 0.0573, IoU: 0.2897\n"
     ]
    },
    {
     "name": "stderr",
     "output_type": "stream",
     "text": [
      "[Epoch 32] Training: 100%|██████████| 45/45 [00:06<00:00,  7.32it/s]\n"
     ]
    },
    {
     "name": "stdout",
     "output_type": "stream",
     "text": [
      "[Epoch 32] Train Loss: 0.0573, Val Loss: 0.0586, IoU: 0.2688\n"
     ]
    },
    {
     "name": "stderr",
     "output_type": "stream",
     "text": [
      "[Epoch 33] Training: 100%|██████████| 45/45 [00:06<00:00,  7.35it/s]\n"
     ]
    },
    {
     "name": "stdout",
     "output_type": "stream",
     "text": [
      "[Epoch 33] Train Loss: 0.0558, Val Loss: 0.0586, IoU: 0.2956\n"
     ]
    },
    {
     "name": "stderr",
     "output_type": "stream",
     "text": [
      "[Epoch 34] Training: 100%|██████████| 45/45 [00:06<00:00,  7.38it/s]\n"
     ]
    },
    {
     "name": "stdout",
     "output_type": "stream",
     "text": [
      "[Epoch 34] Train Loss: 0.0551, Val Loss: 0.0549, IoU: 0.2964\n"
     ]
    },
    {
     "name": "stderr",
     "output_type": "stream",
     "text": [
      "[Epoch 35] Training: 100%|██████████| 45/45 [00:06<00:00,  7.37it/s]\n"
     ]
    },
    {
     "name": "stdout",
     "output_type": "stream",
     "text": [
      "[Epoch 35] Train Loss: 0.0551, Val Loss: 0.0568, IoU: 0.2668\n"
     ]
    },
    {
     "name": "stderr",
     "output_type": "stream",
     "text": [
      "[Epoch 36] Training: 100%|██████████| 45/45 [00:06<00:00,  7.33it/s]\n"
     ]
    },
    {
     "name": "stdout",
     "output_type": "stream",
     "text": [
      "[Epoch 36] Train Loss: 0.0551, Val Loss: 0.0538, IoU: 0.3038\n"
     ]
    },
    {
     "name": "stderr",
     "output_type": "stream",
     "text": [
      "[Epoch 37] Training: 100%|██████████| 45/45 [00:06<00:00,  7.35it/s]\n"
     ]
    },
    {
     "name": "stdout",
     "output_type": "stream",
     "text": [
      "[Epoch 37] Train Loss: 0.0528, Val Loss: 0.0538, IoU: 0.3121\n"
     ]
    },
    {
     "name": "stderr",
     "output_type": "stream",
     "text": [
      "[Epoch 38] Training: 100%|██████████| 45/45 [00:06<00:00,  7.36it/s]\n"
     ]
    },
    {
     "name": "stdout",
     "output_type": "stream",
     "text": [
      "[Epoch 38] Train Loss: 0.0524, Val Loss: 0.0533, IoU: 0.3143\n"
     ]
    },
    {
     "name": "stderr",
     "output_type": "stream",
     "text": [
      "[Epoch 39] Training: 100%|██████████| 45/45 [00:06<00:00,  7.36it/s]\n"
     ]
    },
    {
     "name": "stdout",
     "output_type": "stream",
     "text": [
      "[Epoch 39] Train Loss: 0.0516, Val Loss: 0.0545, IoU: 0.3019\n"
     ]
    },
    {
     "name": "stderr",
     "output_type": "stream",
     "text": [
      "[Epoch 40] Training: 100%|██████████| 45/45 [00:06<00:00,  7.38it/s]\n"
     ]
    },
    {
     "name": "stdout",
     "output_type": "stream",
     "text": [
      "[Epoch 40] Train Loss: 0.0504, Val Loss: 0.0539, IoU: 0.3006\n"
     ]
    },
    {
     "name": "stderr",
     "output_type": "stream",
     "text": [
      "[Epoch 41] Training: 100%|██████████| 45/45 [00:06<00:00,  7.34it/s]\n"
     ]
    },
    {
     "name": "stdout",
     "output_type": "stream",
     "text": [
      "[Epoch 41] Train Loss: 0.0494, Val Loss: 0.0529, IoU: 0.3028\n"
     ]
    },
    {
     "name": "stderr",
     "output_type": "stream",
     "text": [
      "[Epoch 42] Training: 100%|██████████| 45/45 [00:06<00:00,  7.35it/s]\n"
     ]
    },
    {
     "name": "stdout",
     "output_type": "stream",
     "text": [
      "[Epoch 42] Train Loss: 0.0490, Val Loss: 0.0529, IoU: 0.3170\n"
     ]
    },
    {
     "name": "stderr",
     "output_type": "stream",
     "text": [
      "[Epoch 43] Training: 100%|██████████| 45/45 [00:06<00:00,  7.45it/s]\n"
     ]
    },
    {
     "name": "stdout",
     "output_type": "stream",
     "text": [
      "[Epoch 43] Train Loss: 0.0490, Val Loss: 0.0516, IoU: 0.3335\n"
     ]
    },
    {
     "name": "stderr",
     "output_type": "stream",
     "text": [
      "[Epoch 44] Training: 100%|██████████| 45/45 [00:06<00:00,  7.32it/s]\n"
     ]
    },
    {
     "name": "stdout",
     "output_type": "stream",
     "text": [
      "[Epoch 44] Train Loss: 0.0483, Val Loss: 0.0498, IoU: 0.3332\n"
     ]
    },
    {
     "name": "stderr",
     "output_type": "stream",
     "text": [
      "[Epoch 45] Training: 100%|██████████| 45/45 [00:06<00:00,  7.30it/s]\n"
     ]
    },
    {
     "name": "stdout",
     "output_type": "stream",
     "text": [
      "[Epoch 45] Train Loss: 0.0485, Val Loss: 0.0575, IoU: 0.2973\n"
     ]
    },
    {
     "name": "stderr",
     "output_type": "stream",
     "text": [
      "[Epoch 46] Training: 100%|██████████| 45/45 [00:06<00:00,  7.34it/s]\n"
     ]
    },
    {
     "name": "stdout",
     "output_type": "stream",
     "text": [
      "[Epoch 46] Train Loss: 0.0489, Val Loss: 0.0506, IoU: 0.3219\n"
     ]
    },
    {
     "name": "stderr",
     "output_type": "stream",
     "text": [
      "[Epoch 47] Training: 100%|██████████| 45/45 [00:06<00:00,  7.27it/s]\n"
     ]
    },
    {
     "name": "stdout",
     "output_type": "stream",
     "text": [
      "[Epoch 47] Train Loss: 0.0472, Val Loss: 0.0517, IoU: 0.3126\n"
     ]
    },
    {
     "name": "stderr",
     "output_type": "stream",
     "text": [
      "[Epoch 48] Training: 100%|██████████| 45/45 [00:06<00:00,  6.62it/s]\n"
     ]
    },
    {
     "name": "stdout",
     "output_type": "stream",
     "text": [
      "[Epoch 48] Train Loss: 0.0468, Val Loss: 0.0502, IoU: 0.3175\n"
     ]
    },
    {
     "name": "stderr",
     "output_type": "stream",
     "text": [
      "[Epoch 49] Training: 100%|██████████| 45/45 [00:08<00:00,  5.50it/s]\n"
     ]
    },
    {
     "name": "stdout",
     "output_type": "stream",
     "text": [
      "[Epoch 49] Train Loss: 0.0478, Val Loss: 0.0489, IoU: 0.3337\n"
     ]
    },
    {
     "name": "stderr",
     "output_type": "stream",
     "text": [
      "[Epoch 50] Training: 100%|██████████| 45/45 [00:07<00:00,  5.77it/s]\n"
     ]
    },
    {
     "name": "stdout",
     "output_type": "stream",
     "text": [
      "[Epoch 50] Train Loss: 0.0459, Val Loss: 0.0500, IoU: 0.3157\n"
     ]
    },
    {
     "name": "stderr",
     "output_type": "stream",
     "text": [
      "[Epoch 51] Training: 100%|██████████| 45/45 [00:07<00:00,  5.73it/s]\n"
     ]
    },
    {
     "name": "stdout",
     "output_type": "stream",
     "text": [
      "[Epoch 51] Train Loss: 0.0454, Val Loss: 0.0509, IoU: 0.3232\n"
     ]
    },
    {
     "name": "stderr",
     "output_type": "stream",
     "text": [
      "[Epoch 52] Training: 100%|██████████| 45/45 [00:07<00:00,  5.72it/s]\n"
     ]
    },
    {
     "name": "stdout",
     "output_type": "stream",
     "text": [
      "[Epoch 52] Train Loss: 0.0451, Val Loss: 0.0492, IoU: 0.3274\n"
     ]
    },
    {
     "name": "stderr",
     "output_type": "stream",
     "text": [
      "[Epoch 53] Training: 100%|██████████| 45/45 [00:08<00:00,  5.57it/s]\n"
     ]
    },
    {
     "name": "stdout",
     "output_type": "stream",
     "text": [
      "[Epoch 53] Train Loss: 0.0454, Val Loss: 0.0494, IoU: 0.3318\n"
     ]
    },
    {
     "name": "stderr",
     "output_type": "stream",
     "text": [
      "[Epoch 54] Training: 100%|██████████| 45/45 [00:06<00:00,  7.28it/s]\n"
     ]
    },
    {
     "name": "stdout",
     "output_type": "stream",
     "text": [
      "[Epoch 54] Train Loss: 0.0457, Val Loss: 0.0501, IoU: 0.3143\n"
     ]
    },
    {
     "name": "stderr",
     "output_type": "stream",
     "text": [
      "[Epoch 55] Training: 100%|██████████| 45/45 [00:07<00:00,  5.83it/s]\n"
     ]
    },
    {
     "name": "stdout",
     "output_type": "stream",
     "text": [
      "[Epoch 55] Train Loss: 0.0452, Val Loss: 0.0517, IoU: 0.3238\n"
     ]
    },
    {
     "name": "stderr",
     "output_type": "stream",
     "text": [
      "[Epoch 56] Training: 100%|██████████| 45/45 [00:07<00:00,  6.15it/s]\n"
     ]
    },
    {
     "name": "stdout",
     "output_type": "stream",
     "text": [
      "[Epoch 56] Train Loss: 0.0437, Val Loss: 0.0491, IoU: 0.3228\n"
     ]
    },
    {
     "name": "stderr",
     "output_type": "stream",
     "text": [
      "[Epoch 57] Training: 100%|██████████| 45/45 [00:06<00:00,  7.35it/s]\n"
     ]
    },
    {
     "name": "stdout",
     "output_type": "stream",
     "text": [
      "[Epoch 57] Train Loss: 0.0436, Val Loss: 0.0474, IoU: 0.3417\n"
     ]
    },
    {
     "name": "stderr",
     "output_type": "stream",
     "text": [
      "[Epoch 58] Training: 100%|██████████| 45/45 [00:07<00:00,  6.16it/s]\n"
     ]
    },
    {
     "name": "stdout",
     "output_type": "stream",
     "text": [
      "[Epoch 58] Train Loss: 0.0447, Val Loss: 0.0515, IoU: 0.3229\n"
     ]
    },
    {
     "name": "stderr",
     "output_type": "stream",
     "text": [
      "[Epoch 59] Training: 100%|██████████| 45/45 [00:08<00:00,  5.52it/s]\n"
     ]
    },
    {
     "name": "stdout",
     "output_type": "stream",
     "text": [
      "[Epoch 59] Train Loss: 0.0433, Val Loss: 0.0485, IoU: 0.3316\n"
     ]
    },
    {
     "name": "stderr",
     "output_type": "stream",
     "text": [
      "[Epoch 60] Training: 100%|██████████| 45/45 [00:07<00:00,  5.87it/s]\n"
     ]
    },
    {
     "name": "stdout",
     "output_type": "stream",
     "text": [
      "[Epoch 60] Train Loss: 0.0432, Val Loss: 0.0473, IoU: 0.3360\n"
     ]
    },
    {
     "name": "stderr",
     "output_type": "stream",
     "text": [
      "[Epoch 61] Training: 100%|██████████| 45/45 [00:06<00:00,  7.32it/s]\n"
     ]
    },
    {
     "name": "stdout",
     "output_type": "stream",
     "text": [
      "[Epoch 61] Train Loss: 0.0437, Val Loss: 0.0466, IoU: 0.3509\n"
     ]
    },
    {
     "name": "stderr",
     "output_type": "stream",
     "text": [
      "[Epoch 62] Training: 100%|██████████| 45/45 [00:06<00:00,  7.39it/s]\n"
     ]
    },
    {
     "name": "stdout",
     "output_type": "stream",
     "text": [
      "[Epoch 62] Train Loss: 0.0423, Val Loss: 0.0456, IoU: 0.3584\n"
     ]
    },
    {
     "name": "stderr",
     "output_type": "stream",
     "text": [
      "[Epoch 63] Training: 100%|██████████| 45/45 [00:06<00:00,  7.29it/s]\n"
     ]
    },
    {
     "name": "stdout",
     "output_type": "stream",
     "text": [
      "[Epoch 63] Train Loss: 0.0415, Val Loss: 0.0472, IoU: 0.3423\n"
     ]
    },
    {
     "name": "stderr",
     "output_type": "stream",
     "text": [
      "[Epoch 64] Training: 100%|██████████| 45/45 [00:07<00:00,  6.34it/s]\n"
     ]
    },
    {
     "name": "stdout",
     "output_type": "stream",
     "text": [
      "[Epoch 64] Train Loss: 0.0417, Val Loss: 0.0466, IoU: 0.3530\n"
     ]
    },
    {
     "name": "stderr",
     "output_type": "stream",
     "text": [
      "[Epoch 65] Training: 100%|██████████| 45/45 [00:08<00:00,  5.55it/s]\n"
     ]
    },
    {
     "name": "stdout",
     "output_type": "stream",
     "text": [
      "[Epoch 65] Train Loss: 0.0422, Val Loss: 0.0467, IoU: 0.3456\n"
     ]
    },
    {
     "name": "stderr",
     "output_type": "stream",
     "text": [
      "[Epoch 66] Training: 100%|██████████| 45/45 [00:07<00:00,  5.72it/s]\n"
     ]
    },
    {
     "name": "stdout",
     "output_type": "stream",
     "text": [
      "[Epoch 66] Train Loss: 0.0417, Val Loss: 0.0464, IoU: 0.3509\n"
     ]
    },
    {
     "name": "stderr",
     "output_type": "stream",
     "text": [
      "[Epoch 67] Training: 100%|██████████| 45/45 [00:06<00:00,  6.68it/s]\n"
     ]
    },
    {
     "name": "stdout",
     "output_type": "stream",
     "text": [
      "[Epoch 67] Train Loss: 0.0414, Val Loss: 0.0472, IoU: 0.3433\n"
     ]
    },
    {
     "name": "stderr",
     "output_type": "stream",
     "text": [
      "[Epoch 68] Training: 100%|██████████| 45/45 [00:06<00:00,  7.38it/s]\n"
     ]
    },
    {
     "name": "stdout",
     "output_type": "stream",
     "text": [
      "[Epoch 68] Train Loss: 0.0397, Val Loss: 0.0468, IoU: 0.3508\n"
     ]
    },
    {
     "name": "stderr",
     "output_type": "stream",
     "text": [
      "[Epoch 69] Training: 100%|██████████| 45/45 [00:06<00:00,  7.31it/s]\n"
     ]
    },
    {
     "name": "stdout",
     "output_type": "stream",
     "text": [
      "[Epoch 69] Train Loss: 0.0409, Val Loss: 0.0465, IoU: 0.3418\n"
     ]
    },
    {
     "name": "stderr",
     "output_type": "stream",
     "text": [
      "[Epoch 70] Training: 100%|██████████| 45/45 [00:06<00:00,  7.29it/s]\n"
     ]
    },
    {
     "name": "stdout",
     "output_type": "stream",
     "text": [
      "[Epoch 70] Train Loss: 0.0395, Val Loss: 0.0453, IoU: 0.3674\n"
     ]
    },
    {
     "name": "stderr",
     "output_type": "stream",
     "text": [
      "[Epoch 71] Training: 100%|██████████| 45/45 [00:06<00:00,  7.31it/s]\n"
     ]
    },
    {
     "name": "stdout",
     "output_type": "stream",
     "text": [
      "[Epoch 71] Train Loss: 0.0392, Val Loss: 0.0461, IoU: 0.3541\n"
     ]
    },
    {
     "name": "stderr",
     "output_type": "stream",
     "text": [
      "[Epoch 72] Training: 100%|██████████| 45/45 [00:06<00:00,  7.44it/s]\n"
     ]
    },
    {
     "name": "stdout",
     "output_type": "stream",
     "text": [
      "[Epoch 72] Train Loss: 0.0391, Val Loss: 0.0468, IoU: 0.3520\n"
     ]
    },
    {
     "name": "stderr",
     "output_type": "stream",
     "text": [
      "[Epoch 73] Training: 100%|██████████| 45/45 [00:06<00:00,  7.40it/s]\n"
     ]
    },
    {
     "name": "stdout",
     "output_type": "stream",
     "text": [
      "[Epoch 73] Train Loss: 0.0388, Val Loss: 0.0461, IoU: 0.3540\n"
     ]
    },
    {
     "name": "stderr",
     "output_type": "stream",
     "text": [
      "[Epoch 74] Training: 100%|██████████| 45/45 [00:06<00:00,  7.47it/s]\n"
     ]
    },
    {
     "name": "stdout",
     "output_type": "stream",
     "text": [
      "[Epoch 74] Train Loss: 0.0398, Val Loss: 0.0452, IoU: 0.3625\n"
     ]
    },
    {
     "name": "stderr",
     "output_type": "stream",
     "text": [
      "[Epoch 75] Training: 100%|██████████| 45/45 [00:06<00:00,  7.44it/s]\n"
     ]
    },
    {
     "name": "stdout",
     "output_type": "stream",
     "text": [
      "[Epoch 75] Train Loss: 0.0390, Val Loss: 0.0465, IoU: 0.3497\n"
     ]
    },
    {
     "name": "stderr",
     "output_type": "stream",
     "text": [
      "[Epoch 76] Training: 100%|██████████| 45/45 [00:06<00:00,  7.44it/s]\n"
     ]
    },
    {
     "name": "stdout",
     "output_type": "stream",
     "text": [
      "[Epoch 76] Train Loss: 0.0382, Val Loss: 0.0459, IoU: 0.3580\n"
     ]
    },
    {
     "name": "stderr",
     "output_type": "stream",
     "text": [
      "[Epoch 77] Training: 100%|██████████| 45/45 [00:05<00:00,  7.50it/s]\n"
     ]
    },
    {
     "name": "stdout",
     "output_type": "stream",
     "text": [
      "[Epoch 77] Train Loss: 0.0379, Val Loss: 0.0473, IoU: 0.3513\n"
     ]
    },
    {
     "name": "stderr",
     "output_type": "stream",
     "text": [
      "[Epoch 78] Training: 100%|██████████| 45/45 [00:05<00:00,  7.52it/s]\n"
     ]
    },
    {
     "name": "stdout",
     "output_type": "stream",
     "text": [
      "[Epoch 78] Train Loss: 0.0390, Val Loss: 0.0467, IoU: 0.3487\n"
     ]
    },
    {
     "name": "stderr",
     "output_type": "stream",
     "text": [
      "[Epoch 79] Training: 100%|██████████| 45/45 [00:06<00:00,  7.50it/s]\n"
     ]
    },
    {
     "name": "stdout",
     "output_type": "stream",
     "text": [
      "[Epoch 79] Train Loss: 0.0388, Val Loss: 0.0469, IoU: 0.3442\n"
     ]
    },
    {
     "name": "stderr",
     "output_type": "stream",
     "text": [
      "[Epoch 80] Training: 100%|██████████| 45/45 [00:06<00:00,  7.46it/s]\n"
     ]
    },
    {
     "name": "stdout",
     "output_type": "stream",
     "text": [
      "[Epoch 80] Train Loss: 0.0374, Val Loss: 0.0470, IoU: 0.3573\n",
      "Accuracy: 0.9799, Precision: 0.4829, Recall: 0.5789, F1 Score: 0.5265\n",
      "Confusion Matrix:\n",
      "[[1412579   17449]\n",
      " [  11854   16294]]\n"
     ]
    }
   ],
   "source": [
    "results_res = train_model(Resnet50, train_loader, val_loader, criterion1, device, num_epochs=80)\n",
    "metrics = evaluate_metrics(results_res)"
   ]
  },
  {
   "cell_type": "code",
   "execution_count": 20,
   "id": "1fe0b29e",
   "metadata": {},
   "outputs": [
    {
     "name": "stderr",
     "output_type": "stream",
     "text": [
      "[Epoch 1] Training: 100%|██████████| 45/45 [00:09<00:00,  4.83it/s]\n"
     ]
    },
    {
     "name": "stdout",
     "output_type": "stream",
     "text": [
      "[Epoch 1] Train Loss: 0.3821, Val Loss: 0.2403, IoU: 0.0884\n"
     ]
    },
    {
     "name": "stderr",
     "output_type": "stream",
     "text": [
      "[Epoch 2] Training: 100%|██████████| 45/45 [00:09<00:00,  4.96it/s]\n"
     ]
    },
    {
     "name": "stdout",
     "output_type": "stream",
     "text": [
      "[Epoch 2] Train Loss: 0.1856, Val Loss: 0.1547, IoU: 0.1700\n"
     ]
    },
    {
     "name": "stderr",
     "output_type": "stream",
     "text": [
      "[Epoch 3] Training: 100%|██████████| 45/45 [00:09<00:00,  4.97it/s]\n"
     ]
    },
    {
     "name": "stdout",
     "output_type": "stream",
     "text": [
      "[Epoch 3] Train Loss: 0.1269, Val Loss: 0.1028, IoU: 0.2477\n"
     ]
    },
    {
     "name": "stderr",
     "output_type": "stream",
     "text": [
      "[Epoch 4] Training: 100%|██████████| 45/45 [00:09<00:00,  4.96it/s]\n"
     ]
    },
    {
     "name": "stdout",
     "output_type": "stream",
     "text": [
      "[Epoch 4] Train Loss: 0.0970, Val Loss: 0.0954, IoU: 0.2919\n"
     ]
    },
    {
     "name": "stderr",
     "output_type": "stream",
     "text": [
      "[Epoch 5] Training: 100%|██████████| 45/45 [00:09<00:00,  4.88it/s]\n"
     ]
    },
    {
     "name": "stdout",
     "output_type": "stream",
     "text": [
      "[Epoch 5] Train Loss: 0.0829, Val Loss: 0.0750, IoU: 0.2941\n"
     ]
    },
    {
     "name": "stderr",
     "output_type": "stream",
     "text": [
      "[Epoch 6] Training: 100%|██████████| 45/45 [00:09<00:00,  4.89it/s]\n"
     ]
    },
    {
     "name": "stdout",
     "output_type": "stream",
     "text": [
      "[Epoch 6] Train Loss: 0.0720, Val Loss: 0.0707, IoU: 0.2973\n"
     ]
    },
    {
     "name": "stderr",
     "output_type": "stream",
     "text": [
      "[Epoch 7] Training: 100%|██████████| 45/45 [00:09<00:00,  4.89it/s]\n"
     ]
    },
    {
     "name": "stdout",
     "output_type": "stream",
     "text": [
      "[Epoch 7] Train Loss: 0.0656, Val Loss: 0.0633, IoU: 0.3238\n"
     ]
    },
    {
     "name": "stderr",
     "output_type": "stream",
     "text": [
      "[Epoch 8] Training: 100%|██████████| 45/45 [00:09<00:00,  4.87it/s]\n"
     ]
    },
    {
     "name": "stdout",
     "output_type": "stream",
     "text": [
      "[Epoch 8] Train Loss: 0.0607, Val Loss: 0.0602, IoU: 0.2533\n"
     ]
    },
    {
     "name": "stderr",
     "output_type": "stream",
     "text": [
      "[Epoch 9] Training: 100%|██████████| 45/45 [00:09<00:00,  5.00it/s]\n"
     ]
    },
    {
     "name": "stdout",
     "output_type": "stream",
     "text": [
      "[Epoch 9] Train Loss: 0.0579, Val Loss: 0.0548, IoU: 0.3405\n"
     ]
    },
    {
     "name": "stderr",
     "output_type": "stream",
     "text": [
      "[Epoch 10] Training: 100%|██████████| 45/45 [00:08<00:00,  5.00it/s]\n"
     ]
    },
    {
     "name": "stdout",
     "output_type": "stream",
     "text": [
      "[Epoch 10] Train Loss: 0.0558, Val Loss: 0.0544, IoU: 0.2810\n"
     ]
    },
    {
     "name": "stderr",
     "output_type": "stream",
     "text": [
      "[Epoch 11] Training: 100%|██████████| 45/45 [00:08<00:00,  5.03it/s]\n"
     ]
    },
    {
     "name": "stdout",
     "output_type": "stream",
     "text": [
      "[Epoch 11] Train Loss: 0.0543, Val Loss: 0.0546, IoU: 0.3040\n"
     ]
    },
    {
     "name": "stderr",
     "output_type": "stream",
     "text": [
      "[Epoch 12] Training: 100%|██████████| 45/45 [00:09<00:00,  4.89it/s]\n"
     ]
    },
    {
     "name": "stdout",
     "output_type": "stream",
     "text": [
      "[Epoch 12] Train Loss: 0.0534, Val Loss: 0.0501, IoU: 0.3373\n"
     ]
    },
    {
     "name": "stderr",
     "output_type": "stream",
     "text": [
      "[Epoch 13] Training: 100%|██████████| 45/45 [00:09<00:00,  4.91it/s]\n"
     ]
    },
    {
     "name": "stdout",
     "output_type": "stream",
     "text": [
      "[Epoch 13] Train Loss: 0.0506, Val Loss: 0.0527, IoU: 0.3416\n"
     ]
    },
    {
     "name": "stderr",
     "output_type": "stream",
     "text": [
      "[Epoch 14] Training: 100%|██████████| 45/45 [00:09<00:00,  4.89it/s]\n"
     ]
    },
    {
     "name": "stdout",
     "output_type": "stream",
     "text": [
      "[Epoch 14] Train Loss: 0.0507, Val Loss: 0.0478, IoU: 0.3606\n"
     ]
    },
    {
     "name": "stderr",
     "output_type": "stream",
     "text": [
      "[Epoch 15] Training: 100%|██████████| 45/45 [00:09<00:00,  4.88it/s]\n"
     ]
    },
    {
     "name": "stdout",
     "output_type": "stream",
     "text": [
      "[Epoch 15] Train Loss: 0.0488, Val Loss: 0.0480, IoU: 0.3412\n"
     ]
    },
    {
     "name": "stderr",
     "output_type": "stream",
     "text": [
      "[Epoch 16] Training: 100%|██████████| 45/45 [00:09<00:00,  4.88it/s]\n"
     ]
    },
    {
     "name": "stdout",
     "output_type": "stream",
     "text": [
      "[Epoch 16] Train Loss: 0.0487, Val Loss: 0.0463, IoU: 0.3625\n"
     ]
    },
    {
     "name": "stderr",
     "output_type": "stream",
     "text": [
      "[Epoch 17] Training: 100%|██████████| 45/45 [00:09<00:00,  4.86it/s]\n"
     ]
    },
    {
     "name": "stdout",
     "output_type": "stream",
     "text": [
      "[Epoch 17] Train Loss: 0.0472, Val Loss: 0.0478, IoU: 0.3653\n"
     ]
    },
    {
     "name": "stderr",
     "output_type": "stream",
     "text": [
      "[Epoch 18] Training: 100%|██████████| 45/45 [00:09<00:00,  4.88it/s]\n"
     ]
    },
    {
     "name": "stdout",
     "output_type": "stream",
     "text": [
      "[Epoch 18] Train Loss: 0.0473, Val Loss: 0.0471, IoU: 0.3590\n"
     ]
    },
    {
     "name": "stderr",
     "output_type": "stream",
     "text": [
      "[Epoch 19] Training: 100%|██████████| 45/45 [00:09<00:00,  4.88it/s]\n"
     ]
    },
    {
     "name": "stdout",
     "output_type": "stream",
     "text": [
      "[Epoch 19] Train Loss: 0.0475, Val Loss: 0.0452, IoU: 0.3768\n"
     ]
    },
    {
     "name": "stderr",
     "output_type": "stream",
     "text": [
      "[Epoch 20] Training: 100%|██████████| 45/45 [00:09<00:00,  4.88it/s]\n"
     ]
    },
    {
     "name": "stdout",
     "output_type": "stream",
     "text": [
      "[Epoch 20] Train Loss: 0.0452, Val Loss: 0.0463, IoU: 0.3733\n"
     ]
    },
    {
     "name": "stderr",
     "output_type": "stream",
     "text": [
      "[Epoch 21] Training: 100%|██████████| 45/45 [00:09<00:00,  4.89it/s]\n"
     ]
    },
    {
     "name": "stdout",
     "output_type": "stream",
     "text": [
      "[Epoch 21] Train Loss: 0.0450, Val Loss: 0.0449, IoU: 0.3880\n"
     ]
    },
    {
     "name": "stderr",
     "output_type": "stream",
     "text": [
      "[Epoch 22] Training: 100%|██████████| 45/45 [00:09<00:00,  4.97it/s]\n"
     ]
    },
    {
     "name": "stdout",
     "output_type": "stream",
     "text": [
      "[Epoch 22] Train Loss: 0.0444, Val Loss: 0.0457, IoU: 0.3521\n"
     ]
    },
    {
     "name": "stderr",
     "output_type": "stream",
     "text": [
      "[Epoch 23] Training: 100%|██████████| 45/45 [00:09<00:00,  4.95it/s]\n"
     ]
    },
    {
     "name": "stdout",
     "output_type": "stream",
     "text": [
      "[Epoch 23] Train Loss: 0.0440, Val Loss: 0.0437, IoU: 0.3758\n"
     ]
    },
    {
     "name": "stderr",
     "output_type": "stream",
     "text": [
      "[Epoch 24] Training: 100%|██████████| 45/45 [00:09<00:00,  4.90it/s]\n"
     ]
    },
    {
     "name": "stdout",
     "output_type": "stream",
     "text": [
      "[Epoch 24] Train Loss: 0.0458, Val Loss: 0.0443, IoU: 0.3510\n"
     ]
    },
    {
     "name": "stderr",
     "output_type": "stream",
     "text": [
      "[Epoch 25] Training: 100%|██████████| 45/45 [00:09<00:00,  4.89it/s]\n"
     ]
    },
    {
     "name": "stdout",
     "output_type": "stream",
     "text": [
      "[Epoch 25] Train Loss: 0.0440, Val Loss: 0.0448, IoU: 0.3662\n"
     ]
    },
    {
     "name": "stderr",
     "output_type": "stream",
     "text": [
      "[Epoch 26] Training: 100%|██████████| 45/45 [00:09<00:00,  4.89it/s]\n"
     ]
    },
    {
     "name": "stdout",
     "output_type": "stream",
     "text": [
      "[Epoch 26] Train Loss: 0.0435, Val Loss: 0.0428, IoU: 0.3887\n"
     ]
    },
    {
     "name": "stderr",
     "output_type": "stream",
     "text": [
      "[Epoch 27] Training: 100%|██████████| 45/45 [00:09<00:00,  4.88it/s]\n"
     ]
    },
    {
     "name": "stdout",
     "output_type": "stream",
     "text": [
      "[Epoch 27] Train Loss: 0.0435, Val Loss: 0.0434, IoU: 0.3755\n"
     ]
    },
    {
     "name": "stderr",
     "output_type": "stream",
     "text": [
      "[Epoch 28] Training: 100%|██████████| 45/45 [00:09<00:00,  4.88it/s]\n"
     ]
    },
    {
     "name": "stdout",
     "output_type": "stream",
     "text": [
      "[Epoch 28] Train Loss: 0.0423, Val Loss: 0.0417, IoU: 0.3854\n"
     ]
    },
    {
     "name": "stderr",
     "output_type": "stream",
     "text": [
      "[Epoch 29] Training: 100%|██████████| 45/45 [00:09<00:00,  4.88it/s]\n"
     ]
    },
    {
     "name": "stdout",
     "output_type": "stream",
     "text": [
      "[Epoch 29] Train Loss: 0.0416, Val Loss: 0.0427, IoU: 0.3875\n"
     ]
    },
    {
     "name": "stderr",
     "output_type": "stream",
     "text": [
      "[Epoch 30] Training: 100%|██████████| 45/45 [00:09<00:00,  4.88it/s]\n"
     ]
    },
    {
     "name": "stdout",
     "output_type": "stream",
     "text": [
      "[Epoch 30] Train Loss: 0.0423, Val Loss: 0.0422, IoU: 0.3869\n"
     ]
    },
    {
     "name": "stderr",
     "output_type": "stream",
     "text": [
      "[Epoch 31] Training: 100%|██████████| 45/45 [00:09<00:00,  4.88it/s]\n"
     ]
    },
    {
     "name": "stdout",
     "output_type": "stream",
     "text": [
      "[Epoch 31] Train Loss: 0.0421, Val Loss: 0.0430, IoU: 0.3679\n"
     ]
    },
    {
     "name": "stderr",
     "output_type": "stream",
     "text": [
      "[Epoch 32] Training: 100%|██████████| 45/45 [00:09<00:00,  4.87it/s]\n"
     ]
    },
    {
     "name": "stdout",
     "output_type": "stream",
     "text": [
      "[Epoch 32] Train Loss: 0.0417, Val Loss: 0.0435, IoU: 0.3724\n"
     ]
    },
    {
     "name": "stderr",
     "output_type": "stream",
     "text": [
      "[Epoch 33] Training: 100%|██████████| 45/45 [00:09<00:00,  4.87it/s]\n"
     ]
    },
    {
     "name": "stdout",
     "output_type": "stream",
     "text": [
      "[Epoch 33] Train Loss: 0.0410, Val Loss: 0.0416, IoU: 0.3800\n"
     ]
    },
    {
     "name": "stderr",
     "output_type": "stream",
     "text": [
      "[Epoch 34] Training: 100%|██████████| 45/45 [00:09<00:00,  4.88it/s]\n"
     ]
    },
    {
     "name": "stdout",
     "output_type": "stream",
     "text": [
      "[Epoch 34] Train Loss: 0.0416, Val Loss: 0.0424, IoU: 0.3930\n"
     ]
    },
    {
     "name": "stderr",
     "output_type": "stream",
     "text": [
      "[Epoch 35] Training: 100%|██████████| 45/45 [00:09<00:00,  4.87it/s]\n"
     ]
    },
    {
     "name": "stdout",
     "output_type": "stream",
     "text": [
      "[Epoch 35] Train Loss: 0.0415, Val Loss: 0.0428, IoU: 0.3801\n"
     ]
    },
    {
     "name": "stderr",
     "output_type": "stream",
     "text": [
      "[Epoch 36] Training: 100%|██████████| 45/45 [00:09<00:00,  4.88it/s]\n"
     ]
    },
    {
     "name": "stdout",
     "output_type": "stream",
     "text": [
      "[Epoch 36] Train Loss: 0.0396, Val Loss: 0.0404, IoU: 0.4035\n"
     ]
    },
    {
     "name": "stderr",
     "output_type": "stream",
     "text": [
      "[Epoch 37] Training: 100%|██████████| 45/45 [00:09<00:00,  4.87it/s]\n"
     ]
    },
    {
     "name": "stdout",
     "output_type": "stream",
     "text": [
      "[Epoch 37] Train Loss: 0.0397, Val Loss: 0.0405, IoU: 0.4007\n"
     ]
    },
    {
     "name": "stderr",
     "output_type": "stream",
     "text": [
      "[Epoch 38] Training: 100%|██████████| 45/45 [00:09<00:00,  4.88it/s]\n"
     ]
    },
    {
     "name": "stdout",
     "output_type": "stream",
     "text": [
      "[Epoch 38] Train Loss: 0.0395, Val Loss: 0.0398, IoU: 0.4112\n"
     ]
    },
    {
     "name": "stderr",
     "output_type": "stream",
     "text": [
      "[Epoch 39] Training: 100%|██████████| 45/45 [00:09<00:00,  4.87it/s]\n"
     ]
    },
    {
     "name": "stdout",
     "output_type": "stream",
     "text": [
      "[Epoch 39] Train Loss: 0.0399, Val Loss: 0.0448, IoU: 0.3762\n"
     ]
    },
    {
     "name": "stderr",
     "output_type": "stream",
     "text": [
      "[Epoch 40] Training: 100%|██████████| 45/45 [00:09<00:00,  4.89it/s]\n"
     ]
    },
    {
     "name": "stdout",
     "output_type": "stream",
     "text": [
      "[Epoch 40] Train Loss: 0.0403, Val Loss: 0.0401, IoU: 0.4082\n"
     ]
    },
    {
     "name": "stderr",
     "output_type": "stream",
     "text": [
      "[Epoch 41] Training: 100%|██████████| 45/45 [00:09<00:00,  4.88it/s]\n"
     ]
    },
    {
     "name": "stdout",
     "output_type": "stream",
     "text": [
      "[Epoch 41] Train Loss: 0.0394, Val Loss: 0.0400, IoU: 0.4191\n"
     ]
    },
    {
     "name": "stderr",
     "output_type": "stream",
     "text": [
      "[Epoch 42] Training: 100%|██████████| 45/45 [00:09<00:00,  4.88it/s]\n"
     ]
    },
    {
     "name": "stdout",
     "output_type": "stream",
     "text": [
      "[Epoch 42] Train Loss: 0.0394, Val Loss: 0.0391, IoU: 0.4172\n"
     ]
    },
    {
     "name": "stderr",
     "output_type": "stream",
     "text": [
      "[Epoch 43] Training: 100%|██████████| 45/45 [00:09<00:00,  4.88it/s]\n"
     ]
    },
    {
     "name": "stdout",
     "output_type": "stream",
     "text": [
      "[Epoch 43] Train Loss: 0.0389, Val Loss: 0.0391, IoU: 0.4140\n"
     ]
    },
    {
     "name": "stderr",
     "output_type": "stream",
     "text": [
      "[Epoch 44] Training: 100%|██████████| 45/45 [00:09<00:00,  4.93it/s]\n"
     ]
    },
    {
     "name": "stdout",
     "output_type": "stream",
     "text": [
      "[Epoch 44] Train Loss: 0.0384, Val Loss: 0.0395, IoU: 0.4141\n"
     ]
    },
    {
     "name": "stderr",
     "output_type": "stream",
     "text": [
      "[Epoch 45] Training: 100%|██████████| 45/45 [00:09<00:00,  4.92it/s]\n"
     ]
    },
    {
     "name": "stdout",
     "output_type": "stream",
     "text": [
      "[Epoch 45] Train Loss: 0.0390, Val Loss: 0.0406, IoU: 0.4088\n"
     ]
    },
    {
     "name": "stderr",
     "output_type": "stream",
     "text": [
      "[Epoch 46] Training: 100%|██████████| 45/45 [00:09<00:00,  4.93it/s]\n"
     ]
    },
    {
     "name": "stdout",
     "output_type": "stream",
     "text": [
      "[Epoch 46] Train Loss: 0.0385, Val Loss: 0.0415, IoU: 0.4060\n"
     ]
    },
    {
     "name": "stderr",
     "output_type": "stream",
     "text": [
      "[Epoch 47] Training: 100%|██████████| 45/45 [00:09<00:00,  4.92it/s]\n"
     ]
    },
    {
     "name": "stdout",
     "output_type": "stream",
     "text": [
      "[Epoch 47] Train Loss: 0.0383, Val Loss: 0.0385, IoU: 0.4160\n"
     ]
    },
    {
     "name": "stderr",
     "output_type": "stream",
     "text": [
      "[Epoch 48] Training: 100%|██████████| 45/45 [00:09<00:00,  4.91it/s]\n"
     ]
    },
    {
     "name": "stdout",
     "output_type": "stream",
     "text": [
      "[Epoch 48] Train Loss: 0.0375, Val Loss: 0.0389, IoU: 0.4165\n"
     ]
    },
    {
     "name": "stderr",
     "output_type": "stream",
     "text": [
      "[Epoch 49] Training: 100%|██████████| 45/45 [00:09<00:00,  4.89it/s]\n"
     ]
    },
    {
     "name": "stdout",
     "output_type": "stream",
     "text": [
      "[Epoch 49] Train Loss: 0.0372, Val Loss: 0.0411, IoU: 0.3974\n"
     ]
    },
    {
     "name": "stderr",
     "output_type": "stream",
     "text": [
      "[Epoch 50] Training: 100%|██████████| 45/45 [00:09<00:00,  4.88it/s]\n"
     ]
    },
    {
     "name": "stdout",
     "output_type": "stream",
     "text": [
      "[Epoch 50] Train Loss: 0.0374, Val Loss: 0.0405, IoU: 0.4010\n"
     ]
    },
    {
     "name": "stderr",
     "output_type": "stream",
     "text": [
      "[Epoch 51] Training: 100%|██████████| 45/45 [00:09<00:00,  4.87it/s]\n"
     ]
    },
    {
     "name": "stdout",
     "output_type": "stream",
     "text": [
      "[Epoch 51] Train Loss: 0.0370, Val Loss: 0.0396, IoU: 0.4241\n"
     ]
    },
    {
     "name": "stderr",
     "output_type": "stream",
     "text": [
      "[Epoch 52] Training: 100%|██████████| 45/45 [00:09<00:00,  4.89it/s]\n"
     ]
    },
    {
     "name": "stdout",
     "output_type": "stream",
     "text": [
      "[Epoch 52] Train Loss: 0.0373, Val Loss: 0.0383, IoU: 0.4214\n"
     ]
    },
    {
     "name": "stderr",
     "output_type": "stream",
     "text": [
      "[Epoch 53] Training: 100%|██████████| 45/45 [00:09<00:00,  4.88it/s]\n"
     ]
    },
    {
     "name": "stdout",
     "output_type": "stream",
     "text": [
      "[Epoch 53] Train Loss: 0.0371, Val Loss: 0.0407, IoU: 0.3947\n"
     ]
    },
    {
     "name": "stderr",
     "output_type": "stream",
     "text": [
      "[Epoch 54] Training: 100%|██████████| 45/45 [00:09<00:00,  4.91it/s]\n"
     ]
    },
    {
     "name": "stdout",
     "output_type": "stream",
     "text": [
      "[Epoch 54] Train Loss: 0.0376, Val Loss: 0.0397, IoU: 0.4072\n"
     ]
    },
    {
     "name": "stderr",
     "output_type": "stream",
     "text": [
      "[Epoch 55] Training: 100%|██████████| 45/45 [00:09<00:00,  4.96it/s]\n"
     ]
    },
    {
     "name": "stdout",
     "output_type": "stream",
     "text": [
      "[Epoch 55] Train Loss: 0.0374, Val Loss: 0.0392, IoU: 0.4175\n"
     ]
    },
    {
     "name": "stderr",
     "output_type": "stream",
     "text": [
      "[Epoch 56] Training: 100%|██████████| 45/45 [00:09<00:00,  4.96it/s]\n"
     ]
    },
    {
     "name": "stdout",
     "output_type": "stream",
     "text": [
      "[Epoch 56] Train Loss: 0.0362, Val Loss: 0.0414, IoU: 0.4020\n"
     ]
    },
    {
     "name": "stderr",
     "output_type": "stream",
     "text": [
      "[Epoch 57] Training: 100%|██████████| 45/45 [00:09<00:00,  4.95it/s]\n"
     ]
    },
    {
     "name": "stdout",
     "output_type": "stream",
     "text": [
      "[Epoch 57] Train Loss: 0.0362, Val Loss: 0.0413, IoU: 0.4005\n"
     ]
    },
    {
     "name": "stderr",
     "output_type": "stream",
     "text": [
      "[Epoch 58] Training: 100%|██████████| 45/45 [00:09<00:00,  4.95it/s]\n"
     ]
    },
    {
     "name": "stdout",
     "output_type": "stream",
     "text": [
      "[Epoch 58] Train Loss: 0.0367, Val Loss: 0.0388, IoU: 0.4192\n"
     ]
    },
    {
     "name": "stderr",
     "output_type": "stream",
     "text": [
      "[Epoch 59] Training: 100%|██████████| 45/45 [00:09<00:00,  4.96it/s]\n"
     ]
    },
    {
     "name": "stdout",
     "output_type": "stream",
     "text": [
      "[Epoch 59] Train Loss: 0.0361, Val Loss: 0.0392, IoU: 0.4225\n"
     ]
    },
    {
     "name": "stderr",
     "output_type": "stream",
     "text": [
      "[Epoch 60] Training: 100%|██████████| 45/45 [00:09<00:00,  4.95it/s]\n"
     ]
    },
    {
     "name": "stdout",
     "output_type": "stream",
     "text": [
      "[Epoch 60] Train Loss: 0.0353, Val Loss: 0.0400, IoU: 0.3948\n"
     ]
    },
    {
     "name": "stderr",
     "output_type": "stream",
     "text": [
      "[Epoch 61] Training: 100%|██████████| 45/45 [00:09<00:00,  4.89it/s]\n"
     ]
    },
    {
     "name": "stdout",
     "output_type": "stream",
     "text": [
      "[Epoch 61] Train Loss: 0.0349, Val Loss: 0.0413, IoU: 0.4026\n"
     ]
    },
    {
     "name": "stderr",
     "output_type": "stream",
     "text": [
      "[Epoch 62] Training: 100%|██████████| 45/45 [00:09<00:00,  4.88it/s]\n"
     ]
    },
    {
     "name": "stdout",
     "output_type": "stream",
     "text": [
      "[Epoch 62] Train Loss: 0.0349, Val Loss: 0.0409, IoU: 0.4033\n",
      "Early stopping triggered.\n",
      "Accuracy: 0.9834, Precision: 0.5695, Recall: 0.5803, F1 Score: 0.5748\n",
      "Confusion Matrix:\n",
      "[[1417682   12346]\n",
      " [  11815   16333]]\n"
     ]
    }
   ],
   "source": [
    "unet = UNet(in_channels=4, out_channels=1).to(device)\n",
    "results_unet_BCEWithLogitsLoss = train_model(unet, train_loader, val_loader, criterion1, device, num_epochs=80)\n",
    "metrics = evaluate_metrics(results_unet_BCEWithLogitsLoss)"
   ]
  },
  {
   "cell_type": "code",
   "execution_count": 21,
   "id": "80e55161",
   "metadata": {},
   "outputs": [
    {
     "name": "stderr",
     "output_type": "stream",
     "text": [
      "[Epoch 1] Training: 100%|██████████| 45/45 [00:09<00:00,  4.88it/s]\n"
     ]
    },
    {
     "name": "stdout",
     "output_type": "stream",
     "text": [
      "[Epoch 1] Train Loss: 0.4693, Val Loss: 0.3169, IoU: 0.0528\n"
     ]
    },
    {
     "name": "stderr",
     "output_type": "stream",
     "text": [
      "[Epoch 2] Training: 100%|██████████| 45/45 [00:09<00:00,  4.88it/s]\n"
     ]
    },
    {
     "name": "stdout",
     "output_type": "stream",
     "text": [
      "[Epoch 2] Train Loss: 0.2391, Val Loss: 0.1973, IoU: 0.1157\n"
     ]
    },
    {
     "name": "stderr",
     "output_type": "stream",
     "text": [
      "[Epoch 3] Training: 100%|██████████| 45/45 [00:09<00:00,  4.88it/s]\n"
     ]
    },
    {
     "name": "stdout",
     "output_type": "stream",
     "text": [
      "[Epoch 3] Train Loss: 0.1568, Val Loss: 0.1327, IoU: 0.0854\n"
     ]
    },
    {
     "name": "stderr",
     "output_type": "stream",
     "text": [
      "[Epoch 4] Training: 100%|██████████| 45/45 [00:09<00:00,  4.88it/s]\n"
     ]
    },
    {
     "name": "stdout",
     "output_type": "stream",
     "text": [
      "[Epoch 4] Train Loss: 0.1184, Val Loss: 0.1053, IoU: 0.2121\n"
     ]
    },
    {
     "name": "stderr",
     "output_type": "stream",
     "text": [
      "[Epoch 5] Training: 100%|██████████| 45/45 [00:09<00:00,  4.88it/s]\n"
     ]
    },
    {
     "name": "stdout",
     "output_type": "stream",
     "text": [
      "[Epoch 5] Train Loss: 0.0949, Val Loss: 0.0864, IoU: 0.1499\n"
     ]
    },
    {
     "name": "stderr",
     "output_type": "stream",
     "text": [
      "[Epoch 6] Training: 100%|██████████| 45/45 [00:09<00:00,  4.88it/s]\n"
     ]
    },
    {
     "name": "stdout",
     "output_type": "stream",
     "text": [
      "[Epoch 6] Train Loss: 0.0806, Val Loss: 0.0723, IoU: 0.2348\n"
     ]
    },
    {
     "name": "stderr",
     "output_type": "stream",
     "text": [
      "[Epoch 7] Training: 100%|██████████| 45/45 [00:09<00:00,  4.90it/s]\n"
     ]
    },
    {
     "name": "stdout",
     "output_type": "stream",
     "text": [
      "[Epoch 7] Train Loss: 0.0723, Val Loss: 0.1204, IoU: 0.2075\n"
     ]
    },
    {
     "name": "stderr",
     "output_type": "stream",
     "text": [
      "[Epoch 8] Training: 100%|██████████| 45/45 [00:08<00:00,  5.00it/s]\n"
     ]
    },
    {
     "name": "stdout",
     "output_type": "stream",
     "text": [
      "[Epoch 8] Train Loss: 0.0666, Val Loss: 0.0639, IoU: 0.2694\n"
     ]
    },
    {
     "name": "stderr",
     "output_type": "stream",
     "text": [
      "[Epoch 9] Training: 100%|██████████| 45/45 [00:08<00:00,  5.01it/s]\n"
     ]
    },
    {
     "name": "stdout",
     "output_type": "stream",
     "text": [
      "[Epoch 9] Train Loss: 0.0634, Val Loss: 0.0619, IoU: 0.1981\n"
     ]
    },
    {
     "name": "stderr",
     "output_type": "stream",
     "text": [
      "[Epoch 10] Training: 100%|██████████| 45/45 [00:09<00:00,  4.99it/s]\n"
     ]
    },
    {
     "name": "stdout",
     "output_type": "stream",
     "text": [
      "[Epoch 10] Train Loss: 0.0598, Val Loss: 0.0615, IoU: 0.2890\n"
     ]
    },
    {
     "name": "stderr",
     "output_type": "stream",
     "text": [
      "[Epoch 11] Training: 100%|██████████| 45/45 [00:09<00:00,  4.97it/s]\n"
     ]
    },
    {
     "name": "stdout",
     "output_type": "stream",
     "text": [
      "[Epoch 11] Train Loss: 0.0580, Val Loss: 0.0558, IoU: 0.2962\n"
     ]
    },
    {
     "name": "stderr",
     "output_type": "stream",
     "text": [
      "[Epoch 12] Training: 100%|██████████| 45/45 [00:08<00:00,  5.02it/s]\n"
     ]
    },
    {
     "name": "stdout",
     "output_type": "stream",
     "text": [
      "[Epoch 12] Train Loss: 0.0565, Val Loss: 0.0547, IoU: 0.3316\n"
     ]
    },
    {
     "name": "stderr",
     "output_type": "stream",
     "text": [
      "[Epoch 13] Training: 100%|██████████| 45/45 [00:09<00:00,  4.86it/s]\n"
     ]
    },
    {
     "name": "stdout",
     "output_type": "stream",
     "text": [
      "[Epoch 13] Train Loss: 0.0547, Val Loss: 0.0555, IoU: 0.2594\n"
     ]
    },
    {
     "name": "stderr",
     "output_type": "stream",
     "text": [
      "[Epoch 14] Training: 100%|██████████| 45/45 [00:09<00:00,  4.92it/s]\n"
     ]
    },
    {
     "name": "stdout",
     "output_type": "stream",
     "text": [
      "[Epoch 14] Train Loss: 0.0536, Val Loss: 0.0514, IoU: 0.3298\n"
     ]
    },
    {
     "name": "stderr",
     "output_type": "stream",
     "text": [
      "[Epoch 15] Training: 100%|██████████| 45/45 [00:09<00:00,  4.92it/s]\n"
     ]
    },
    {
     "name": "stdout",
     "output_type": "stream",
     "text": [
      "[Epoch 15] Train Loss: 0.0520, Val Loss: 0.0539, IoU: 0.3040\n"
     ]
    },
    {
     "name": "stderr",
     "output_type": "stream",
     "text": [
      "[Epoch 16] Training: 100%|██████████| 45/45 [00:09<00:00,  4.93it/s]\n"
     ]
    },
    {
     "name": "stdout",
     "output_type": "stream",
     "text": [
      "[Epoch 16] Train Loss: 0.0513, Val Loss: 0.0531, IoU: 0.2798\n"
     ]
    },
    {
     "name": "stderr",
     "output_type": "stream",
     "text": [
      "[Epoch 17] Training: 100%|██████████| 45/45 [00:09<00:00,  4.93it/s]\n"
     ]
    },
    {
     "name": "stdout",
     "output_type": "stream",
     "text": [
      "[Epoch 17] Train Loss: 0.0517, Val Loss: 0.0534, IoU: 0.3390\n"
     ]
    },
    {
     "name": "stderr",
     "output_type": "stream",
     "text": [
      "[Epoch 18] Training: 100%|██████████| 45/45 [00:09<00:00,  4.93it/s]\n"
     ]
    },
    {
     "name": "stdout",
     "output_type": "stream",
     "text": [
      "[Epoch 18] Train Loss: 0.0514, Val Loss: 0.0540, IoU: 0.2410\n"
     ]
    },
    {
     "name": "stderr",
     "output_type": "stream",
     "text": [
      "[Epoch 19] Training: 100%|██████████| 45/45 [00:09<00:00,  4.94it/s]\n"
     ]
    },
    {
     "name": "stdout",
     "output_type": "stream",
     "text": [
      "[Epoch 19] Train Loss: 0.0499, Val Loss: 0.0504, IoU: 0.3048\n"
     ]
    },
    {
     "name": "stderr",
     "output_type": "stream",
     "text": [
      "[Epoch 20] Training: 100%|██████████| 45/45 [00:09<00:00,  4.94it/s]\n"
     ]
    },
    {
     "name": "stdout",
     "output_type": "stream",
     "text": [
      "[Epoch 20] Train Loss: 0.0485, Val Loss: 0.0468, IoU: 0.3491\n"
     ]
    },
    {
     "name": "stderr",
     "output_type": "stream",
     "text": [
      "[Epoch 21] Training: 100%|██████████| 45/45 [00:09<00:00,  4.94it/s]\n"
     ]
    },
    {
     "name": "stdout",
     "output_type": "stream",
     "text": [
      "[Epoch 21] Train Loss: 0.0485, Val Loss: 0.0497, IoU: 0.3499\n"
     ]
    },
    {
     "name": "stderr",
     "output_type": "stream",
     "text": [
      "[Epoch 22] Training: 100%|██████████| 45/45 [00:09<00:00,  4.94it/s]\n"
     ]
    },
    {
     "name": "stdout",
     "output_type": "stream",
     "text": [
      "[Epoch 22] Train Loss: 0.0478, Val Loss: 0.0446, IoU: 0.3711\n"
     ]
    },
    {
     "name": "stderr",
     "output_type": "stream",
     "text": [
      "[Epoch 23] Training: 100%|██████████| 45/45 [00:09<00:00,  4.95it/s]\n"
     ]
    },
    {
     "name": "stdout",
     "output_type": "stream",
     "text": [
      "[Epoch 23] Train Loss: 0.0475, Val Loss: 0.0476, IoU: 0.3544\n"
     ]
    },
    {
     "name": "stderr",
     "output_type": "stream",
     "text": [
      "[Epoch 24] Training: 100%|██████████| 45/45 [00:09<00:00,  4.95it/s]\n"
     ]
    },
    {
     "name": "stdout",
     "output_type": "stream",
     "text": [
      "[Epoch 24] Train Loss: 0.0469, Val Loss: 0.0456, IoU: 0.3549\n"
     ]
    },
    {
     "name": "stderr",
     "output_type": "stream",
     "text": [
      "[Epoch 25] Training: 100%|██████████| 45/45 [00:09<00:00,  4.95it/s]\n"
     ]
    },
    {
     "name": "stdout",
     "output_type": "stream",
     "text": [
      "[Epoch 25] Train Loss: 0.0460, Val Loss: 0.0459, IoU: 0.3664\n"
     ]
    },
    {
     "name": "stderr",
     "output_type": "stream",
     "text": [
      "[Epoch 26] Training: 100%|██████████| 45/45 [00:09<00:00,  4.95it/s]\n"
     ]
    },
    {
     "name": "stdout",
     "output_type": "stream",
     "text": [
      "[Epoch 26] Train Loss: 0.0461, Val Loss: 0.0458, IoU: 0.3627\n"
     ]
    },
    {
     "name": "stderr",
     "output_type": "stream",
     "text": [
      "[Epoch 27] Training: 100%|██████████| 45/45 [00:09<00:00,  4.95it/s]\n"
     ]
    },
    {
     "name": "stdout",
     "output_type": "stream",
     "text": [
      "[Epoch 27] Train Loss: 0.0465, Val Loss: 0.0467, IoU: 0.3378\n"
     ]
    },
    {
     "name": "stderr",
     "output_type": "stream",
     "text": [
      "[Epoch 28] Training: 100%|██████████| 45/45 [00:09<00:00,  4.95it/s]\n"
     ]
    },
    {
     "name": "stdout",
     "output_type": "stream",
     "text": [
      "[Epoch 28] Train Loss: 0.0460, Val Loss: 0.0463, IoU: 0.3640\n"
     ]
    },
    {
     "name": "stderr",
     "output_type": "stream",
     "text": [
      "[Epoch 29] Training: 100%|██████████| 45/45 [00:09<00:00,  4.96it/s]\n"
     ]
    },
    {
     "name": "stdout",
     "output_type": "stream",
     "text": [
      "[Epoch 29] Train Loss: 0.0451, Val Loss: 0.0432, IoU: 0.3839\n"
     ]
    },
    {
     "name": "stderr",
     "output_type": "stream",
     "text": [
      "[Epoch 30] Training: 100%|██████████| 45/45 [00:09<00:00,  4.96it/s]\n"
     ]
    },
    {
     "name": "stdout",
     "output_type": "stream",
     "text": [
      "[Epoch 30] Train Loss: 0.0447, Val Loss: 0.0442, IoU: 0.3744\n"
     ]
    },
    {
     "name": "stderr",
     "output_type": "stream",
     "text": [
      "[Epoch 31] Training: 100%|██████████| 45/45 [00:09<00:00,  4.95it/s]\n"
     ]
    },
    {
     "name": "stdout",
     "output_type": "stream",
     "text": [
      "[Epoch 31] Train Loss: 0.0440, Val Loss: 0.0438, IoU: 0.3733\n"
     ]
    },
    {
     "name": "stderr",
     "output_type": "stream",
     "text": [
      "[Epoch 32] Training: 100%|██████████| 45/45 [00:09<00:00,  4.94it/s]\n"
     ]
    },
    {
     "name": "stdout",
     "output_type": "stream",
     "text": [
      "[Epoch 32] Train Loss: 0.0442, Val Loss: 0.0444, IoU: 0.3870\n"
     ]
    },
    {
     "name": "stderr",
     "output_type": "stream",
     "text": [
      "[Epoch 33] Training: 100%|██████████| 45/45 [00:09<00:00,  4.94it/s]\n"
     ]
    },
    {
     "name": "stdout",
     "output_type": "stream",
     "text": [
      "[Epoch 33] Train Loss: 0.0436, Val Loss: 0.0454, IoU: 0.3763\n"
     ]
    },
    {
     "name": "stderr",
     "output_type": "stream",
     "text": [
      "[Epoch 34] Training: 100%|██████████| 45/45 [00:09<00:00,  4.94it/s]\n"
     ]
    },
    {
     "name": "stdout",
     "output_type": "stream",
     "text": [
      "[Epoch 34] Train Loss: 0.0429, Val Loss: 0.0420, IoU: 0.3925\n"
     ]
    },
    {
     "name": "stderr",
     "output_type": "stream",
     "text": [
      "[Epoch 35] Training: 100%|██████████| 45/45 [00:09<00:00,  4.93it/s]\n"
     ]
    },
    {
     "name": "stdout",
     "output_type": "stream",
     "text": [
      "[Epoch 35] Train Loss: 0.0431, Val Loss: 0.0431, IoU: 0.3744\n"
     ]
    },
    {
     "name": "stderr",
     "output_type": "stream",
     "text": [
      "[Epoch 36] Training: 100%|██████████| 45/45 [00:09<00:00,  4.93it/s]\n"
     ]
    },
    {
     "name": "stdout",
     "output_type": "stream",
     "text": [
      "[Epoch 36] Train Loss: 0.0424, Val Loss: 0.0438, IoU: 0.3795\n"
     ]
    },
    {
     "name": "stderr",
     "output_type": "stream",
     "text": [
      "[Epoch 37] Training: 100%|██████████| 45/45 [00:09<00:00,  4.90it/s]\n"
     ]
    },
    {
     "name": "stdout",
     "output_type": "stream",
     "text": [
      "[Epoch 37] Train Loss: 0.0426, Val Loss: 0.0431, IoU: 0.3996\n"
     ]
    },
    {
     "name": "stderr",
     "output_type": "stream",
     "text": [
      "[Epoch 38] Training: 100%|██████████| 45/45 [00:09<00:00,  4.90it/s]\n"
     ]
    },
    {
     "name": "stdout",
     "output_type": "stream",
     "text": [
      "[Epoch 38] Train Loss: 0.0422, Val Loss: 0.0441, IoU: 0.3832\n"
     ]
    },
    {
     "name": "stderr",
     "output_type": "stream",
     "text": [
      "[Epoch 39] Training: 100%|██████████| 45/45 [00:09<00:00,  4.88it/s]\n"
     ]
    },
    {
     "name": "stdout",
     "output_type": "stream",
     "text": [
      "[Epoch 39] Train Loss: 0.0424, Val Loss: 0.0419, IoU: 0.3867\n"
     ]
    },
    {
     "name": "stderr",
     "output_type": "stream",
     "text": [
      "[Epoch 40] Training: 100%|██████████| 45/45 [00:09<00:00,  4.90it/s]\n"
     ]
    },
    {
     "name": "stdout",
     "output_type": "stream",
     "text": [
      "[Epoch 40] Train Loss: 0.0418, Val Loss: 0.0452, IoU: 0.3778\n"
     ]
    },
    {
     "name": "stderr",
     "output_type": "stream",
     "text": [
      "[Epoch 41] Training: 100%|██████████| 45/45 [00:14<00:00,  3.13it/s]\n"
     ]
    },
    {
     "name": "stdout",
     "output_type": "stream",
     "text": [
      "[Epoch 41] Train Loss: 0.0419, Val Loss: 0.0420, IoU: 0.3903\n"
     ]
    },
    {
     "name": "stderr",
     "output_type": "stream",
     "text": [
      "[Epoch 42] Training: 100%|██████████| 45/45 [00:11<00:00,  3.99it/s]\n"
     ]
    },
    {
     "name": "stdout",
     "output_type": "stream",
     "text": [
      "[Epoch 42] Train Loss: 0.0418, Val Loss: 0.0413, IoU: 0.4008\n"
     ]
    },
    {
     "name": "stderr",
     "output_type": "stream",
     "text": [
      "[Epoch 43] Training: 100%|██████████| 45/45 [00:09<00:00,  4.93it/s]\n"
     ]
    },
    {
     "name": "stdout",
     "output_type": "stream",
     "text": [
      "[Epoch 43] Train Loss: 0.0418, Val Loss: 0.0439, IoU: 0.3822\n"
     ]
    },
    {
     "name": "stderr",
     "output_type": "stream",
     "text": [
      "[Epoch 44] Training: 100%|██████████| 45/45 [00:09<00:00,  4.93it/s]\n"
     ]
    },
    {
     "name": "stdout",
     "output_type": "stream",
     "text": [
      "[Epoch 44] Train Loss: 0.0407, Val Loss: 0.0412, IoU: 0.4089\n"
     ]
    },
    {
     "name": "stderr",
     "output_type": "stream",
     "text": [
      "[Epoch 45] Training: 100%|██████████| 45/45 [00:09<00:00,  4.93it/s]\n"
     ]
    },
    {
     "name": "stdout",
     "output_type": "stream",
     "text": [
      "[Epoch 45] Train Loss: 0.0399, Val Loss: 0.0443, IoU: 0.3698\n"
     ]
    },
    {
     "name": "stderr",
     "output_type": "stream",
     "text": [
      "[Epoch 46] Training: 100%|██████████| 45/45 [00:09<00:00,  4.93it/s]\n"
     ]
    },
    {
     "name": "stdout",
     "output_type": "stream",
     "text": [
      "[Epoch 46] Train Loss: 0.0396, Val Loss: 0.0404, IoU: 0.4101\n"
     ]
    },
    {
     "name": "stderr",
     "output_type": "stream",
     "text": [
      "[Epoch 47] Training: 100%|██████████| 45/45 [00:09<00:00,  4.93it/s]\n"
     ]
    },
    {
     "name": "stdout",
     "output_type": "stream",
     "text": [
      "[Epoch 47] Train Loss: 0.0413, Val Loss: 0.0443, IoU: 0.3669\n"
     ]
    },
    {
     "name": "stderr",
     "output_type": "stream",
     "text": [
      "[Epoch 48] Training: 100%|██████████| 45/45 [00:09<00:00,  4.93it/s]\n"
     ]
    },
    {
     "name": "stdout",
     "output_type": "stream",
     "text": [
      "[Epoch 48] Train Loss: 0.0402, Val Loss: 0.0408, IoU: 0.4050\n"
     ]
    },
    {
     "name": "stderr",
     "output_type": "stream",
     "text": [
      "[Epoch 49] Training: 100%|██████████| 45/45 [00:09<00:00,  4.93it/s]\n"
     ]
    },
    {
     "name": "stdout",
     "output_type": "stream",
     "text": [
      "[Epoch 49] Train Loss: 0.0408, Val Loss: 0.0415, IoU: 0.4008\n"
     ]
    },
    {
     "name": "stderr",
     "output_type": "stream",
     "text": [
      "[Epoch 50] Training: 100%|██████████| 45/45 [00:09<00:00,  4.93it/s]\n"
     ]
    },
    {
     "name": "stdout",
     "output_type": "stream",
     "text": [
      "[Epoch 50] Train Loss: 0.0397, Val Loss: 0.0438, IoU: 0.3952\n"
     ]
    },
    {
     "name": "stderr",
     "output_type": "stream",
     "text": [
      "[Epoch 51] Training: 100%|██████████| 45/45 [00:09<00:00,  4.92it/s]\n"
     ]
    },
    {
     "name": "stdout",
     "output_type": "stream",
     "text": [
      "[Epoch 51] Train Loss: 0.0408, Val Loss: 0.0404, IoU: 0.3982\n"
     ]
    },
    {
     "name": "stderr",
     "output_type": "stream",
     "text": [
      "[Epoch 52] Training: 100%|██████████| 45/45 [00:09<00:00,  4.91it/s]\n"
     ]
    },
    {
     "name": "stdout",
     "output_type": "stream",
     "text": [
      "[Epoch 52] Train Loss: 0.0387, Val Loss: 0.0421, IoU: 0.4044\n"
     ]
    },
    {
     "name": "stderr",
     "output_type": "stream",
     "text": [
      "[Epoch 53] Training: 100%|██████████| 45/45 [00:09<00:00,  4.92it/s]\n"
     ]
    },
    {
     "name": "stdout",
     "output_type": "stream",
     "text": [
      "[Epoch 53] Train Loss: 0.0387, Val Loss: 0.0390, IoU: 0.4206\n"
     ]
    },
    {
     "name": "stderr",
     "output_type": "stream",
     "text": [
      "[Epoch 54] Training: 100%|██████████| 45/45 [00:09<00:00,  4.94it/s]\n"
     ]
    },
    {
     "name": "stdout",
     "output_type": "stream",
     "text": [
      "[Epoch 54] Train Loss: 0.0393, Val Loss: 0.0405, IoU: 0.4087\n"
     ]
    },
    {
     "name": "stderr",
     "output_type": "stream",
     "text": [
      "[Epoch 55] Training: 100%|██████████| 45/45 [00:09<00:00,  4.93it/s]\n"
     ]
    },
    {
     "name": "stdout",
     "output_type": "stream",
     "text": [
      "[Epoch 55] Train Loss: 0.0391, Val Loss: 0.0420, IoU: 0.4030\n"
     ]
    },
    {
     "name": "stderr",
     "output_type": "stream",
     "text": [
      "[Epoch 56] Training: 100%|██████████| 45/45 [00:09<00:00,  4.93it/s]\n"
     ]
    },
    {
     "name": "stdout",
     "output_type": "stream",
     "text": [
      "[Epoch 56] Train Loss: 0.0383, Val Loss: 0.0391, IoU: 0.4161\n"
     ]
    },
    {
     "name": "stderr",
     "output_type": "stream",
     "text": [
      "[Epoch 57] Training: 100%|██████████| 45/45 [00:09<00:00,  4.94it/s]\n"
     ]
    },
    {
     "name": "stdout",
     "output_type": "stream",
     "text": [
      "[Epoch 57] Train Loss: 0.0378, Val Loss: 0.0393, IoU: 0.4130\n"
     ]
    },
    {
     "name": "stderr",
     "output_type": "stream",
     "text": [
      "[Epoch 58] Training: 100%|██████████| 45/45 [00:09<00:00,  4.93it/s]\n"
     ]
    },
    {
     "name": "stdout",
     "output_type": "stream",
     "text": [
      "[Epoch 58] Train Loss: 0.0377, Val Loss: 0.0390, IoU: 0.4146\n"
     ]
    },
    {
     "name": "stderr",
     "output_type": "stream",
     "text": [
      "[Epoch 59] Training: 100%|██████████| 45/45 [00:09<00:00,  4.93it/s]\n"
     ]
    },
    {
     "name": "stdout",
     "output_type": "stream",
     "text": [
      "[Epoch 59] Train Loss: 0.0378, Val Loss: 0.0385, IoU: 0.4238\n"
     ]
    },
    {
     "name": "stderr",
     "output_type": "stream",
     "text": [
      "[Epoch 60] Training: 100%|██████████| 45/45 [00:09<00:00,  4.92it/s]\n"
     ]
    },
    {
     "name": "stdout",
     "output_type": "stream",
     "text": [
      "[Epoch 60] Train Loss: 0.0370, Val Loss: 0.0394, IoU: 0.4154\n"
     ]
    },
    {
     "name": "stderr",
     "output_type": "stream",
     "text": [
      "[Epoch 61] Training: 100%|██████████| 45/45 [00:09<00:00,  4.93it/s]\n"
     ]
    },
    {
     "name": "stdout",
     "output_type": "stream",
     "text": [
      "[Epoch 61] Train Loss: 0.0373, Val Loss: 0.0388, IoU: 0.4220\n"
     ]
    },
    {
     "name": "stderr",
     "output_type": "stream",
     "text": [
      "[Epoch 62] Training: 100%|██████████| 45/45 [00:09<00:00,  4.94it/s]\n"
     ]
    },
    {
     "name": "stdout",
     "output_type": "stream",
     "text": [
      "[Epoch 62] Train Loss: 0.0377, Val Loss: 0.0396, IoU: 0.4199\n"
     ]
    },
    {
     "name": "stderr",
     "output_type": "stream",
     "text": [
      "[Epoch 63] Training: 100%|██████████| 45/45 [00:09<00:00,  4.93it/s]\n"
     ]
    },
    {
     "name": "stdout",
     "output_type": "stream",
     "text": [
      "[Epoch 63] Train Loss: 0.0368, Val Loss: 0.0394, IoU: 0.4200\n"
     ]
    },
    {
     "name": "stderr",
     "output_type": "stream",
     "text": [
      "[Epoch 64] Training: 100%|██████████| 45/45 [00:09<00:00,  4.92it/s]\n"
     ]
    },
    {
     "name": "stdout",
     "output_type": "stream",
     "text": [
      "[Epoch 64] Train Loss: 0.0377, Val Loss: 0.0410, IoU: 0.4142\n"
     ]
    },
    {
     "name": "stderr",
     "output_type": "stream",
     "text": [
      "[Epoch 65] Training: 100%|██████████| 45/45 [00:09<00:00,  4.93it/s]\n"
     ]
    },
    {
     "name": "stdout",
     "output_type": "stream",
     "text": [
      "[Epoch 65] Train Loss: 0.0372, Val Loss: 0.0388, IoU: 0.4186\n"
     ]
    },
    {
     "name": "stderr",
     "output_type": "stream",
     "text": [
      "[Epoch 66] Training: 100%|██████████| 45/45 [00:09<00:00,  4.92it/s]\n"
     ]
    },
    {
     "name": "stdout",
     "output_type": "stream",
     "text": [
      "[Epoch 66] Train Loss: 0.0369, Val Loss: 0.0415, IoU: 0.4057\n"
     ]
    },
    {
     "name": "stderr",
     "output_type": "stream",
     "text": [
      "[Epoch 67] Training: 100%|██████████| 45/45 [00:09<00:00,  4.93it/s]\n"
     ]
    },
    {
     "name": "stdout",
     "output_type": "stream",
     "text": [
      "[Epoch 67] Train Loss: 0.0375, Val Loss: 0.0398, IoU: 0.4186\n"
     ]
    },
    {
     "name": "stderr",
     "output_type": "stream",
     "text": [
      "[Epoch 68] Training: 100%|██████████| 45/45 [00:09<00:00,  4.92it/s]\n"
     ]
    },
    {
     "name": "stdout",
     "output_type": "stream",
     "text": [
      "[Epoch 68] Train Loss: 0.0367, Val Loss: 0.0389, IoU: 0.4215\n"
     ]
    },
    {
     "name": "stderr",
     "output_type": "stream",
     "text": [
      "[Epoch 69] Training: 100%|██████████| 45/45 [00:09<00:00,  4.92it/s]\n"
     ]
    },
    {
     "name": "stdout",
     "output_type": "stream",
     "text": [
      "[Epoch 69] Train Loss: 0.0361, Val Loss: 0.0395, IoU: 0.4187\n",
      "Early stopping triggered.\n",
      "Accuracy: 0.9842, Precision: 0.5892, Recall: 0.5913, F1 Score: 0.5903\n",
      "Confusion Matrix:\n",
      "[[1418423   11605]\n",
      " [  11503   16645]]\n"
     ]
    }
   ],
   "source": [
    "# BCELoss\n",
    "unet = UNet(in_channels=4, out_channels=1).to(device)\n",
    "results_unet_BCELoss = train_model(unet, train_loader, val_loader, criterion2, device, num_epochs=80)\n",
    "metrics = evaluate_metrics(results_unet_BCELoss)"
   ]
  },
  {
   "cell_type": "code",
   "execution_count": 22,
   "id": "8941fcb7",
   "metadata": {},
   "outputs": [
    {
     "name": "stderr",
     "output_type": "stream",
     "text": [
      "[Epoch 1] Training: 100%|██████████| 45/45 [00:09<00:00,  4.85it/s]\n"
     ]
    },
    {
     "name": "stdout",
     "output_type": "stream",
     "text": [
      "[Epoch 1] Train Loss: 0.6131, Val Loss: 0.4923, IoU: 0.1477\n"
     ]
    },
    {
     "name": "stderr",
     "output_type": "stream",
     "text": [
      "[Epoch 2] Training: 100%|██████████| 45/45 [00:09<00:00,  4.94it/s]\n"
     ]
    },
    {
     "name": "stdout",
     "output_type": "stream",
     "text": [
      "[Epoch 2] Train Loss: 0.4800, Val Loss: 0.4481, IoU: 0.2664\n"
     ]
    },
    {
     "name": "stderr",
     "output_type": "stream",
     "text": [
      "[Epoch 3] Training: 100%|██████████| 45/45 [00:09<00:00,  4.93it/s]\n"
     ]
    },
    {
     "name": "stdout",
     "output_type": "stream",
     "text": [
      "[Epoch 3] Train Loss: 0.4284, Val Loss: 0.4262, IoU: 0.2710\n"
     ]
    },
    {
     "name": "stderr",
     "output_type": "stream",
     "text": [
      "[Epoch 4] Training: 100%|██████████| 45/45 [00:09<00:00,  4.93it/s]\n"
     ]
    },
    {
     "name": "stdout",
     "output_type": "stream",
     "text": [
      "[Epoch 4] Train Loss: 0.3938, Val Loss: 0.3836, IoU: 0.3217\n"
     ]
    },
    {
     "name": "stderr",
     "output_type": "stream",
     "text": [
      "[Epoch 5] Training: 100%|██████████| 45/45 [00:09<00:00,  4.93it/s]\n"
     ]
    },
    {
     "name": "stdout",
     "output_type": "stream",
     "text": [
      "[Epoch 5] Train Loss: 0.3721, Val Loss: 0.3643, IoU: 0.3149\n"
     ]
    },
    {
     "name": "stderr",
     "output_type": "stream",
     "text": [
      "[Epoch 6] Training: 100%|██████████| 45/45 [00:09<00:00,  4.93it/s]\n"
     ]
    },
    {
     "name": "stdout",
     "output_type": "stream",
     "text": [
      "[Epoch 6] Train Loss: 0.3527, Val Loss: 0.4555, IoU: 0.1949\n"
     ]
    },
    {
     "name": "stderr",
     "output_type": "stream",
     "text": [
      "[Epoch 7] Training: 100%|██████████| 45/45 [00:09<00:00,  4.93it/s]\n"
     ]
    },
    {
     "name": "stdout",
     "output_type": "stream",
     "text": [
      "[Epoch 7] Train Loss: 0.3425, Val Loss: 0.3461, IoU: 0.3177\n"
     ]
    },
    {
     "name": "stderr",
     "output_type": "stream",
     "text": [
      "[Epoch 8] Training: 100%|██████████| 45/45 [00:09<00:00,  4.93it/s]\n"
     ]
    },
    {
     "name": "stdout",
     "output_type": "stream",
     "text": [
      "[Epoch 8] Train Loss: 0.3349, Val Loss: 0.3275, IoU: 0.3418\n"
     ]
    },
    {
     "name": "stderr",
     "output_type": "stream",
     "text": [
      "[Epoch 9] Training: 100%|██████████| 45/45 [00:09<00:00,  4.93it/s]\n"
     ]
    },
    {
     "name": "stdout",
     "output_type": "stream",
     "text": [
      "[Epoch 9] Train Loss: 0.3260, Val Loss: 0.3192, IoU: 0.3464\n"
     ]
    },
    {
     "name": "stderr",
     "output_type": "stream",
     "text": [
      "[Epoch 10] Training: 100%|██████████| 45/45 [00:09<00:00,  4.93it/s]\n"
     ]
    },
    {
     "name": "stdout",
     "output_type": "stream",
     "text": [
      "[Epoch 10] Train Loss: 0.3190, Val Loss: 0.3242, IoU: 0.3301\n"
     ]
    },
    {
     "name": "stderr",
     "output_type": "stream",
     "text": [
      "[Epoch 11] Training: 100%|██████████| 45/45 [00:09<00:00,  4.93it/s]\n"
     ]
    },
    {
     "name": "stdout",
     "output_type": "stream",
     "text": [
      "[Epoch 11] Train Loss: 0.3168, Val Loss: 0.3574, IoU: 0.2460\n"
     ]
    },
    {
     "name": "stderr",
     "output_type": "stream",
     "text": [
      "[Epoch 12] Training: 100%|██████████| 45/45 [00:09<00:00,  4.94it/s]\n"
     ]
    },
    {
     "name": "stdout",
     "output_type": "stream",
     "text": [
      "[Epoch 12] Train Loss: 0.3100, Val Loss: 0.3089, IoU: 0.3560\n"
     ]
    },
    {
     "name": "stderr",
     "output_type": "stream",
     "text": [
      "[Epoch 13] Training: 100%|██████████| 45/45 [00:09<00:00,  4.93it/s]\n"
     ]
    },
    {
     "name": "stdout",
     "output_type": "stream",
     "text": [
      "[Epoch 13] Train Loss: 0.3082, Val Loss: 0.2981, IoU: 0.3807\n"
     ]
    },
    {
     "name": "stderr",
     "output_type": "stream",
     "text": [
      "[Epoch 14] Training: 100%|██████████| 45/45 [00:09<00:00,  4.92it/s]\n"
     ]
    },
    {
     "name": "stdout",
     "output_type": "stream",
     "text": [
      "[Epoch 14] Train Loss: 0.3047, Val Loss: 0.3246, IoU: 0.3222\n"
     ]
    },
    {
     "name": "stderr",
     "output_type": "stream",
     "text": [
      "[Epoch 15] Training: 100%|██████████| 45/45 [00:09<00:00,  4.93it/s]\n"
     ]
    },
    {
     "name": "stdout",
     "output_type": "stream",
     "text": [
      "[Epoch 15] Train Loss: 0.3035, Val Loss: 0.3001, IoU: 0.3785\n"
     ]
    },
    {
     "name": "stderr",
     "output_type": "stream",
     "text": [
      "[Epoch 16] Training: 100%|██████████| 45/45 [00:09<00:00,  4.94it/s]\n"
     ]
    },
    {
     "name": "stdout",
     "output_type": "stream",
     "text": [
      "[Epoch 16] Train Loss: 0.3004, Val Loss: 0.2986, IoU: 0.3823\n"
     ]
    },
    {
     "name": "stderr",
     "output_type": "stream",
     "text": [
      "[Epoch 17] Training: 100%|██████████| 45/45 [00:09<00:00,  4.93it/s]\n"
     ]
    },
    {
     "name": "stdout",
     "output_type": "stream",
     "text": [
      "[Epoch 17] Train Loss: 0.3022, Val Loss: 0.2902, IoU: 0.3862\n"
     ]
    },
    {
     "name": "stderr",
     "output_type": "stream",
     "text": [
      "[Epoch 18] Training: 100%|██████████| 45/45 [00:09<00:00,  4.93it/s]\n"
     ]
    },
    {
     "name": "stdout",
     "output_type": "stream",
     "text": [
      "[Epoch 18] Train Loss: 0.3025, Val Loss: 0.3382, IoU: 0.2785\n"
     ]
    },
    {
     "name": "stderr",
     "output_type": "stream",
     "text": [
      "[Epoch 19] Training: 100%|██████████| 45/45 [00:09<00:00,  4.93it/s]\n"
     ]
    },
    {
     "name": "stdout",
     "output_type": "stream",
     "text": [
      "[Epoch 19] Train Loss: 0.2988, Val Loss: 0.2912, IoU: 0.3877\n"
     ]
    },
    {
     "name": "stderr",
     "output_type": "stream",
     "text": [
      "[Epoch 20] Training: 100%|██████████| 45/45 [00:09<00:00,  4.92it/s]\n"
     ]
    },
    {
     "name": "stdout",
     "output_type": "stream",
     "text": [
      "[Epoch 20] Train Loss: 0.2948, Val Loss: 0.2887, IoU: 0.3976\n"
     ]
    },
    {
     "name": "stderr",
     "output_type": "stream",
     "text": [
      "[Epoch 21] Training: 100%|██████████| 45/45 [00:09<00:00,  4.92it/s]\n"
     ]
    },
    {
     "name": "stdout",
     "output_type": "stream",
     "text": [
      "[Epoch 21] Train Loss: 0.2918, Val Loss: 0.2836, IoU: 0.4018\n"
     ]
    },
    {
     "name": "stderr",
     "output_type": "stream",
     "text": [
      "[Epoch 22] Training: 100%|██████████| 45/45 [00:09<00:00,  4.92it/s]\n"
     ]
    },
    {
     "name": "stdout",
     "output_type": "stream",
     "text": [
      "[Epoch 22] Train Loss: 0.2883, Val Loss: 0.2884, IoU: 0.3958\n"
     ]
    },
    {
     "name": "stderr",
     "output_type": "stream",
     "text": [
      "[Epoch 23] Training: 100%|██████████| 45/45 [00:09<00:00,  4.94it/s]\n"
     ]
    },
    {
     "name": "stdout",
     "output_type": "stream",
     "text": [
      "[Epoch 23] Train Loss: 0.2868, Val Loss: 0.2818, IoU: 0.3956\n"
     ]
    },
    {
     "name": "stderr",
     "output_type": "stream",
     "text": [
      "[Epoch 24] Training: 100%|██████████| 45/45 [00:09<00:00,  4.92it/s]\n"
     ]
    },
    {
     "name": "stdout",
     "output_type": "stream",
     "text": [
      "[Epoch 24] Train Loss: 0.2869, Val Loss: 0.3103, IoU: 0.3428\n"
     ]
    },
    {
     "name": "stderr",
     "output_type": "stream",
     "text": [
      "[Epoch 25] Training: 100%|██████████| 45/45 [00:09<00:00,  4.94it/s]\n"
     ]
    },
    {
     "name": "stdout",
     "output_type": "stream",
     "text": [
      "[Epoch 25] Train Loss: 0.2862, Val Loss: 0.2847, IoU: 0.3987\n"
     ]
    },
    {
     "name": "stderr",
     "output_type": "stream",
     "text": [
      "[Epoch 26] Training: 100%|██████████| 45/45 [00:09<00:00,  4.93it/s]\n"
     ]
    },
    {
     "name": "stdout",
     "output_type": "stream",
     "text": [
      "[Epoch 26] Train Loss: 0.2877, Val Loss: 0.2856, IoU: 0.3917\n"
     ]
    },
    {
     "name": "stderr",
     "output_type": "stream",
     "text": [
      "[Epoch 27] Training: 100%|██████████| 45/45 [00:09<00:00,  4.94it/s]\n"
     ]
    },
    {
     "name": "stdout",
     "output_type": "stream",
     "text": [
      "[Epoch 27] Train Loss: 0.2890, Val Loss: 0.2935, IoU: 0.3960\n"
     ]
    },
    {
     "name": "stderr",
     "output_type": "stream",
     "text": [
      "[Epoch 28] Training: 100%|██████████| 45/45 [00:09<00:00,  4.93it/s]\n"
     ]
    },
    {
     "name": "stdout",
     "output_type": "stream",
     "text": [
      "[Epoch 28] Train Loss: 0.2908, Val Loss: 0.2786, IoU: 0.4084\n"
     ]
    },
    {
     "name": "stderr",
     "output_type": "stream",
     "text": [
      "[Epoch 29] Training: 100%|██████████| 45/45 [00:09<00:00,  4.93it/s]\n"
     ]
    },
    {
     "name": "stdout",
     "output_type": "stream",
     "text": [
      "[Epoch 29] Train Loss: 0.2850, Val Loss: 0.2753, IoU: 0.4148\n"
     ]
    },
    {
     "name": "stderr",
     "output_type": "stream",
     "text": [
      "[Epoch 30] Training: 100%|██████████| 45/45 [00:09<00:00,  4.93it/s]\n"
     ]
    },
    {
     "name": "stdout",
     "output_type": "stream",
     "text": [
      "[Epoch 30] Train Loss: 0.2823, Val Loss: 0.2765, IoU: 0.4134\n"
     ]
    },
    {
     "name": "stderr",
     "output_type": "stream",
     "text": [
      "[Epoch 31] Training: 100%|██████████| 45/45 [00:09<00:00,  4.93it/s]\n"
     ]
    },
    {
     "name": "stdout",
     "output_type": "stream",
     "text": [
      "[Epoch 31] Train Loss: 0.2822, Val Loss: 0.2864, IoU: 0.3959\n"
     ]
    },
    {
     "name": "stderr",
     "output_type": "stream",
     "text": [
      "[Epoch 32] Training: 100%|██████████| 45/45 [00:09<00:00,  4.94it/s]\n"
     ]
    },
    {
     "name": "stdout",
     "output_type": "stream",
     "text": [
      "[Epoch 32] Train Loss: 0.2766, Val Loss: 0.2766, IoU: 0.4045\n"
     ]
    },
    {
     "name": "stderr",
     "output_type": "stream",
     "text": [
      "[Epoch 33] Training: 100%|██████████| 45/45 [00:09<00:00,  4.93it/s]\n"
     ]
    },
    {
     "name": "stdout",
     "output_type": "stream",
     "text": [
      "[Epoch 33] Train Loss: 0.2778, Val Loss: 0.2859, IoU: 0.3878\n"
     ]
    },
    {
     "name": "stderr",
     "output_type": "stream",
     "text": [
      "[Epoch 34] Training: 100%|██████████| 45/45 [00:09<00:00,  4.93it/s]\n"
     ]
    },
    {
     "name": "stdout",
     "output_type": "stream",
     "text": [
      "[Epoch 34] Train Loss: 0.2773, Val Loss: 0.2805, IoU: 0.4119\n"
     ]
    },
    {
     "name": "stderr",
     "output_type": "stream",
     "text": [
      "[Epoch 35] Training: 100%|██████████| 45/45 [00:09<00:00,  4.93it/s]\n"
     ]
    },
    {
     "name": "stdout",
     "output_type": "stream",
     "text": [
      "[Epoch 35] Train Loss: 0.2763, Val Loss: 0.2806, IoU: 0.4047\n"
     ]
    },
    {
     "name": "stderr",
     "output_type": "stream",
     "text": [
      "[Epoch 36] Training: 100%|██████████| 45/45 [00:09<00:00,  4.90it/s]\n"
     ]
    },
    {
     "name": "stdout",
     "output_type": "stream",
     "text": [
      "[Epoch 36] Train Loss: 0.2813, Val Loss: 0.2758, IoU: 0.4142\n"
     ]
    },
    {
     "name": "stderr",
     "output_type": "stream",
     "text": [
      "[Epoch 37] Training: 100%|██████████| 45/45 [00:09<00:00,  4.89it/s]\n"
     ]
    },
    {
     "name": "stdout",
     "output_type": "stream",
     "text": [
      "[Epoch 37] Train Loss: 0.2739, Val Loss: 0.2778, IoU: 0.4013\n"
     ]
    },
    {
     "name": "stderr",
     "output_type": "stream",
     "text": [
      "[Epoch 38] Training: 100%|██████████| 45/45 [00:09<00:00,  4.87it/s]\n"
     ]
    },
    {
     "name": "stdout",
     "output_type": "stream",
     "text": [
      "[Epoch 38] Train Loss: 0.2739, Val Loss: 0.2808, IoU: 0.4112\n"
     ]
    },
    {
     "name": "stderr",
     "output_type": "stream",
     "text": [
      "[Epoch 39] Training: 100%|██████████| 45/45 [00:09<00:00,  4.91it/s]\n"
     ]
    },
    {
     "name": "stdout",
     "output_type": "stream",
     "text": [
      "[Epoch 39] Train Loss: 0.2716, Val Loss: 0.2742, IoU: 0.4089\n"
     ]
    },
    {
     "name": "stderr",
     "output_type": "stream",
     "text": [
      "[Epoch 40] Training: 100%|██████████| 45/45 [00:09<00:00,  4.91it/s]\n"
     ]
    },
    {
     "name": "stdout",
     "output_type": "stream",
     "text": [
      "[Epoch 40] Train Loss: 0.2711, Val Loss: 0.2739, IoU: 0.4172\n"
     ]
    },
    {
     "name": "stderr",
     "output_type": "stream",
     "text": [
      "[Epoch 41] Training: 100%|██████████| 45/45 [00:09<00:00,  4.91it/s]\n"
     ]
    },
    {
     "name": "stdout",
     "output_type": "stream",
     "text": [
      "[Epoch 41] Train Loss: 0.2695, Val Loss: 0.2874, IoU: 0.4002\n"
     ]
    },
    {
     "name": "stderr",
     "output_type": "stream",
     "text": [
      "[Epoch 42] Training: 100%|██████████| 45/45 [00:09<00:00,  4.93it/s]\n"
     ]
    },
    {
     "name": "stdout",
     "output_type": "stream",
     "text": [
      "[Epoch 42] Train Loss: 0.2689, Val Loss: 0.2897, IoU: 0.3983\n"
     ]
    },
    {
     "name": "stderr",
     "output_type": "stream",
     "text": [
      "[Epoch 43] Training: 100%|██████████| 45/45 [00:09<00:00,  4.92it/s]\n"
     ]
    },
    {
     "name": "stdout",
     "output_type": "stream",
     "text": [
      "[Epoch 43] Train Loss: 0.2690, Val Loss: 0.2765, IoU: 0.4066\n"
     ]
    },
    {
     "name": "stderr",
     "output_type": "stream",
     "text": [
      "[Epoch 44] Training: 100%|██████████| 45/45 [00:09<00:00,  4.93it/s]\n"
     ]
    },
    {
     "name": "stdout",
     "output_type": "stream",
     "text": [
      "[Epoch 44] Train Loss: 0.2701, Val Loss: 0.2793, IoU: 0.3969\n"
     ]
    },
    {
     "name": "stderr",
     "output_type": "stream",
     "text": [
      "[Epoch 45] Training: 100%|██████████| 45/45 [00:09<00:00,  4.95it/s]\n"
     ]
    },
    {
     "name": "stdout",
     "output_type": "stream",
     "text": [
      "[Epoch 45] Train Loss: 0.2648, Val Loss: 0.2788, IoU: 0.4140\n"
     ]
    },
    {
     "name": "stderr",
     "output_type": "stream",
     "text": [
      "[Epoch 46] Training: 100%|██████████| 45/45 [00:09<00:00,  4.93it/s]\n"
     ]
    },
    {
     "name": "stdout",
     "output_type": "stream",
     "text": [
      "[Epoch 46] Train Loss: 0.2747, Val Loss: 0.2765, IoU: 0.4121\n"
     ]
    },
    {
     "name": "stderr",
     "output_type": "stream",
     "text": [
      "[Epoch 47] Training: 100%|██████████| 45/45 [00:09<00:00,  4.94it/s]\n"
     ]
    },
    {
     "name": "stdout",
     "output_type": "stream",
     "text": [
      "[Epoch 47] Train Loss: 0.2688, Val Loss: 0.2692, IoU: 0.4287\n"
     ]
    },
    {
     "name": "stderr",
     "output_type": "stream",
     "text": [
      "[Epoch 48] Training: 100%|██████████| 45/45 [00:09<00:00,  4.93it/s]\n"
     ]
    },
    {
     "name": "stdout",
     "output_type": "stream",
     "text": [
      "[Epoch 48] Train Loss: 0.2663, Val Loss: 0.2801, IoU: 0.4022\n"
     ]
    },
    {
     "name": "stderr",
     "output_type": "stream",
     "text": [
      "[Epoch 49] Training: 100%|██████████| 45/45 [00:09<00:00,  4.93it/s]\n"
     ]
    },
    {
     "name": "stdout",
     "output_type": "stream",
     "text": [
      "[Epoch 49] Train Loss: 0.2677, Val Loss: 0.2768, IoU: 0.4031\n"
     ]
    },
    {
     "name": "stderr",
     "output_type": "stream",
     "text": [
      "[Epoch 50] Training: 100%|██████████| 45/45 [00:09<00:00,  4.94it/s]\n"
     ]
    },
    {
     "name": "stdout",
     "output_type": "stream",
     "text": [
      "[Epoch 50] Train Loss: 0.2626, Val Loss: 0.2893, IoU: 0.3822\n"
     ]
    },
    {
     "name": "stderr",
     "output_type": "stream",
     "text": [
      "[Epoch 51] Training: 100%|██████████| 45/45 [00:09<00:00,  4.94it/s]\n"
     ]
    },
    {
     "name": "stdout",
     "output_type": "stream",
     "text": [
      "[Epoch 51] Train Loss: 0.2660, Val Loss: 0.2872, IoU: 0.3913\n"
     ]
    },
    {
     "name": "stderr",
     "output_type": "stream",
     "text": [
      "[Epoch 52] Training: 100%|██████████| 45/45 [00:09<00:00,  4.95it/s]\n"
     ]
    },
    {
     "name": "stdout",
     "output_type": "stream",
     "text": [
      "[Epoch 52] Train Loss: 0.2628, Val Loss: 0.2704, IoU: 0.4138\n"
     ]
    },
    {
     "name": "stderr",
     "output_type": "stream",
     "text": [
      "[Epoch 53] Training: 100%|██████████| 45/45 [00:09<00:00,  4.93it/s]\n"
     ]
    },
    {
     "name": "stdout",
     "output_type": "stream",
     "text": [
      "[Epoch 53] Train Loss: 0.2672, Val Loss: 0.2788, IoU: 0.3954\n"
     ]
    },
    {
     "name": "stderr",
     "output_type": "stream",
     "text": [
      "[Epoch 54] Training: 100%|██████████| 45/45 [00:09<00:00,  4.95it/s]\n"
     ]
    },
    {
     "name": "stdout",
     "output_type": "stream",
     "text": [
      "[Epoch 54] Train Loss: 0.2586, Val Loss: 0.2884, IoU: 0.3899\n"
     ]
    },
    {
     "name": "stderr",
     "output_type": "stream",
     "text": [
      "[Epoch 55] Training: 100%|██████████| 45/45 [00:09<00:00,  4.94it/s]\n"
     ]
    },
    {
     "name": "stdout",
     "output_type": "stream",
     "text": [
      "[Epoch 55] Train Loss: 0.2637, Val Loss: 0.2688, IoU: 0.4205\n"
     ]
    },
    {
     "name": "stderr",
     "output_type": "stream",
     "text": [
      "[Epoch 56] Training: 100%|██████████| 45/45 [00:09<00:00,  4.94it/s]\n"
     ]
    },
    {
     "name": "stdout",
     "output_type": "stream",
     "text": [
      "[Epoch 56] Train Loss: 0.2601, Val Loss: 0.2892, IoU: 0.3866\n"
     ]
    },
    {
     "name": "stderr",
     "output_type": "stream",
     "text": [
      "[Epoch 57] Training: 100%|██████████| 45/45 [00:09<00:00,  4.94it/s]\n"
     ]
    },
    {
     "name": "stdout",
     "output_type": "stream",
     "text": [
      "[Epoch 57] Train Loss: 0.2585, Val Loss: 0.2649, IoU: 0.4295\n"
     ]
    },
    {
     "name": "stderr",
     "output_type": "stream",
     "text": [
      "[Epoch 58] Training: 100%|██████████| 45/45 [00:09<00:00,  4.94it/s]\n"
     ]
    },
    {
     "name": "stdout",
     "output_type": "stream",
     "text": [
      "[Epoch 58] Train Loss: 0.2567, Val Loss: 0.2697, IoU: 0.4265\n"
     ]
    },
    {
     "name": "stderr",
     "output_type": "stream",
     "text": [
      "[Epoch 59] Training: 100%|██████████| 45/45 [00:09<00:00,  4.94it/s]\n"
     ]
    },
    {
     "name": "stdout",
     "output_type": "stream",
     "text": [
      "[Epoch 59] Train Loss: 0.2537, Val Loss: 0.2711, IoU: 0.4126\n"
     ]
    },
    {
     "name": "stderr",
     "output_type": "stream",
     "text": [
      "[Epoch 60] Training: 100%|██████████| 45/45 [00:09<00:00,  4.92it/s]\n"
     ]
    },
    {
     "name": "stdout",
     "output_type": "stream",
     "text": [
      "[Epoch 60] Train Loss: 0.2571, Val Loss: 0.2678, IoU: 0.4229\n"
     ]
    },
    {
     "name": "stderr",
     "output_type": "stream",
     "text": [
      "[Epoch 61] Training: 100%|██████████| 45/45 [00:09<00:00,  4.91it/s]\n"
     ]
    },
    {
     "name": "stdout",
     "output_type": "stream",
     "text": [
      "[Epoch 61] Train Loss: 0.2630, Val Loss: 0.2672, IoU: 0.4299\n"
     ]
    },
    {
     "name": "stderr",
     "output_type": "stream",
     "text": [
      "[Epoch 62] Training: 100%|██████████| 45/45 [00:09<00:00,  4.91it/s]\n"
     ]
    },
    {
     "name": "stdout",
     "output_type": "stream",
     "text": [
      "[Epoch 62] Train Loss: 0.2566, Val Loss: 0.2733, IoU: 0.4203\n"
     ]
    },
    {
     "name": "stderr",
     "output_type": "stream",
     "text": [
      "[Epoch 63] Training: 100%|██████████| 45/45 [00:09<00:00,  4.92it/s]\n"
     ]
    },
    {
     "name": "stdout",
     "output_type": "stream",
     "text": [
      "[Epoch 63] Train Loss: 0.2552, Val Loss: 0.2713, IoU: 0.4206\n"
     ]
    },
    {
     "name": "stderr",
     "output_type": "stream",
     "text": [
      "[Epoch 64] Training: 100%|██████████| 45/45 [00:09<00:00,  4.92it/s]\n"
     ]
    },
    {
     "name": "stdout",
     "output_type": "stream",
     "text": [
      "[Epoch 64] Train Loss: 0.2583, Val Loss: 0.2758, IoU: 0.4124\n"
     ]
    },
    {
     "name": "stderr",
     "output_type": "stream",
     "text": [
      "[Epoch 65] Training: 100%|██████████| 45/45 [00:09<00:00,  4.93it/s]\n"
     ]
    },
    {
     "name": "stdout",
     "output_type": "stream",
     "text": [
      "[Epoch 65] Train Loss: 0.2559, Val Loss: 0.2818, IoU: 0.3965\n"
     ]
    },
    {
     "name": "stderr",
     "output_type": "stream",
     "text": [
      "[Epoch 66] Training: 100%|██████████| 45/45 [00:09<00:00,  4.92it/s]\n"
     ]
    },
    {
     "name": "stdout",
     "output_type": "stream",
     "text": [
      "[Epoch 66] Train Loss: 0.2541, Val Loss: 0.2750, IoU: 0.4129\n"
     ]
    },
    {
     "name": "stderr",
     "output_type": "stream",
     "text": [
      "[Epoch 67] Training: 100%|██████████| 45/45 [00:09<00:00,  4.91it/s]\n"
     ]
    },
    {
     "name": "stdout",
     "output_type": "stream",
     "text": [
      "[Epoch 67] Train Loss: 0.2567, Val Loss: 0.2725, IoU: 0.4242\n",
      "Early stopping triggered.\n",
      "Accuracy: 0.9842, Precision: 0.5903, Recall: 0.6012, F1 Score: 0.5957\n",
      "Confusion Matrix:\n",
      "[[1418283   11745]\n",
      " [  11226   16922]]\n"
     ]
    }
   ],
   "source": [
    "# ComboLoss\n",
    "unet = UNet(in_channels=4, out_channels=1).to(device)\n",
    "results_unet_comboLoss = train_model(unet, train_loader, val_loader, criterion3, device, num_epochs=80)\n",
    "metrics = evaluate_metrics(results_unet_comboLoss)"
   ]
  },
  {
   "cell_type": "code",
   "execution_count": 23,
   "id": "16e7d192",
   "metadata": {},
   "outputs": [
    {
     "name": "stderr",
     "output_type": "stream",
     "text": [
      "[Epoch 1] Training: 100%|██████████| 45/45 [00:09<00:00,  4.59it/s]\n"
     ]
    },
    {
     "name": "stdout",
     "output_type": "stream",
     "text": [
      "[Epoch 1] Train Loss: 0.8507, Val Loss: 0.7856, IoU: 0.0489\n"
     ]
    },
    {
     "name": "stderr",
     "output_type": "stream",
     "text": [
      "[Epoch 2] Training: 100%|██████████| 45/45 [00:09<00:00,  4.68it/s]\n"
     ]
    },
    {
     "name": "stdout",
     "output_type": "stream",
     "text": [
      "[Epoch 2] Train Loss: 0.7574, Val Loss: 0.7382, IoU: 0.0193\n"
     ]
    },
    {
     "name": "stderr",
     "output_type": "stream",
     "text": [
      "[Epoch 3] Training: 100%|██████████| 45/45 [00:09<00:00,  4.67it/s]\n"
     ]
    },
    {
     "name": "stdout",
     "output_type": "stream",
     "text": [
      "[Epoch 3] Train Loss: 0.7283, Val Loss: 0.7205, IoU: 0.0193\n"
     ]
    },
    {
     "name": "stderr",
     "output_type": "stream",
     "text": [
      "[Epoch 4] Training: 100%|██████████| 45/45 [00:09<00:00,  4.68it/s]\n"
     ]
    },
    {
     "name": "stdout",
     "output_type": "stream",
     "text": [
      "[Epoch 4] Train Loss: 0.7150, Val Loss: 0.7108, IoU: 0.0193\n"
     ]
    },
    {
     "name": "stderr",
     "output_type": "stream",
     "text": [
      "[Epoch 5] Training: 100%|██████████| 45/45 [00:09<00:00,  4.68it/s]\n"
     ]
    },
    {
     "name": "stdout",
     "output_type": "stream",
     "text": [
      "[Epoch 5] Train Loss: 0.7081, Val Loss: 0.7054, IoU: 0.0193\n"
     ]
    },
    {
     "name": "stderr",
     "output_type": "stream",
     "text": [
      "[Epoch 6] Training: 100%|██████████| 45/45 [00:09<00:00,  4.67it/s]\n"
     ]
    },
    {
     "name": "stdout",
     "output_type": "stream",
     "text": [
      "[Epoch 6] Train Loss: 0.7041, Val Loss: 0.7025, IoU: 0.0193\n"
     ]
    },
    {
     "name": "stderr",
     "output_type": "stream",
     "text": [
      "[Epoch 7] Training: 100%|██████████| 45/45 [00:09<00:00,  4.68it/s]\n"
     ]
    },
    {
     "name": "stdout",
     "output_type": "stream",
     "text": [
      "[Epoch 7] Train Loss: 0.7015, Val Loss: 0.7005, IoU: 0.0193\n"
     ]
    },
    {
     "name": "stderr",
     "output_type": "stream",
     "text": [
      "[Epoch 8] Training: 100%|██████████| 45/45 [00:09<00:00,  4.68it/s]\n"
     ]
    },
    {
     "name": "stdout",
     "output_type": "stream",
     "text": [
      "[Epoch 8] Train Loss: 0.6998, Val Loss: 0.6992, IoU: 0.0193\n"
     ]
    },
    {
     "name": "stderr",
     "output_type": "stream",
     "text": [
      "[Epoch 9] Training: 100%|██████████| 45/45 [00:09<00:00,  4.65it/s]\n"
     ]
    },
    {
     "name": "stdout",
     "output_type": "stream",
     "text": [
      "[Epoch 9] Train Loss: 0.6986, Val Loss: 0.6980, IoU: 0.0193\n"
     ]
    },
    {
     "name": "stderr",
     "output_type": "stream",
     "text": [
      "[Epoch 10] Training: 100%|██████████| 45/45 [00:09<00:00,  4.62it/s]\n"
     ]
    },
    {
     "name": "stdout",
     "output_type": "stream",
     "text": [
      "[Epoch 10] Train Loss: 0.6977, Val Loss: 0.6973, IoU: 0.0193\n"
     ]
    },
    {
     "name": "stderr",
     "output_type": "stream",
     "text": [
      "[Epoch 11] Training: 100%|██████████| 45/45 [00:09<00:00,  4.67it/s]\n"
     ]
    },
    {
     "name": "stdout",
     "output_type": "stream",
     "text": [
      "[Epoch 11] Train Loss: 0.6970, Val Loss: 0.6967, IoU: 0.0193\n"
     ]
    },
    {
     "name": "stderr",
     "output_type": "stream",
     "text": [
      "[Epoch 12] Training: 100%|██████████| 45/45 [00:09<00:00,  4.69it/s]\n"
     ]
    },
    {
     "name": "stdout",
     "output_type": "stream",
     "text": [
      "[Epoch 12] Train Loss: 0.6964, Val Loss: 0.6962, IoU: 0.0193\n"
     ]
    },
    {
     "name": "stderr",
     "output_type": "stream",
     "text": [
      "[Epoch 13] Training: 100%|██████████| 45/45 [00:09<00:00,  4.69it/s]\n"
     ]
    },
    {
     "name": "stdout",
     "output_type": "stream",
     "text": [
      "[Epoch 13] Train Loss: 0.6960, Val Loss: 0.6959, IoU: 0.0193\n"
     ]
    },
    {
     "name": "stderr",
     "output_type": "stream",
     "text": [
      "[Epoch 14] Training: 100%|██████████| 45/45 [00:09<00:00,  4.70it/s]\n"
     ]
    },
    {
     "name": "stdout",
     "output_type": "stream",
     "text": [
      "[Epoch 14] Train Loss: 0.6957, Val Loss: 0.6954, IoU: 0.0193\n"
     ]
    },
    {
     "name": "stderr",
     "output_type": "stream",
     "text": [
      "[Epoch 15] Training: 100%|██████████| 45/45 [00:09<00:00,  4.69it/s]\n"
     ]
    },
    {
     "name": "stdout",
     "output_type": "stream",
     "text": [
      "[Epoch 15] Train Loss: 0.6954, Val Loss: 0.6952, IoU: 0.0193\n"
     ]
    },
    {
     "name": "stderr",
     "output_type": "stream",
     "text": [
      "[Epoch 16] Training: 100%|██████████| 45/45 [00:09<00:00,  4.70it/s]\n"
     ]
    },
    {
     "name": "stdout",
     "output_type": "stream",
     "text": [
      "[Epoch 16] Train Loss: 0.6951, Val Loss: 0.6950, IoU: 0.0193\n"
     ]
    },
    {
     "name": "stderr",
     "output_type": "stream",
     "text": [
      "[Epoch 17] Training: 100%|██████████| 45/45 [00:09<00:00,  4.69it/s]\n"
     ]
    },
    {
     "name": "stdout",
     "output_type": "stream",
     "text": [
      "[Epoch 17] Train Loss: 0.6949, Val Loss: 0.6947, IoU: 0.0193\n"
     ]
    },
    {
     "name": "stderr",
     "output_type": "stream",
     "text": [
      "[Epoch 18] Training: 100%|██████████| 45/45 [00:09<00:00,  4.70it/s]\n"
     ]
    },
    {
     "name": "stdout",
     "output_type": "stream",
     "text": [
      "[Epoch 18] Train Loss: 0.6947, Val Loss: 0.6948, IoU: 0.0193\n"
     ]
    },
    {
     "name": "stderr",
     "output_type": "stream",
     "text": [
      "[Epoch 19] Training: 100%|██████████| 45/45 [00:09<00:00,  4.68it/s]\n"
     ]
    },
    {
     "name": "stdout",
     "output_type": "stream",
     "text": [
      "[Epoch 19] Train Loss: 0.6946, Val Loss: 0.6944, IoU: 0.0193\n"
     ]
    },
    {
     "name": "stderr",
     "output_type": "stream",
     "text": [
      "[Epoch 20] Training: 100%|██████████| 45/45 [00:09<00:00,  4.69it/s]\n"
     ]
    },
    {
     "name": "stdout",
     "output_type": "stream",
     "text": [
      "[Epoch 20] Train Loss: 0.6944, Val Loss: 0.6945, IoU: 0.0764\n"
     ]
    },
    {
     "name": "stderr",
     "output_type": "stream",
     "text": [
      "[Epoch 21] Training: 100%|██████████| 45/45 [00:09<00:00,  4.69it/s]\n"
     ]
    },
    {
     "name": "stdout",
     "output_type": "stream",
     "text": [
      "[Epoch 21] Train Loss: 0.6943, Val Loss: 0.6944, IoU: 0.0193\n"
     ]
    },
    {
     "name": "stderr",
     "output_type": "stream",
     "text": [
      "[Epoch 22] Training: 100%|██████████| 45/45 [00:09<00:00,  4.61it/s]\n"
     ]
    },
    {
     "name": "stdout",
     "output_type": "stream",
     "text": [
      "[Epoch 22] Train Loss: 0.6941, Val Loss: 0.6942, IoU: 0.0616\n"
     ]
    },
    {
     "name": "stderr",
     "output_type": "stream",
     "text": [
      "[Epoch 23] Training: 100%|██████████| 45/45 [00:09<00:00,  4.65it/s]\n"
     ]
    },
    {
     "name": "stdout",
     "output_type": "stream",
     "text": [
      "[Epoch 23] Train Loss: 0.6940, Val Loss: 0.6939, IoU: 0.0525\n"
     ]
    },
    {
     "name": "stderr",
     "output_type": "stream",
     "text": [
      "[Epoch 24] Training: 100%|██████████| 45/45 [00:09<00:00,  4.68it/s]\n"
     ]
    },
    {
     "name": "stdout",
     "output_type": "stream",
     "text": [
      "[Epoch 24] Train Loss: 0.6939, Val Loss: 0.6939, IoU: 0.1069\n"
     ]
    },
    {
     "name": "stderr",
     "output_type": "stream",
     "text": [
      "[Epoch 25] Training: 100%|██████████| 45/45 [00:09<00:00,  4.70it/s]\n"
     ]
    },
    {
     "name": "stdout",
     "output_type": "stream",
     "text": [
      "[Epoch 25] Train Loss: 0.6938, Val Loss: 0.6939, IoU: 0.0469\n"
     ]
    },
    {
     "name": "stderr",
     "output_type": "stream",
     "text": [
      "[Epoch 26] Training: 100%|██████████| 45/45 [00:09<00:00,  4.69it/s]\n"
     ]
    },
    {
     "name": "stdout",
     "output_type": "stream",
     "text": [
      "[Epoch 26] Train Loss: 0.6938, Val Loss: 0.6938, IoU: 0.0567\n"
     ]
    },
    {
     "name": "stderr",
     "output_type": "stream",
     "text": [
      "[Epoch 27] Training: 100%|██████████| 45/45 [00:09<00:00,  4.68it/s]\n"
     ]
    },
    {
     "name": "stdout",
     "output_type": "stream",
     "text": [
      "[Epoch 27] Train Loss: 0.6936, Val Loss: 0.6936, IoU: 0.0782\n"
     ]
    },
    {
     "name": "stderr",
     "output_type": "stream",
     "text": [
      "[Epoch 28] Training: 100%|██████████| 45/45 [00:09<00:00,  4.68it/s]\n"
     ]
    },
    {
     "name": "stdout",
     "output_type": "stream",
     "text": [
      "[Epoch 28] Train Loss: 0.6934, Val Loss: 0.6935, IoU: 0.1000\n"
     ]
    },
    {
     "name": "stderr",
     "output_type": "stream",
     "text": [
      "[Epoch 29] Training: 100%|██████████| 45/45 [00:09<00:00,  4.69it/s]\n"
     ]
    },
    {
     "name": "stdout",
     "output_type": "stream",
     "text": [
      "[Epoch 29] Train Loss: 0.6934, Val Loss: 0.6933, IoU: 0.1675\n"
     ]
    },
    {
     "name": "stderr",
     "output_type": "stream",
     "text": [
      "[Epoch 30] Training: 100%|██████████| 45/45 [00:09<00:00,  4.69it/s]\n"
     ]
    },
    {
     "name": "stdout",
     "output_type": "stream",
     "text": [
      "[Epoch 30] Train Loss: 0.6933, Val Loss: 0.6934, IoU: 0.1549\n"
     ]
    },
    {
     "name": "stderr",
     "output_type": "stream",
     "text": [
      "[Epoch 31] Training: 100%|██████████| 45/45 [00:09<00:00,  4.68it/s]\n"
     ]
    },
    {
     "name": "stdout",
     "output_type": "stream",
     "text": [
      "[Epoch 31] Train Loss: 0.6931, Val Loss: 0.6934, IoU: 0.2230\n"
     ]
    },
    {
     "name": "stderr",
     "output_type": "stream",
     "text": [
      "[Epoch 32] Training: 100%|██████████| 45/45 [00:09<00:00,  4.61it/s]\n"
     ]
    },
    {
     "name": "stdout",
     "output_type": "stream",
     "text": [
      "[Epoch 32] Train Loss: 0.6932, Val Loss: 0.6931, IoU: 0.1714\n"
     ]
    },
    {
     "name": "stderr",
     "output_type": "stream",
     "text": [
      "[Epoch 33] Training: 100%|██████████| 45/45 [00:09<00:00,  4.61it/s]\n"
     ]
    },
    {
     "name": "stdout",
     "output_type": "stream",
     "text": [
      "[Epoch 33] Train Loss: 0.6931, Val Loss: 0.6931, IoU: 0.1500\n"
     ]
    },
    {
     "name": "stderr",
     "output_type": "stream",
     "text": [
      "[Epoch 34] Training: 100%|██████████| 45/45 [00:09<00:00,  4.62it/s]\n"
     ]
    },
    {
     "name": "stdout",
     "output_type": "stream",
     "text": [
      "[Epoch 34] Train Loss: 0.6931, Val Loss: 0.6931, IoU: 0.1837\n"
     ]
    },
    {
     "name": "stderr",
     "output_type": "stream",
     "text": [
      "[Epoch 35] Training: 100%|██████████| 45/45 [00:09<00:00,  4.63it/s]\n"
     ]
    },
    {
     "name": "stdout",
     "output_type": "stream",
     "text": [
      "[Epoch 35] Train Loss: 0.6929, Val Loss: 0.6931, IoU: 0.1490\n"
     ]
    },
    {
     "name": "stderr",
     "output_type": "stream",
     "text": [
      "[Epoch 36] Training: 100%|██████████| 45/45 [00:09<00:00,  4.63it/s]\n"
     ]
    },
    {
     "name": "stdout",
     "output_type": "stream",
     "text": [
      "[Epoch 36] Train Loss: 0.6929, Val Loss: 0.6931, IoU: 0.2040\n"
     ]
    },
    {
     "name": "stderr",
     "output_type": "stream",
     "text": [
      "[Epoch 37] Training: 100%|██████████| 45/45 [00:09<00:00,  4.62it/s]\n"
     ]
    },
    {
     "name": "stdout",
     "output_type": "stream",
     "text": [
      "[Epoch 37] Train Loss: 0.6928, Val Loss: 0.6929, IoU: 0.1510\n"
     ]
    },
    {
     "name": "stderr",
     "output_type": "stream",
     "text": [
      "[Epoch 38] Training: 100%|██████████| 45/45 [00:09<00:00,  4.63it/s]\n"
     ]
    },
    {
     "name": "stdout",
     "output_type": "stream",
     "text": [
      "[Epoch 38] Train Loss: 0.6928, Val Loss: 0.6930, IoU: 0.1682\n"
     ]
    },
    {
     "name": "stderr",
     "output_type": "stream",
     "text": [
      "[Epoch 39] Training: 100%|██████████| 45/45 [00:09<00:00,  4.67it/s]\n"
     ]
    },
    {
     "name": "stdout",
     "output_type": "stream",
     "text": [
      "[Epoch 39] Train Loss: 0.6927, Val Loss: 0.6928, IoU: 0.1975\n"
     ]
    },
    {
     "name": "stderr",
     "output_type": "stream",
     "text": [
      "[Epoch 40] Training: 100%|██████████| 45/45 [00:09<00:00,  4.68it/s]\n"
     ]
    },
    {
     "name": "stdout",
     "output_type": "stream",
     "text": [
      "[Epoch 40] Train Loss: 0.6928, Val Loss: 0.6929, IoU: 0.1763\n"
     ]
    },
    {
     "name": "stderr",
     "output_type": "stream",
     "text": [
      "[Epoch 41] Training: 100%|██████████| 45/45 [00:09<00:00,  4.69it/s]\n"
     ]
    },
    {
     "name": "stdout",
     "output_type": "stream",
     "text": [
      "[Epoch 41] Train Loss: 0.6927, Val Loss: 0.6929, IoU: 0.2475\n"
     ]
    },
    {
     "name": "stderr",
     "output_type": "stream",
     "text": [
      "[Epoch 42] Training: 100%|██████████| 45/45 [00:09<00:00,  4.69it/s]\n"
     ]
    },
    {
     "name": "stdout",
     "output_type": "stream",
     "text": [
      "[Epoch 42] Train Loss: 0.6926, Val Loss: 0.6929, IoU: 0.2464\n"
     ]
    },
    {
     "name": "stderr",
     "output_type": "stream",
     "text": [
      "[Epoch 43] Training: 100%|██████████| 45/45 [00:09<00:00,  4.68it/s]\n"
     ]
    },
    {
     "name": "stdout",
     "output_type": "stream",
     "text": [
      "[Epoch 43] Train Loss: 0.6926, Val Loss: 0.6928, IoU: 0.1863\n"
     ]
    },
    {
     "name": "stderr",
     "output_type": "stream",
     "text": [
      "[Epoch 44] Training: 100%|██████████| 45/45 [00:09<00:00,  4.68it/s]\n"
     ]
    },
    {
     "name": "stdout",
     "output_type": "stream",
     "text": [
      "[Epoch 44] Train Loss: 0.6926, Val Loss: 0.6928, IoU: 0.2694\n"
     ]
    },
    {
     "name": "stderr",
     "output_type": "stream",
     "text": [
      "[Epoch 45] Training: 100%|██████████| 45/45 [00:09<00:00,  4.67it/s]\n"
     ]
    },
    {
     "name": "stdout",
     "output_type": "stream",
     "text": [
      "[Epoch 45] Train Loss: 0.6926, Val Loss: 0.6928, IoU: 0.2072\n"
     ]
    },
    {
     "name": "stderr",
     "output_type": "stream",
     "text": [
      "[Epoch 46] Training: 100%|██████████| 45/45 [00:09<00:00,  4.69it/s]\n"
     ]
    },
    {
     "name": "stdout",
     "output_type": "stream",
     "text": [
      "[Epoch 46] Train Loss: 0.6925, Val Loss: 0.6927, IoU: 0.2201\n"
     ]
    },
    {
     "name": "stderr",
     "output_type": "stream",
     "text": [
      "[Epoch 47] Training: 100%|██████████| 45/45 [00:09<00:00,  4.68it/s]\n"
     ]
    },
    {
     "name": "stdout",
     "output_type": "stream",
     "text": [
      "[Epoch 47] Train Loss: 0.6925, Val Loss: 0.6927, IoU: 0.2474\n"
     ]
    },
    {
     "name": "stderr",
     "output_type": "stream",
     "text": [
      "[Epoch 48] Training: 100%|██████████| 45/45 [00:09<00:00,  4.69it/s]\n"
     ]
    },
    {
     "name": "stdout",
     "output_type": "stream",
     "text": [
      "[Epoch 48] Train Loss: 0.6925, Val Loss: 0.6927, IoU: 0.2802\n"
     ]
    },
    {
     "name": "stderr",
     "output_type": "stream",
     "text": [
      "[Epoch 49] Training: 100%|██████████| 45/45 [00:09<00:00,  4.69it/s]\n"
     ]
    },
    {
     "name": "stdout",
     "output_type": "stream",
     "text": [
      "[Epoch 49] Train Loss: 0.6925, Val Loss: 0.6927, IoU: 0.2434\n"
     ]
    },
    {
     "name": "stderr",
     "output_type": "stream",
     "text": [
      "[Epoch 50] Training: 100%|██████████| 45/45 [00:09<00:00,  4.69it/s]\n"
     ]
    },
    {
     "name": "stdout",
     "output_type": "stream",
     "text": [
      "[Epoch 50] Train Loss: 0.6924, Val Loss: 0.6927, IoU: 0.1820\n"
     ]
    },
    {
     "name": "stderr",
     "output_type": "stream",
     "text": [
      "[Epoch 51] Training: 100%|██████████| 45/45 [00:09<00:00,  4.68it/s]\n"
     ]
    },
    {
     "name": "stdout",
     "output_type": "stream",
     "text": [
      "[Epoch 51] Train Loss: 0.6924, Val Loss: 0.6925, IoU: 0.2348\n"
     ]
    },
    {
     "name": "stderr",
     "output_type": "stream",
     "text": [
      "[Epoch 52] Training: 100%|██████████| 45/45 [00:09<00:00,  4.66it/s]\n"
     ]
    },
    {
     "name": "stdout",
     "output_type": "stream",
     "text": [
      "[Epoch 52] Train Loss: 0.6923, Val Loss: 0.6926, IoU: 0.2965\n"
     ]
    },
    {
     "name": "stderr",
     "output_type": "stream",
     "text": [
      "[Epoch 53] Training: 100%|██████████| 45/45 [00:09<00:00,  4.69it/s]\n"
     ]
    },
    {
     "name": "stdout",
     "output_type": "stream",
     "text": [
      "[Epoch 53] Train Loss: 0.6924, Val Loss: 0.6926, IoU: 0.2754\n"
     ]
    },
    {
     "name": "stderr",
     "output_type": "stream",
     "text": [
      "[Epoch 54] Training: 100%|██████████| 45/45 [00:09<00:00,  4.69it/s]\n"
     ]
    },
    {
     "name": "stdout",
     "output_type": "stream",
     "text": [
      "[Epoch 54] Train Loss: 0.6923, Val Loss: 0.6925, IoU: 0.2697\n"
     ]
    },
    {
     "name": "stderr",
     "output_type": "stream",
     "text": [
      "[Epoch 55] Training: 100%|██████████| 45/45 [00:09<00:00,  4.70it/s]\n"
     ]
    },
    {
     "name": "stdout",
     "output_type": "stream",
     "text": [
      "[Epoch 55] Train Loss: 0.6922, Val Loss: 0.6926, IoU: 0.1849\n"
     ]
    },
    {
     "name": "stderr",
     "output_type": "stream",
     "text": [
      "[Epoch 56] Training: 100%|██████████| 45/45 [00:09<00:00,  4.70it/s]\n"
     ]
    },
    {
     "name": "stdout",
     "output_type": "stream",
     "text": [
      "[Epoch 56] Train Loss: 0.6923, Val Loss: 0.6927, IoU: 0.2933\n"
     ]
    },
    {
     "name": "stderr",
     "output_type": "stream",
     "text": [
      "[Epoch 57] Training: 100%|██████████| 45/45 [00:09<00:00,  4.68it/s]\n"
     ]
    },
    {
     "name": "stdout",
     "output_type": "stream",
     "text": [
      "[Epoch 57] Train Loss: 0.6923, Val Loss: 0.6925, IoU: 0.2032\n"
     ]
    },
    {
     "name": "stderr",
     "output_type": "stream",
     "text": [
      "[Epoch 58] Training: 100%|██████████| 45/45 [00:09<00:00,  4.68it/s]\n"
     ]
    },
    {
     "name": "stdout",
     "output_type": "stream",
     "text": [
      "[Epoch 58] Train Loss: 0.6923, Val Loss: 0.6929, IoU: 0.3283\n"
     ]
    },
    {
     "name": "stderr",
     "output_type": "stream",
     "text": [
      "[Epoch 59] Training: 100%|██████████| 45/45 [00:09<00:00,  4.64it/s]\n"
     ]
    },
    {
     "name": "stdout",
     "output_type": "stream",
     "text": [
      "[Epoch 59] Train Loss: 0.6922, Val Loss: 0.6925, IoU: 0.2331\n"
     ]
    },
    {
     "name": "stderr",
     "output_type": "stream",
     "text": [
      "[Epoch 60] Training: 100%|██████████| 45/45 [00:09<00:00,  4.66it/s]\n"
     ]
    },
    {
     "name": "stdout",
     "output_type": "stream",
     "text": [
      "[Epoch 60] Train Loss: 0.6922, Val Loss: 0.6923, IoU: 0.3127\n"
     ]
    },
    {
     "name": "stderr",
     "output_type": "stream",
     "text": [
      "[Epoch 61] Training: 100%|██████████| 45/45 [00:09<00:00,  4.65it/s]\n"
     ]
    },
    {
     "name": "stdout",
     "output_type": "stream",
     "text": [
      "[Epoch 61] Train Loss: 0.6921, Val Loss: 0.6929, IoU: 0.3471\n"
     ]
    },
    {
     "name": "stderr",
     "output_type": "stream",
     "text": [
      "[Epoch 62] Training: 100%|██████████| 45/45 [00:09<00:00,  4.67it/s]\n"
     ]
    },
    {
     "name": "stdout",
     "output_type": "stream",
     "text": [
      "[Epoch 62] Train Loss: 0.6923, Val Loss: 0.6924, IoU: 0.3124\n"
     ]
    },
    {
     "name": "stderr",
     "output_type": "stream",
     "text": [
      "[Epoch 63] Training: 100%|██████████| 45/45 [00:09<00:00,  4.68it/s]\n"
     ]
    },
    {
     "name": "stdout",
     "output_type": "stream",
     "text": [
      "[Epoch 63] Train Loss: 0.6921, Val Loss: 0.6924, IoU: 0.2301\n"
     ]
    },
    {
     "name": "stderr",
     "output_type": "stream",
     "text": [
      "[Epoch 64] Training: 100%|██████████| 45/45 [00:09<00:00,  4.68it/s]\n"
     ]
    },
    {
     "name": "stdout",
     "output_type": "stream",
     "text": [
      "[Epoch 64] Train Loss: 0.6921, Val Loss: 0.6923, IoU: 0.2310\n"
     ]
    },
    {
     "name": "stderr",
     "output_type": "stream",
     "text": [
      "[Epoch 65] Training: 100%|██████████| 45/45 [00:09<00:00,  4.67it/s]\n"
     ]
    },
    {
     "name": "stdout",
     "output_type": "stream",
     "text": [
      "[Epoch 65] Train Loss: 0.6921, Val Loss: 0.6922, IoU: 0.2497\n"
     ]
    },
    {
     "name": "stderr",
     "output_type": "stream",
     "text": [
      "[Epoch 66] Training: 100%|██████████| 45/45 [00:09<00:00,  4.67it/s]\n"
     ]
    },
    {
     "name": "stdout",
     "output_type": "stream",
     "text": [
      "[Epoch 66] Train Loss: 0.6920, Val Loss: 0.6922, IoU: 0.2700\n"
     ]
    },
    {
     "name": "stderr",
     "output_type": "stream",
     "text": [
      "[Epoch 67] Training: 100%|██████████| 45/45 [00:09<00:00,  4.67it/s]\n"
     ]
    },
    {
     "name": "stdout",
     "output_type": "stream",
     "text": [
      "[Epoch 67] Train Loss: 0.6920, Val Loss: 0.6922, IoU: 0.2453\n"
     ]
    },
    {
     "name": "stderr",
     "output_type": "stream",
     "text": [
      "[Epoch 68] Training: 100%|██████████| 45/45 [00:09<00:00,  4.68it/s]\n"
     ]
    },
    {
     "name": "stdout",
     "output_type": "stream",
     "text": [
      "[Epoch 68] Train Loss: 0.6920, Val Loss: 0.6924, IoU: 0.2154\n"
     ]
    },
    {
     "name": "stderr",
     "output_type": "stream",
     "text": [
      "[Epoch 69] Training: 100%|██████████| 45/45 [00:09<00:00,  4.68it/s]\n"
     ]
    },
    {
     "name": "stdout",
     "output_type": "stream",
     "text": [
      "[Epoch 69] Train Loss: 0.6920, Val Loss: 0.6924, IoU: 0.2915\n"
     ]
    },
    {
     "name": "stderr",
     "output_type": "stream",
     "text": [
      "[Epoch 70] Training: 100%|██████████| 45/45 [00:09<00:00,  4.68it/s]\n"
     ]
    },
    {
     "name": "stdout",
     "output_type": "stream",
     "text": [
      "[Epoch 70] Train Loss: 0.6920, Val Loss: 0.6923, IoU: 0.2073\n"
     ]
    },
    {
     "name": "stderr",
     "output_type": "stream",
     "text": [
      "[Epoch 71] Training: 100%|██████████| 45/45 [00:09<00:00,  4.67it/s]\n"
     ]
    },
    {
     "name": "stdout",
     "output_type": "stream",
     "text": [
      "[Epoch 71] Train Loss: 0.6920, Val Loss: 0.6923, IoU: 0.2153\n"
     ]
    },
    {
     "name": "stderr",
     "output_type": "stream",
     "text": [
      "[Epoch 72] Training: 100%|██████████| 45/45 [00:09<00:00,  4.63it/s]\n"
     ]
    },
    {
     "name": "stdout",
     "output_type": "stream",
     "text": [
      "[Epoch 72] Train Loss: 0.6920, Val Loss: 0.6922, IoU: 0.2680\n"
     ]
    },
    {
     "name": "stderr",
     "output_type": "stream",
     "text": [
      "[Epoch 73] Training: 100%|██████████| 45/45 [00:09<00:00,  4.63it/s]\n"
     ]
    },
    {
     "name": "stdout",
     "output_type": "stream",
     "text": [
      "[Epoch 73] Train Loss: 0.6919, Val Loss: 0.6922, IoU: 0.3328\n"
     ]
    },
    {
     "name": "stderr",
     "output_type": "stream",
     "text": [
      "[Epoch 74] Training: 100%|██████████| 45/45 [00:09<00:00,  4.67it/s]\n"
     ]
    },
    {
     "name": "stdout",
     "output_type": "stream",
     "text": [
      "[Epoch 74] Train Loss: 0.6919, Val Loss: 0.6922, IoU: 0.2649\n"
     ]
    },
    {
     "name": "stderr",
     "output_type": "stream",
     "text": [
      "[Epoch 75] Training: 100%|██████████| 45/45 [00:09<00:00,  4.68it/s]\n"
     ]
    },
    {
     "name": "stdout",
     "output_type": "stream",
     "text": [
      "[Epoch 75] Train Loss: 0.6919, Val Loss: 0.6925, IoU: 0.3393\n"
     ]
    },
    {
     "name": "stderr",
     "output_type": "stream",
     "text": [
      "[Epoch 76] Training: 100%|██████████| 45/45 [00:09<00:00,  4.67it/s]\n"
     ]
    },
    {
     "name": "stdout",
     "output_type": "stream",
     "text": [
      "[Epoch 76] Train Loss: 0.6919, Val Loss: 0.6921, IoU: 0.2714\n"
     ]
    },
    {
     "name": "stderr",
     "output_type": "stream",
     "text": [
      "[Epoch 77] Training: 100%|██████████| 45/45 [00:09<00:00,  4.66it/s]\n"
     ]
    },
    {
     "name": "stdout",
     "output_type": "stream",
     "text": [
      "[Epoch 77] Train Loss: 0.6919, Val Loss: 0.6920, IoU: 0.2650\n"
     ]
    },
    {
     "name": "stderr",
     "output_type": "stream",
     "text": [
      "[Epoch 78] Training: 100%|██████████| 45/45 [00:09<00:00,  4.67it/s]\n"
     ]
    },
    {
     "name": "stdout",
     "output_type": "stream",
     "text": [
      "[Epoch 78] Train Loss: 0.6919, Val Loss: 0.6922, IoU: 0.2743\n"
     ]
    },
    {
     "name": "stderr",
     "output_type": "stream",
     "text": [
      "[Epoch 79] Training: 100%|██████████| 45/45 [00:09<00:00,  4.66it/s]\n"
     ]
    },
    {
     "name": "stdout",
     "output_type": "stream",
     "text": [
      "[Epoch 79] Train Loss: 0.6918, Val Loss: 0.6921, IoU: 0.3140\n"
     ]
    },
    {
     "name": "stderr",
     "output_type": "stream",
     "text": [
      "[Epoch 80] Training: 100%|██████████| 45/45 [00:09<00:00,  4.69it/s]\n"
     ]
    },
    {
     "name": "stdout",
     "output_type": "stream",
     "text": [
      "[Epoch 80] Train Loss: 0.6919, Val Loss: 0.6923, IoU: 0.2388\n",
      "Accuracy: 0.9840, Precision: 0.7410, Recall: 0.2606, F1 Score: 0.3855\n",
      "Confusion Matrix:\n",
      "[[1427465    2563]\n",
      " [  20814    7334]]\n"
     ]
    }
   ],
   "source": [
    "# BCEWithLogitsLoss\n",
    "ECAunet = ECAUNet(in_channels=4, out_channels=1).to(device)\n",
    "results_ECA_BCEWithLogitsLoss = train_model(ECAunet, train_loader, val_loader, criterion1, device, num_epochs=80)\n",
    "metrics = evaluate_metrics(results_ECA_BCEWithLogitsLoss)"
   ]
  },
  {
   "cell_type": "code",
   "execution_count": 24,
   "id": "3b593386",
   "metadata": {},
   "outputs": [
    {
     "name": "stderr",
     "output_type": "stream",
     "text": [
      "[Epoch 1] Training: 100%|██████████| 45/45 [00:09<00:00,  4.62it/s]\n"
     ]
    },
    {
     "name": "stdout",
     "output_type": "stream",
     "text": [
      "[Epoch 1] Train Loss: 0.8501, Val Loss: 0.7949, IoU: 0.0373\n"
     ]
    },
    {
     "name": "stderr",
     "output_type": "stream",
     "text": [
      "[Epoch 2] Training: 100%|██████████| 45/45 [00:09<00:00,  4.62it/s]\n"
     ]
    },
    {
     "name": "stdout",
     "output_type": "stream",
     "text": [
      "[Epoch 2] Train Loss: 0.7615, Val Loss: 0.7337, IoU: 0.0203\n"
     ]
    },
    {
     "name": "stderr",
     "output_type": "stream",
     "text": [
      "[Epoch 3] Training: 100%|██████████| 45/45 [00:09<00:00,  4.63it/s]\n"
     ]
    },
    {
     "name": "stdout",
     "output_type": "stream",
     "text": [
      "[Epoch 3] Train Loss: 0.7314, Val Loss: 0.7221, IoU: 0.0193\n"
     ]
    },
    {
     "name": "stderr",
     "output_type": "stream",
     "text": [
      "[Epoch 4] Training: 100%|██████████| 45/45 [00:09<00:00,  4.62it/s]\n"
     ]
    },
    {
     "name": "stdout",
     "output_type": "stream",
     "text": [
      "[Epoch 4] Train Loss: 0.7159, Val Loss: 0.7125, IoU: 0.0194\n"
     ]
    },
    {
     "name": "stderr",
     "output_type": "stream",
     "text": [
      "[Epoch 5] Training: 100%|██████████| 45/45 [00:09<00:00,  4.62it/s]\n"
     ]
    },
    {
     "name": "stdout",
     "output_type": "stream",
     "text": [
      "[Epoch 5] Train Loss: 0.7083, Val Loss: 0.7054, IoU: 0.0193\n"
     ]
    },
    {
     "name": "stderr",
     "output_type": "stream",
     "text": [
      "[Epoch 6] Training: 100%|██████████| 45/45 [00:09<00:00,  4.63it/s]\n"
     ]
    },
    {
     "name": "stdout",
     "output_type": "stream",
     "text": [
      "[Epoch 6] Train Loss: 0.7037, Val Loss: 0.7027, IoU: 0.0193\n"
     ]
    },
    {
     "name": "stderr",
     "output_type": "stream",
     "text": [
      "[Epoch 7] Training: 100%|██████████| 45/45 [00:09<00:00,  4.61it/s]\n"
     ]
    },
    {
     "name": "stdout",
     "output_type": "stream",
     "text": [
      "[Epoch 7] Train Loss: 0.7011, Val Loss: 0.7006, IoU: 0.0193\n"
     ]
    },
    {
     "name": "stderr",
     "output_type": "stream",
     "text": [
      "[Epoch 8] Training: 100%|██████████| 45/45 [00:09<00:00,  4.63it/s]\n"
     ]
    },
    {
     "name": "stdout",
     "output_type": "stream",
     "text": [
      "[Epoch 8] Train Loss: 0.6993, Val Loss: 0.6987, IoU: 0.0193\n"
     ]
    },
    {
     "name": "stderr",
     "output_type": "stream",
     "text": [
      "[Epoch 9] Training: 100%|██████████| 45/45 [00:09<00:00,  4.63it/s]\n"
     ]
    },
    {
     "name": "stdout",
     "output_type": "stream",
     "text": [
      "[Epoch 9] Train Loss: 0.6981, Val Loss: 0.6979, IoU: 0.0193\n"
     ]
    },
    {
     "name": "stderr",
     "output_type": "stream",
     "text": [
      "[Epoch 10] Training: 100%|██████████| 45/45 [00:09<00:00,  4.62it/s]\n"
     ]
    },
    {
     "name": "stdout",
     "output_type": "stream",
     "text": [
      "[Epoch 10] Train Loss: 0.6972, Val Loss: 0.6971, IoU: 0.0193\n"
     ]
    },
    {
     "name": "stderr",
     "output_type": "stream",
     "text": [
      "[Epoch 11] Training: 100%|██████████| 45/45 [00:09<00:00,  4.60it/s]\n"
     ]
    },
    {
     "name": "stdout",
     "output_type": "stream",
     "text": [
      "[Epoch 11] Train Loss: 0.6965, Val Loss: 0.6965, IoU: 0.0194\n"
     ]
    },
    {
     "name": "stderr",
     "output_type": "stream",
     "text": [
      "[Epoch 12] Training: 100%|██████████| 45/45 [00:09<00:00,  4.61it/s]\n"
     ]
    },
    {
     "name": "stdout",
     "output_type": "stream",
     "text": [
      "[Epoch 12] Train Loss: 0.6960, Val Loss: 0.6960, IoU: 0.0194\n"
     ]
    },
    {
     "name": "stderr",
     "output_type": "stream",
     "text": [
      "[Epoch 13] Training: 100%|██████████| 45/45 [00:09<00:00,  4.68it/s]\n"
     ]
    },
    {
     "name": "stdout",
     "output_type": "stream",
     "text": [
      "[Epoch 13] Train Loss: 0.6956, Val Loss: 0.6955, IoU: 0.0193\n"
     ]
    },
    {
     "name": "stderr",
     "output_type": "stream",
     "text": [
      "[Epoch 14] Training: 100%|██████████| 45/45 [00:09<00:00,  4.67it/s]\n"
     ]
    },
    {
     "name": "stdout",
     "output_type": "stream",
     "text": [
      "[Epoch 14] Train Loss: 0.6953, Val Loss: 0.6954, IoU: 0.0193\n"
     ]
    },
    {
     "name": "stderr",
     "output_type": "stream",
     "text": [
      "[Epoch 15] Training: 100%|██████████| 45/45 [00:09<00:00,  4.66it/s]\n"
     ]
    },
    {
     "name": "stdout",
     "output_type": "stream",
     "text": [
      "[Epoch 15] Train Loss: 0.6950, Val Loss: 0.6950, IoU: 0.0193\n"
     ]
    },
    {
     "name": "stderr",
     "output_type": "stream",
     "text": [
      "[Epoch 16] Training: 100%|██████████| 45/45 [00:09<00:00,  4.66it/s]\n"
     ]
    },
    {
     "name": "stdout",
     "output_type": "stream",
     "text": [
      "[Epoch 16] Train Loss: 0.6948, Val Loss: 0.6948, IoU: 0.0193\n"
     ]
    },
    {
     "name": "stderr",
     "output_type": "stream",
     "text": [
      "[Epoch 17] Training: 100%|██████████| 45/45 [00:09<00:00,  4.67it/s]\n"
     ]
    },
    {
     "name": "stdout",
     "output_type": "stream",
     "text": [
      "[Epoch 17] Train Loss: 0.6946, Val Loss: 0.6947, IoU: 0.0193\n"
     ]
    },
    {
     "name": "stderr",
     "output_type": "stream",
     "text": [
      "[Epoch 18] Training: 100%|██████████| 45/45 [00:09<00:00,  4.68it/s]\n"
     ]
    },
    {
     "name": "stdout",
     "output_type": "stream",
     "text": [
      "[Epoch 18] Train Loss: 0.6945, Val Loss: 0.6945, IoU: 0.0193\n"
     ]
    },
    {
     "name": "stderr",
     "output_type": "stream",
     "text": [
      "[Epoch 19] Training: 100%|██████████| 45/45 [00:09<00:00,  4.66it/s]\n"
     ]
    },
    {
     "name": "stdout",
     "output_type": "stream",
     "text": [
      "[Epoch 19] Train Loss: 0.6944, Val Loss: 0.6945, IoU: 0.0194\n"
     ]
    },
    {
     "name": "stderr",
     "output_type": "stream",
     "text": [
      "[Epoch 20] Training: 100%|██████████| 45/45 [00:09<00:00,  4.65it/s]\n"
     ]
    },
    {
     "name": "stdout",
     "output_type": "stream",
     "text": [
      "[Epoch 20] Train Loss: 0.6943, Val Loss: 0.6943, IoU: 0.0193\n"
     ]
    },
    {
     "name": "stderr",
     "output_type": "stream",
     "text": [
      "[Epoch 21] Training: 100%|██████████| 45/45 [00:09<00:00,  4.69it/s]\n"
     ]
    },
    {
     "name": "stdout",
     "output_type": "stream",
     "text": [
      "[Epoch 21] Train Loss: 0.6942, Val Loss: 0.6943, IoU: 0.0194\n"
     ]
    },
    {
     "name": "stderr",
     "output_type": "stream",
     "text": [
      "[Epoch 22] Training: 100%|██████████| 45/45 [00:09<00:00,  4.68it/s]\n"
     ]
    },
    {
     "name": "stdout",
     "output_type": "stream",
     "text": [
      "[Epoch 22] Train Loss: 0.6941, Val Loss: 0.6941, IoU: 0.0193\n"
     ]
    },
    {
     "name": "stderr",
     "output_type": "stream",
     "text": [
      "[Epoch 23] Training: 100%|██████████| 45/45 [00:09<00:00,  4.68it/s]\n"
     ]
    },
    {
     "name": "stdout",
     "output_type": "stream",
     "text": [
      "[Epoch 23] Train Loss: 0.6940, Val Loss: 0.6941, IoU: 0.0193\n"
     ]
    },
    {
     "name": "stderr",
     "output_type": "stream",
     "text": [
      "[Epoch 24] Training: 100%|██████████| 45/45 [00:09<00:00,  4.68it/s]\n"
     ]
    },
    {
     "name": "stdout",
     "output_type": "stream",
     "text": [
      "[Epoch 24] Train Loss: 0.6939, Val Loss: 0.6940, IoU: 0.0193\n"
     ]
    },
    {
     "name": "stderr",
     "output_type": "stream",
     "text": [
      "[Epoch 25] Training: 100%|██████████| 45/45 [00:09<00:00,  4.68it/s]\n"
     ]
    },
    {
     "name": "stdout",
     "output_type": "stream",
     "text": [
      "[Epoch 25] Train Loss: 0.6939, Val Loss: 0.6940, IoU: 0.0194\n"
     ]
    },
    {
     "name": "stderr",
     "output_type": "stream",
     "text": [
      "[Epoch 26] Training: 100%|██████████| 45/45 [00:09<00:00,  4.69it/s]\n"
     ]
    },
    {
     "name": "stdout",
     "output_type": "stream",
     "text": [
      "[Epoch 26] Train Loss: 0.6938, Val Loss: 0.6939, IoU: 0.0193\n"
     ]
    },
    {
     "name": "stderr",
     "output_type": "stream",
     "text": [
      "[Epoch 27] Training: 100%|██████████| 45/45 [00:09<00:00,  4.68it/s]\n"
     ]
    },
    {
     "name": "stdout",
     "output_type": "stream",
     "text": [
      "[Epoch 27] Train Loss: 0.6938, Val Loss: 0.6939, IoU: 0.0194\n"
     ]
    },
    {
     "name": "stderr",
     "output_type": "stream",
     "text": [
      "[Epoch 28] Training: 100%|██████████| 45/45 [00:09<00:00,  4.69it/s]\n"
     ]
    },
    {
     "name": "stdout",
     "output_type": "stream",
     "text": [
      "[Epoch 28] Train Loss: 0.6937, Val Loss: 0.6950, IoU: 0.0194\n"
     ]
    },
    {
     "name": "stderr",
     "output_type": "stream",
     "text": [
      "[Epoch 29] Training: 100%|██████████| 45/45 [00:09<00:00,  4.70it/s]\n"
     ]
    },
    {
     "name": "stdout",
     "output_type": "stream",
     "text": [
      "[Epoch 29] Train Loss: 0.6937, Val Loss: 0.6938, IoU: 0.0335\n"
     ]
    },
    {
     "name": "stderr",
     "output_type": "stream",
     "text": [
      "[Epoch 30] Training: 100%|██████████| 45/45 [00:09<00:00,  4.68it/s]\n"
     ]
    },
    {
     "name": "stdout",
     "output_type": "stream",
     "text": [
      "[Epoch 30] Train Loss: 0.6937, Val Loss: 0.6939, IoU: 0.0193\n"
     ]
    },
    {
     "name": "stderr",
     "output_type": "stream",
     "text": [
      "[Epoch 31] Training: 100%|██████████| 45/45 [00:09<00:00,  4.69it/s]\n"
     ]
    },
    {
     "name": "stdout",
     "output_type": "stream",
     "text": [
      "[Epoch 31] Train Loss: 0.6935, Val Loss: 0.6941, IoU: 0.0474\n"
     ]
    },
    {
     "name": "stderr",
     "output_type": "stream",
     "text": [
      "[Epoch 32] Training: 100%|██████████| 45/45 [00:09<00:00,  4.69it/s]\n"
     ]
    },
    {
     "name": "stdout",
     "output_type": "stream",
     "text": [
      "[Epoch 32] Train Loss: 0.6934, Val Loss: 0.6958, IoU: 0.0826\n"
     ]
    },
    {
     "name": "stderr",
     "output_type": "stream",
     "text": [
      "[Epoch 33] Training: 100%|██████████| 45/45 [00:09<00:00,  4.68it/s]\n"
     ]
    },
    {
     "name": "stdout",
     "output_type": "stream",
     "text": [
      "[Epoch 33] Train Loss: 0.6932, Val Loss: 0.6933, IoU: 0.1059\n"
     ]
    },
    {
     "name": "stderr",
     "output_type": "stream",
     "text": [
      "[Epoch 34] Training: 100%|██████████| 45/45 [00:09<00:00,  4.66it/s]\n"
     ]
    },
    {
     "name": "stdout",
     "output_type": "stream",
     "text": [
      "[Epoch 34] Train Loss: 0.6932, Val Loss: 0.6936, IoU: 0.0617\n"
     ]
    },
    {
     "name": "stderr",
     "output_type": "stream",
     "text": [
      "[Epoch 35] Training: 100%|██████████| 45/45 [00:09<00:00,  4.65it/s]\n"
     ]
    },
    {
     "name": "stdout",
     "output_type": "stream",
     "text": [
      "[Epoch 35] Train Loss: 0.6931, Val Loss: 0.6940, IoU: 0.1176\n"
     ]
    },
    {
     "name": "stderr",
     "output_type": "stream",
     "text": [
      "[Epoch 36] Training: 100%|██████████| 45/45 [00:09<00:00,  4.66it/s]\n"
     ]
    },
    {
     "name": "stdout",
     "output_type": "stream",
     "text": [
      "[Epoch 36] Train Loss: 0.6930, Val Loss: 0.6933, IoU: 0.0261\n"
     ]
    },
    {
     "name": "stderr",
     "output_type": "stream",
     "text": [
      "[Epoch 37] Training: 100%|██████████| 45/45 [00:09<00:00,  4.68it/s]\n"
     ]
    },
    {
     "name": "stdout",
     "output_type": "stream",
     "text": [
      "[Epoch 37] Train Loss: 0.6930, Val Loss: 0.6956, IoU: 0.1805\n"
     ]
    },
    {
     "name": "stderr",
     "output_type": "stream",
     "text": [
      "[Epoch 38] Training: 100%|██████████| 45/45 [00:09<00:00,  4.68it/s]\n"
     ]
    },
    {
     "name": "stdout",
     "output_type": "stream",
     "text": [
      "[Epoch 38] Train Loss: 0.6929, Val Loss: 0.6937, IoU: 0.1219\n"
     ]
    },
    {
     "name": "stderr",
     "output_type": "stream",
     "text": [
      "[Epoch 39] Training: 100%|██████████| 45/45 [00:09<00:00,  4.67it/s]\n"
     ]
    },
    {
     "name": "stdout",
     "output_type": "stream",
     "text": [
      "[Epoch 39] Train Loss: 0.6929, Val Loss: 0.6930, IoU: 0.1903\n"
     ]
    },
    {
     "name": "stderr",
     "output_type": "stream",
     "text": [
      "[Epoch 40] Training: 100%|██████████| 45/45 [00:09<00:00,  4.68it/s]\n"
     ]
    },
    {
     "name": "stdout",
     "output_type": "stream",
     "text": [
      "[Epoch 40] Train Loss: 0.6928, Val Loss: 0.6948, IoU: 0.2399\n"
     ]
    },
    {
     "name": "stderr",
     "output_type": "stream",
     "text": [
      "[Epoch 41] Training: 100%|██████████| 45/45 [00:09<00:00,  4.68it/s]\n"
     ]
    },
    {
     "name": "stdout",
     "output_type": "stream",
     "text": [
      "[Epoch 41] Train Loss: 0.6928, Val Loss: 0.6935, IoU: 0.1821\n"
     ]
    },
    {
     "name": "stderr",
     "output_type": "stream",
     "text": [
      "[Epoch 42] Training: 100%|██████████| 45/45 [00:09<00:00,  4.68it/s]\n"
     ]
    },
    {
     "name": "stdout",
     "output_type": "stream",
     "text": [
      "[Epoch 42] Train Loss: 0.6928, Val Loss: 0.6967, IoU: 0.1806\n"
     ]
    },
    {
     "name": "stderr",
     "output_type": "stream",
     "text": [
      "[Epoch 43] Training: 100%|██████████| 45/45 [00:09<00:00,  4.67it/s]\n"
     ]
    },
    {
     "name": "stdout",
     "output_type": "stream",
     "text": [
      "[Epoch 43] Train Loss: 0.6928, Val Loss: 0.6946, IoU: 0.1785\n"
     ]
    },
    {
     "name": "stderr",
     "output_type": "stream",
     "text": [
      "[Epoch 44] Training: 100%|██████████| 45/45 [00:09<00:00,  4.67it/s]\n"
     ]
    },
    {
     "name": "stdout",
     "output_type": "stream",
     "text": [
      "[Epoch 44] Train Loss: 0.6928, Val Loss: 0.6937, IoU: 0.1440\n"
     ]
    },
    {
     "name": "stderr",
     "output_type": "stream",
     "text": [
      "[Epoch 45] Training: 100%|██████████| 45/45 [00:09<00:00,  4.67it/s]\n"
     ]
    },
    {
     "name": "stdout",
     "output_type": "stream",
     "text": [
      "[Epoch 45] Train Loss: 0.6926, Val Loss: 0.6935, IoU: 0.1423\n"
     ]
    },
    {
     "name": "stderr",
     "output_type": "stream",
     "text": [
      "[Epoch 46] Training: 100%|██████████| 45/45 [00:09<00:00,  4.67it/s]\n"
     ]
    },
    {
     "name": "stdout",
     "output_type": "stream",
     "text": [
      "[Epoch 46] Train Loss: 0.6926, Val Loss: 0.6933, IoU: 0.2835\n"
     ]
    },
    {
     "name": "stderr",
     "output_type": "stream",
     "text": [
      "[Epoch 47] Training: 100%|██████████| 45/45 [00:09<00:00,  4.69it/s]\n"
     ]
    },
    {
     "name": "stdout",
     "output_type": "stream",
     "text": [
      "[Epoch 47] Train Loss: 0.6926, Val Loss: 0.6932, IoU: 0.2488\n"
     ]
    },
    {
     "name": "stderr",
     "output_type": "stream",
     "text": [
      "[Epoch 48] Training: 100%|██████████| 45/45 [00:09<00:00,  4.66it/s]\n"
     ]
    },
    {
     "name": "stdout",
     "output_type": "stream",
     "text": [
      "[Epoch 48] Train Loss: 0.6925, Val Loss: 0.6944, IoU: 0.1841\n"
     ]
    },
    {
     "name": "stderr",
     "output_type": "stream",
     "text": [
      "[Epoch 49] Training: 100%|██████████| 45/45 [00:09<00:00,  4.68it/s]\n"
     ]
    },
    {
     "name": "stdout",
     "output_type": "stream",
     "text": [
      "[Epoch 49] Train Loss: 0.6925, Val Loss: 0.6957, IoU: 0.1343\n",
      "Early stopping triggered.\n",
      "Accuracy: 0.9769, Precision: 0.3267, Recall: 0.1857, F1 Score: 0.2368\n",
      "Confusion Matrix:\n",
      "[[1419256   10772]\n",
      " [  22922    5226]]\n"
     ]
    }
   ],
   "source": [
    "# BCELoss\n",
    "ECAunet = ECAUNet(in_channels=4, out_channels=1).to(device)\n",
    "results_ECA_BCELoss = train_model(ECAunet, train_loader, val_loader, criterion2, device, num_epochs=80)\n",
    "metrics = evaluate_metrics(results_ECA_BCELoss)"
   ]
  },
  {
   "cell_type": "code",
   "execution_count": 25,
   "id": "6cf12b91",
   "metadata": {},
   "outputs": [
    {
     "name": "stderr",
     "output_type": "stream",
     "text": [
      "[Epoch 1] Training: 100%|██████████| 45/45 [00:09<00:00,  4.61it/s]\n"
     ]
    },
    {
     "name": "stdout",
     "output_type": "stream",
     "text": [
      "[Epoch 1] Train Loss: 0.9009, Val Loss: 0.8785, IoU: 0.0215\n"
     ]
    },
    {
     "name": "stderr",
     "output_type": "stream",
     "text": [
      "[Epoch 2] Training: 100%|██████████| 45/45 [00:09<00:00,  4.70it/s]\n"
     ]
    },
    {
     "name": "stdout",
     "output_type": "stream",
     "text": [
      "[Epoch 2] Train Loss: 0.8479, Val Loss: 0.8661, IoU: 0.0233\n"
     ]
    },
    {
     "name": "stderr",
     "output_type": "stream",
     "text": [
      "[Epoch 3] Training: 100%|██████████| 45/45 [00:09<00:00,  4.69it/s]\n"
     ]
    },
    {
     "name": "stdout",
     "output_type": "stream",
     "text": [
      "[Epoch 3] Train Loss: 0.8300, Val Loss: 0.8249, IoU: 0.0193\n"
     ]
    },
    {
     "name": "stderr",
     "output_type": "stream",
     "text": [
      "[Epoch 4] Training: 100%|██████████| 45/45 [00:09<00:00,  4.68it/s]\n"
     ]
    },
    {
     "name": "stdout",
     "output_type": "stream",
     "text": [
      "[Epoch 4] Train Loss: 0.8218, Val Loss: 0.8185, IoU: 0.0193\n"
     ]
    },
    {
     "name": "stderr",
     "output_type": "stream",
     "text": [
      "[Epoch 5] Training: 100%|██████████| 45/45 [00:09<00:00,  4.71it/s]\n"
     ]
    },
    {
     "name": "stdout",
     "output_type": "stream",
     "text": [
      "[Epoch 5] Train Loss: 0.8178, Val Loss: 0.8164, IoU: 0.0193\n"
     ]
    },
    {
     "name": "stderr",
     "output_type": "stream",
     "text": [
      "[Epoch 6] Training: 100%|██████████| 45/45 [00:09<00:00,  4.69it/s]\n"
     ]
    },
    {
     "name": "stdout",
     "output_type": "stream",
     "text": [
      "[Epoch 6] Train Loss: 0.8154, Val Loss: 0.8162, IoU: 0.0241\n"
     ]
    },
    {
     "name": "stderr",
     "output_type": "stream",
     "text": [
      "[Epoch 7] Training: 100%|██████████| 45/45 [00:09<00:00,  4.70it/s]\n"
     ]
    },
    {
     "name": "stdout",
     "output_type": "stream",
     "text": [
      "[Epoch 7] Train Loss: 0.8137, Val Loss: 0.8128, IoU: 0.0469\n"
     ]
    },
    {
     "name": "stderr",
     "output_type": "stream",
     "text": [
      "[Epoch 8] Training: 100%|██████████| 45/45 [00:09<00:00,  4.68it/s]\n"
     ]
    },
    {
     "name": "stdout",
     "output_type": "stream",
     "text": [
      "[Epoch 8] Train Loss: 0.8124, Val Loss: 0.8132, IoU: 0.0775\n"
     ]
    },
    {
     "name": "stderr",
     "output_type": "stream",
     "text": [
      "[Epoch 9] Training: 100%|██████████| 45/45 [00:09<00:00,  4.61it/s]\n"
     ]
    },
    {
     "name": "stdout",
     "output_type": "stream",
     "text": [
      "[Epoch 9] Train Loss: 0.8115, Val Loss: 0.8141, IoU: 0.1017\n"
     ]
    },
    {
     "name": "stderr",
     "output_type": "stream",
     "text": [
      "[Epoch 10] Training: 100%|██████████| 45/45 [00:09<00:00,  4.71it/s]\n"
     ]
    },
    {
     "name": "stdout",
     "output_type": "stream",
     "text": [
      "[Epoch 10] Train Loss: 0.8108, Val Loss: 0.8105, IoU: 0.0870\n"
     ]
    },
    {
     "name": "stderr",
     "output_type": "stream",
     "text": [
      "[Epoch 11] Training: 100%|██████████| 45/45 [00:09<00:00,  4.73it/s]\n"
     ]
    },
    {
     "name": "stdout",
     "output_type": "stream",
     "text": [
      "[Epoch 11] Train Loss: 0.8103, Val Loss: 0.8106, IoU: 0.1851\n"
     ]
    },
    {
     "name": "stderr",
     "output_type": "stream",
     "text": [
      "[Epoch 12] Training: 100%|██████████| 45/45 [00:09<00:00,  4.70it/s]\n"
     ]
    },
    {
     "name": "stdout",
     "output_type": "stream",
     "text": [
      "[Epoch 12] Train Loss: 0.8097, Val Loss: 0.8104, IoU: 0.1498\n"
     ]
    },
    {
     "name": "stderr",
     "output_type": "stream",
     "text": [
      "[Epoch 13] Training: 100%|██████████| 45/45 [00:09<00:00,  4.64it/s]\n"
     ]
    },
    {
     "name": "stdout",
     "output_type": "stream",
     "text": [
      "[Epoch 13] Train Loss: 0.8093, Val Loss: 0.8098, IoU: 0.2131\n"
     ]
    },
    {
     "name": "stderr",
     "output_type": "stream",
     "text": [
      "[Epoch 14] Training: 100%|██████████| 45/45 [00:09<00:00,  4.69it/s]\n"
     ]
    },
    {
     "name": "stdout",
     "output_type": "stream",
     "text": [
      "[Epoch 14] Train Loss: 0.8090, Val Loss: 0.8095, IoU: 0.2356\n"
     ]
    },
    {
     "name": "stderr",
     "output_type": "stream",
     "text": [
      "[Epoch 15] Training: 100%|██████████| 45/45 [00:09<00:00,  4.68it/s]\n"
     ]
    },
    {
     "name": "stdout",
     "output_type": "stream",
     "text": [
      "[Epoch 15] Train Loss: 0.8089, Val Loss: 0.8094, IoU: 0.2154\n"
     ]
    },
    {
     "name": "stderr",
     "output_type": "stream",
     "text": [
      "[Epoch 16] Training: 100%|██████████| 45/45 [00:09<00:00,  4.69it/s]\n"
     ]
    },
    {
     "name": "stdout",
     "output_type": "stream",
     "text": [
      "[Epoch 16] Train Loss: 0.8086, Val Loss: 0.8094, IoU: 0.1441\n"
     ]
    },
    {
     "name": "stderr",
     "output_type": "stream",
     "text": [
      "[Epoch 17] Training: 100%|██████████| 45/45 [00:09<00:00,  4.69it/s]\n"
     ]
    },
    {
     "name": "stdout",
     "output_type": "stream",
     "text": [
      "[Epoch 17] Train Loss: 0.8084, Val Loss: 0.8091, IoU: 0.2341\n"
     ]
    },
    {
     "name": "stderr",
     "output_type": "stream",
     "text": [
      "[Epoch 18] Training: 100%|██████████| 45/45 [00:09<00:00,  4.68it/s]\n"
     ]
    },
    {
     "name": "stdout",
     "output_type": "stream",
     "text": [
      "[Epoch 18] Train Loss: 0.8083, Val Loss: 0.8087, IoU: 0.2331\n"
     ]
    },
    {
     "name": "stderr",
     "output_type": "stream",
     "text": [
      "[Epoch 19] Training: 100%|██████████| 45/45 [00:09<00:00,  4.68it/s]\n"
     ]
    },
    {
     "name": "stdout",
     "output_type": "stream",
     "text": [
      "[Epoch 19] Train Loss: 0.8081, Val Loss: 0.8086, IoU: 0.2430\n"
     ]
    },
    {
     "name": "stderr",
     "output_type": "stream",
     "text": [
      "[Epoch 20] Training: 100%|██████████| 45/45 [00:09<00:00,  4.68it/s]\n"
     ]
    },
    {
     "name": "stdout",
     "output_type": "stream",
     "text": [
      "[Epoch 20] Train Loss: 0.8081, Val Loss: 0.8086, IoU: 0.2512\n"
     ]
    },
    {
     "name": "stderr",
     "output_type": "stream",
     "text": [
      "[Epoch 21] Training: 100%|██████████| 45/45 [00:09<00:00,  4.69it/s]\n"
     ]
    },
    {
     "name": "stdout",
     "output_type": "stream",
     "text": [
      "[Epoch 21] Train Loss: 0.8079, Val Loss: 0.8082, IoU: 0.2904\n"
     ]
    },
    {
     "name": "stderr",
     "output_type": "stream",
     "text": [
      "[Epoch 22] Training: 100%|██████████| 45/45 [00:09<00:00,  4.68it/s]\n"
     ]
    },
    {
     "name": "stdout",
     "output_type": "stream",
     "text": [
      "[Epoch 22] Train Loss: 0.8080, Val Loss: 0.8083, IoU: 0.2734\n"
     ]
    },
    {
     "name": "stderr",
     "output_type": "stream",
     "text": [
      "[Epoch 23] Training: 100%|██████████| 45/45 [00:09<00:00,  4.68it/s]\n"
     ]
    },
    {
     "name": "stdout",
     "output_type": "stream",
     "text": [
      "[Epoch 23] Train Loss: 0.8078, Val Loss: 0.8080, IoU: 0.2922\n"
     ]
    },
    {
     "name": "stderr",
     "output_type": "stream",
     "text": [
      "[Epoch 24] Training: 100%|██████████| 45/45 [00:09<00:00,  4.68it/s]\n"
     ]
    },
    {
     "name": "stdout",
     "output_type": "stream",
     "text": [
      "[Epoch 24] Train Loss: 0.8077, Val Loss: 0.8079, IoU: 0.2555\n"
     ]
    },
    {
     "name": "stderr",
     "output_type": "stream",
     "text": [
      "[Epoch 25] Training: 100%|██████████| 45/45 [00:09<00:00,  4.64it/s]\n"
     ]
    },
    {
     "name": "stdout",
     "output_type": "stream",
     "text": [
      "[Epoch 25] Train Loss: 0.8076, Val Loss: 0.8086, IoU: 0.1204\n"
     ]
    },
    {
     "name": "stderr",
     "output_type": "stream",
     "text": [
      "[Epoch 26] Training: 100%|██████████| 45/45 [00:09<00:00,  4.68it/s]\n"
     ]
    },
    {
     "name": "stdout",
     "output_type": "stream",
     "text": [
      "[Epoch 26] Train Loss: 0.8076, Val Loss: 0.8079, IoU: 0.3101\n"
     ]
    },
    {
     "name": "stderr",
     "output_type": "stream",
     "text": [
      "[Epoch 27] Training: 100%|██████████| 45/45 [00:09<00:00,  4.68it/s]\n"
     ]
    },
    {
     "name": "stdout",
     "output_type": "stream",
     "text": [
      "[Epoch 27] Train Loss: 0.8075, Val Loss: 0.8077, IoU: 0.3340\n"
     ]
    },
    {
     "name": "stderr",
     "output_type": "stream",
     "text": [
      "[Epoch 28] Training: 100%|██████████| 45/45 [00:09<00:00,  4.68it/s]\n"
     ]
    },
    {
     "name": "stdout",
     "output_type": "stream",
     "text": [
      "[Epoch 28] Train Loss: 0.8075, Val Loss: 0.8077, IoU: 0.2625\n"
     ]
    },
    {
     "name": "stderr",
     "output_type": "stream",
     "text": [
      "[Epoch 29] Training: 100%|██████████| 45/45 [00:09<00:00,  4.68it/s]\n"
     ]
    },
    {
     "name": "stdout",
     "output_type": "stream",
     "text": [
      "[Epoch 29] Train Loss: 0.8073, Val Loss: 0.8077, IoU: 0.3459\n"
     ]
    },
    {
     "name": "stderr",
     "output_type": "stream",
     "text": [
      "[Epoch 30] Training: 100%|██████████| 45/45 [00:09<00:00,  4.68it/s]\n"
     ]
    },
    {
     "name": "stdout",
     "output_type": "stream",
     "text": [
      "[Epoch 30] Train Loss: 0.8074, Val Loss: 0.8077, IoU: 0.2668\n"
     ]
    },
    {
     "name": "stderr",
     "output_type": "stream",
     "text": [
      "[Epoch 31] Training: 100%|██████████| 45/45 [00:09<00:00,  4.68it/s]\n"
     ]
    },
    {
     "name": "stdout",
     "output_type": "stream",
     "text": [
      "[Epoch 31] Train Loss: 0.8074, Val Loss: 0.8075, IoU: 0.3077\n"
     ]
    },
    {
     "name": "stderr",
     "output_type": "stream",
     "text": [
      "[Epoch 32] Training: 100%|██████████| 45/45 [00:09<00:00,  4.67it/s]\n"
     ]
    },
    {
     "name": "stdout",
     "output_type": "stream",
     "text": [
      "[Epoch 32] Train Loss: 0.8073, Val Loss: 0.8074, IoU: 0.3307\n"
     ]
    },
    {
     "name": "stderr",
     "output_type": "stream",
     "text": [
      "[Epoch 33] Training: 100%|██████████| 45/45 [00:09<00:00,  4.67it/s]\n"
     ]
    },
    {
     "name": "stdout",
     "output_type": "stream",
     "text": [
      "[Epoch 33] Train Loss: 0.8071, Val Loss: 0.8075, IoU: 0.2812\n"
     ]
    },
    {
     "name": "stderr",
     "output_type": "stream",
     "text": [
      "[Epoch 34] Training: 100%|██████████| 45/45 [00:09<00:00,  4.61it/s]\n"
     ]
    },
    {
     "name": "stdout",
     "output_type": "stream",
     "text": [
      "[Epoch 34] Train Loss: 0.8072, Val Loss: 0.8073, IoU: 0.3266\n"
     ]
    },
    {
     "name": "stderr",
     "output_type": "stream",
     "text": [
      "[Epoch 35] Training: 100%|██████████| 45/45 [00:09<00:00,  4.68it/s]\n"
     ]
    },
    {
     "name": "stdout",
     "output_type": "stream",
     "text": [
      "[Epoch 35] Train Loss: 0.8072, Val Loss: 0.8073, IoU: 0.3317\n"
     ]
    },
    {
     "name": "stderr",
     "output_type": "stream",
     "text": [
      "[Epoch 36] Training: 100%|██████████| 45/45 [00:09<00:00,  4.69it/s]\n"
     ]
    },
    {
     "name": "stdout",
     "output_type": "stream",
     "text": [
      "[Epoch 36] Train Loss: 0.8071, Val Loss: 0.8075, IoU: 0.2716\n"
     ]
    },
    {
     "name": "stderr",
     "output_type": "stream",
     "text": [
      "[Epoch 37] Training: 100%|██████████| 45/45 [00:09<00:00,  4.69it/s]\n"
     ]
    },
    {
     "name": "stdout",
     "output_type": "stream",
     "text": [
      "[Epoch 37] Train Loss: 0.8071, Val Loss: 0.8072, IoU: 0.3489\n"
     ]
    },
    {
     "name": "stderr",
     "output_type": "stream",
     "text": [
      "[Epoch 38] Training: 100%|██████████| 45/45 [00:09<00:00,  4.70it/s]\n"
     ]
    },
    {
     "name": "stdout",
     "output_type": "stream",
     "text": [
      "[Epoch 38] Train Loss: 0.8070, Val Loss: 0.8075, IoU: 0.3654\n"
     ]
    },
    {
     "name": "stderr",
     "output_type": "stream",
     "text": [
      "[Epoch 39] Training: 100%|██████████| 45/45 [00:09<00:00,  4.69it/s]\n"
     ]
    },
    {
     "name": "stdout",
     "output_type": "stream",
     "text": [
      "[Epoch 39] Train Loss: 0.8069, Val Loss: 0.8074, IoU: 0.2701\n"
     ]
    },
    {
     "name": "stderr",
     "output_type": "stream",
     "text": [
      "[Epoch 40] Training: 100%|██████████| 45/45 [00:09<00:00,  4.69it/s]\n"
     ]
    },
    {
     "name": "stdout",
     "output_type": "stream",
     "text": [
      "[Epoch 40] Train Loss: 0.8070, Val Loss: 0.8072, IoU: 0.3563\n"
     ]
    },
    {
     "name": "stderr",
     "output_type": "stream",
     "text": [
      "[Epoch 41] Training: 100%|██████████| 45/45 [00:09<00:00,  4.64it/s]\n"
     ]
    },
    {
     "name": "stdout",
     "output_type": "stream",
     "text": [
      "[Epoch 41] Train Loss: 0.8070, Val Loss: 0.8072, IoU: 0.3275\n"
     ]
    },
    {
     "name": "stderr",
     "output_type": "stream",
     "text": [
      "[Epoch 42] Training: 100%|██████████| 45/45 [00:09<00:00,  4.65it/s]\n"
     ]
    },
    {
     "name": "stdout",
     "output_type": "stream",
     "text": [
      "[Epoch 42] Train Loss: 0.8070, Val Loss: 0.8080, IoU: 0.1412\n"
     ]
    },
    {
     "name": "stderr",
     "output_type": "stream",
     "text": [
      "[Epoch 43] Training: 100%|██████████| 45/45 [00:09<00:00,  4.70it/s]\n"
     ]
    },
    {
     "name": "stdout",
     "output_type": "stream",
     "text": [
      "[Epoch 43] Train Loss: 0.8070, Val Loss: 0.8073, IoU: 0.3631\n"
     ]
    },
    {
     "name": "stderr",
     "output_type": "stream",
     "text": [
      "[Epoch 44] Training: 100%|██████████| 45/45 [00:09<00:00,  4.70it/s]\n"
     ]
    },
    {
     "name": "stdout",
     "output_type": "stream",
     "text": [
      "[Epoch 44] Train Loss: 0.8070, Val Loss: 0.8070, IoU: 0.3702\n"
     ]
    },
    {
     "name": "stderr",
     "output_type": "stream",
     "text": [
      "[Epoch 45] Training: 100%|██████████| 45/45 [00:09<00:00,  4.68it/s]\n"
     ]
    },
    {
     "name": "stdout",
     "output_type": "stream",
     "text": [
      "[Epoch 45] Train Loss: 0.8068, Val Loss: 0.8072, IoU: 0.3577\n"
     ]
    },
    {
     "name": "stderr",
     "output_type": "stream",
     "text": [
      "[Epoch 46] Training: 100%|██████████| 45/45 [00:09<00:00,  4.69it/s]\n"
     ]
    },
    {
     "name": "stdout",
     "output_type": "stream",
     "text": [
      "[Epoch 46] Train Loss: 0.8067, Val Loss: 0.8072, IoU: 0.3139\n"
     ]
    },
    {
     "name": "stderr",
     "output_type": "stream",
     "text": [
      "[Epoch 47] Training: 100%|██████████| 45/45 [00:09<00:00,  4.68it/s]\n"
     ]
    },
    {
     "name": "stdout",
     "output_type": "stream",
     "text": [
      "[Epoch 47] Train Loss: 0.8070, Val Loss: 0.8071, IoU: 0.3625\n"
     ]
    },
    {
     "name": "stderr",
     "output_type": "stream",
     "text": [
      "[Epoch 48] Training: 100%|██████████| 45/45 [00:09<00:00,  4.68it/s]\n"
     ]
    },
    {
     "name": "stdout",
     "output_type": "stream",
     "text": [
      "[Epoch 48] Train Loss: 0.8066, Val Loss: 0.8081, IoU: 0.3377\n"
     ]
    },
    {
     "name": "stderr",
     "output_type": "stream",
     "text": [
      "[Epoch 49] Training: 100%|██████████| 45/45 [00:09<00:00,  4.68it/s]\n"
     ]
    },
    {
     "name": "stdout",
     "output_type": "stream",
     "text": [
      "[Epoch 49] Train Loss: 0.8068, Val Loss: 0.8070, IoU: 0.3150\n"
     ]
    },
    {
     "name": "stderr",
     "output_type": "stream",
     "text": [
      "[Epoch 50] Training: 100%|██████████| 45/45 [00:09<00:00,  4.67it/s]\n"
     ]
    },
    {
     "name": "stdout",
     "output_type": "stream",
     "text": [
      "[Epoch 50] Train Loss: 0.8067, Val Loss: 0.8069, IoU: 0.3453\n"
     ]
    },
    {
     "name": "stderr",
     "output_type": "stream",
     "text": [
      "[Epoch 51] Training: 100%|██████████| 45/45 [00:09<00:00,  4.69it/s]\n"
     ]
    },
    {
     "name": "stdout",
     "output_type": "stream",
     "text": [
      "[Epoch 51] Train Loss: 0.8066, Val Loss: 0.8072, IoU: 0.2816\n"
     ]
    },
    {
     "name": "stderr",
     "output_type": "stream",
     "text": [
      "[Epoch 52] Training: 100%|██████████| 45/45 [00:09<00:00,  4.63it/s]\n"
     ]
    },
    {
     "name": "stdout",
     "output_type": "stream",
     "text": [
      "[Epoch 52] Train Loss: 0.8067, Val Loss: 0.8071, IoU: 0.2966\n"
     ]
    },
    {
     "name": "stderr",
     "output_type": "stream",
     "text": [
      "[Epoch 53] Training: 100%|██████████| 45/45 [00:09<00:00,  4.63it/s]\n"
     ]
    },
    {
     "name": "stdout",
     "output_type": "stream",
     "text": [
      "[Epoch 53] Train Loss: 0.8068, Val Loss: 0.8077, IoU: 0.1993\n"
     ]
    },
    {
     "name": "stderr",
     "output_type": "stream",
     "text": [
      "[Epoch 54] Training: 100%|██████████| 45/45 [00:09<00:00,  4.64it/s]\n"
     ]
    },
    {
     "name": "stdout",
     "output_type": "stream",
     "text": [
      "[Epoch 54] Train Loss: 0.8066, Val Loss: 0.8071, IoU: 0.3873\n"
     ]
    },
    {
     "name": "stderr",
     "output_type": "stream",
     "text": [
      "[Epoch 55] Training: 100%|██████████| 45/45 [00:09<00:00,  4.63it/s]\n"
     ]
    },
    {
     "name": "stdout",
     "output_type": "stream",
     "text": [
      "[Epoch 55] Train Loss: 0.8066, Val Loss: 0.8069, IoU: 0.3499\n"
     ]
    },
    {
     "name": "stderr",
     "output_type": "stream",
     "text": [
      "[Epoch 56] Training: 100%|██████████| 45/45 [00:09<00:00,  4.64it/s]\n"
     ]
    },
    {
     "name": "stdout",
     "output_type": "stream",
     "text": [
      "[Epoch 56] Train Loss: 0.8066, Val Loss: 0.8069, IoU: 0.3654\n"
     ]
    },
    {
     "name": "stderr",
     "output_type": "stream",
     "text": [
      "[Epoch 57] Training: 100%|██████████| 45/45 [00:09<00:00,  4.69it/s]\n"
     ]
    },
    {
     "name": "stdout",
     "output_type": "stream",
     "text": [
      "[Epoch 57] Train Loss: 0.8068, Val Loss: 0.8070, IoU: 0.3958\n"
     ]
    },
    {
     "name": "stderr",
     "output_type": "stream",
     "text": [
      "[Epoch 58] Training: 100%|██████████| 45/45 [00:09<00:00,  4.69it/s]\n"
     ]
    },
    {
     "name": "stdout",
     "output_type": "stream",
     "text": [
      "[Epoch 58] Train Loss: 0.8067, Val Loss: 0.8068, IoU: 0.3958\n"
     ]
    },
    {
     "name": "stderr",
     "output_type": "stream",
     "text": [
      "[Epoch 59] Training: 100%|██████████| 45/45 [00:09<00:00,  4.69it/s]\n"
     ]
    },
    {
     "name": "stdout",
     "output_type": "stream",
     "text": [
      "[Epoch 59] Train Loss: 0.8066, Val Loss: 0.8070, IoU: 0.3175\n"
     ]
    },
    {
     "name": "stderr",
     "output_type": "stream",
     "text": [
      "[Epoch 60] Training: 100%|██████████| 45/45 [00:09<00:00,  4.69it/s]\n"
     ]
    },
    {
     "name": "stdout",
     "output_type": "stream",
     "text": [
      "[Epoch 60] Train Loss: 0.8066, Val Loss: 0.8071, IoU: 0.3051\n"
     ]
    },
    {
     "name": "stderr",
     "output_type": "stream",
     "text": [
      "[Epoch 61] Training: 100%|██████████| 45/45 [00:09<00:00,  4.70it/s]\n"
     ]
    },
    {
     "name": "stdout",
     "output_type": "stream",
     "text": [
      "[Epoch 61] Train Loss: 0.8065, Val Loss: 0.8074, IoU: 0.3787\n"
     ]
    },
    {
     "name": "stderr",
     "output_type": "stream",
     "text": [
      "[Epoch 62] Training: 100%|██████████| 45/45 [00:09<00:00,  4.63it/s]\n"
     ]
    },
    {
     "name": "stdout",
     "output_type": "stream",
     "text": [
      "[Epoch 62] Train Loss: 0.8065, Val Loss: 0.8069, IoU: 0.3184\n"
     ]
    },
    {
     "name": "stderr",
     "output_type": "stream",
     "text": [
      "[Epoch 63] Training: 100%|██████████| 45/45 [00:09<00:00,  4.62it/s]\n"
     ]
    },
    {
     "name": "stdout",
     "output_type": "stream",
     "text": [
      "[Epoch 63] Train Loss: 0.8064, Val Loss: 0.8068, IoU: 0.3991\n"
     ]
    },
    {
     "name": "stderr",
     "output_type": "stream",
     "text": [
      "[Epoch 64] Training: 100%|██████████| 45/45 [00:09<00:00,  4.69it/s]\n"
     ]
    },
    {
     "name": "stdout",
     "output_type": "stream",
     "text": [
      "[Epoch 64] Train Loss: 0.8065, Val Loss: 0.8072, IoU: 0.2617\n"
     ]
    },
    {
     "name": "stderr",
     "output_type": "stream",
     "text": [
      "[Epoch 65] Training: 100%|██████████| 45/45 [00:09<00:00,  4.68it/s]\n"
     ]
    },
    {
     "name": "stdout",
     "output_type": "stream",
     "text": [
      "[Epoch 65] Train Loss: 0.8064, Val Loss: 0.8067, IoU: 0.3595\n"
     ]
    },
    {
     "name": "stderr",
     "output_type": "stream",
     "text": [
      "[Epoch 66] Training: 100%|██████████| 45/45 [00:09<00:00,  4.68it/s]\n"
     ]
    },
    {
     "name": "stdout",
     "output_type": "stream",
     "text": [
      "[Epoch 66] Train Loss: 0.8064, Val Loss: 0.8067, IoU: 0.3675\n"
     ]
    },
    {
     "name": "stderr",
     "output_type": "stream",
     "text": [
      "[Epoch 67] Training: 100%|██████████| 45/45 [00:09<00:00,  4.68it/s]\n"
     ]
    },
    {
     "name": "stdout",
     "output_type": "stream",
     "text": [
      "[Epoch 67] Train Loss: 0.8064, Val Loss: 0.8069, IoU: 0.3327\n"
     ]
    },
    {
     "name": "stderr",
     "output_type": "stream",
     "text": [
      "[Epoch 68] Training: 100%|██████████| 45/45 [00:09<00:00,  4.69it/s]\n"
     ]
    },
    {
     "name": "stdout",
     "output_type": "stream",
     "text": [
      "[Epoch 68] Train Loss: 0.8065, Val Loss: 0.8067, IoU: 0.3664\n"
     ]
    },
    {
     "name": "stderr",
     "output_type": "stream",
     "text": [
      "[Epoch 69] Training: 100%|██████████| 45/45 [00:09<00:00,  4.68it/s]\n"
     ]
    },
    {
     "name": "stdout",
     "output_type": "stream",
     "text": [
      "[Epoch 69] Train Loss: 0.8063, Val Loss: 0.8068, IoU: 0.3635\n"
     ]
    },
    {
     "name": "stderr",
     "output_type": "stream",
     "text": [
      "[Epoch 70] Training: 100%|██████████| 45/45 [00:09<00:00,  4.69it/s]\n"
     ]
    },
    {
     "name": "stdout",
     "output_type": "stream",
     "text": [
      "[Epoch 70] Train Loss: 0.8063, Val Loss: 0.8067, IoU: 0.3430\n"
     ]
    },
    {
     "name": "stderr",
     "output_type": "stream",
     "text": [
      "[Epoch 71] Training: 100%|██████████| 45/45 [00:09<00:00,  4.68it/s]\n"
     ]
    },
    {
     "name": "stdout",
     "output_type": "stream",
     "text": [
      "[Epoch 71] Train Loss: 0.8064, Val Loss: 0.8068, IoU: 0.3402\n"
     ]
    },
    {
     "name": "stderr",
     "output_type": "stream",
     "text": [
      "[Epoch 72] Training: 100%|██████████| 45/45 [00:09<00:00,  4.67it/s]\n"
     ]
    },
    {
     "name": "stdout",
     "output_type": "stream",
     "text": [
      "[Epoch 72] Train Loss: 0.8062, Val Loss: 0.8072, IoU: 0.4008\n"
     ]
    },
    {
     "name": "stderr",
     "output_type": "stream",
     "text": [
      "[Epoch 73] Training: 100%|██████████| 45/45 [00:09<00:00,  4.68it/s]\n"
     ]
    },
    {
     "name": "stdout",
     "output_type": "stream",
     "text": [
      "[Epoch 73] Train Loss: 0.8065, Val Loss: 0.8069, IoU: 0.3294\n"
     ]
    },
    {
     "name": "stderr",
     "output_type": "stream",
     "text": [
      "[Epoch 74] Training: 100%|██████████| 45/45 [00:09<00:00,  4.67it/s]\n"
     ]
    },
    {
     "name": "stdout",
     "output_type": "stream",
     "text": [
      "[Epoch 74] Train Loss: 0.8064, Val Loss: 0.8071, IoU: 0.3045\n"
     ]
    },
    {
     "name": "stderr",
     "output_type": "stream",
     "text": [
      "[Epoch 75] Training: 100%|██████████| 45/45 [00:09<00:00,  4.68it/s]\n"
     ]
    },
    {
     "name": "stdout",
     "output_type": "stream",
     "text": [
      "[Epoch 75] Train Loss: 0.8065, Val Loss: 0.8066, IoU: 0.3864\n"
     ]
    },
    {
     "name": "stderr",
     "output_type": "stream",
     "text": [
      "[Epoch 76] Training: 100%|██████████| 45/45 [00:09<00:00,  4.70it/s]\n"
     ]
    },
    {
     "name": "stdout",
     "output_type": "stream",
     "text": [
      "[Epoch 76] Train Loss: 0.8062, Val Loss: 0.8065, IoU: 0.3886\n"
     ]
    },
    {
     "name": "stderr",
     "output_type": "stream",
     "text": [
      "[Epoch 77] Training: 100%|██████████| 45/45 [00:09<00:00,  4.67it/s]\n"
     ]
    },
    {
     "name": "stdout",
     "output_type": "stream",
     "text": [
      "[Epoch 77] Train Loss: 0.8064, Val Loss: 0.8069, IoU: 0.3329\n"
     ]
    },
    {
     "name": "stderr",
     "output_type": "stream",
     "text": [
      "[Epoch 78] Training: 100%|██████████| 45/45 [00:09<00:00,  4.65it/s]\n"
     ]
    },
    {
     "name": "stdout",
     "output_type": "stream",
     "text": [
      "[Epoch 78] Train Loss: 0.8062, Val Loss: 0.8067, IoU: 0.3603\n"
     ]
    },
    {
     "name": "stderr",
     "output_type": "stream",
     "text": [
      "[Epoch 79] Training: 100%|██████████| 45/45 [00:09<00:00,  4.68it/s]\n"
     ]
    },
    {
     "name": "stdout",
     "output_type": "stream",
     "text": [
      "[Epoch 79] Train Loss: 0.8062, Val Loss: 0.8067, IoU: 0.3695\n"
     ]
    },
    {
     "name": "stderr",
     "output_type": "stream",
     "text": [
      "[Epoch 80] Training: 100%|██████████| 45/45 [00:09<00:00,  4.68it/s]\n"
     ]
    },
    {
     "name": "stdout",
     "output_type": "stream",
     "text": [
      "[Epoch 80] Train Loss: 0.8062, Val Loss: 0.8066, IoU: 0.3685\n",
      "Accuracy: 0.9856, Precision: 0.7022, Recall: 0.4368, F1 Score: 0.5386\n",
      "Confusion Matrix:\n",
      "[[1424815    5213]\n",
      " [  15854   12294]]\n"
     ]
    }
   ],
   "source": [
    "# ComboLoss\n",
    "ECAunet = ECAUNet(in_channels=4, out_channels=1).to(device)\n",
    "results_ECA_ComboLoss = train_model(ECAunet, train_loader, val_loader, criterion3, device, num_epochs=80)\n",
    "metrics = evaluate_metrics(results_ECA_ComboLoss)"
   ]
  }
 ],
 "metadata": {
  "kernelspec": {
   "display_name": "pyt",
   "language": "python",
   "name": "python3"
  },
  "language_info": {
   "codemirror_mode": {
    "name": "ipython",
    "version": 3
   },
   "file_extension": ".py",
   "mimetype": "text/x-python",
   "name": "python",
   "nbconvert_exporter": "python",
   "pygments_lexer": "ipython3",
   "version": "3.12.2"
  }
 },
 "nbformat": 4,
 "nbformat_minor": 5
}
